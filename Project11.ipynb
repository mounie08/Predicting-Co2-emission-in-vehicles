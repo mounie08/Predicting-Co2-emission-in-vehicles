{
 "cells": [
  {
   "cell_type": "code",
   "execution_count": 1,
   "metadata": {},
   "outputs": [],
   "source": [
    "import pandas as pd\n",
    "import numpy as np\n",
    "from collections import Counter as c\n",
    "import seaborn as sns\n",
    "import matplotlib.pyplot as plt\n",
    "import missingno as msno\n",
    "from sklearn.model_selection import train_test_split\n",
    "from sklearn.metrics import accuracy_score,mean_squared_error,mean_absolute_error\n",
    "import pickle\n",
    "from sklearn.linear_model import LinearRegression"
   ]
  },
  {
   "cell_type": "code",
   "execution_count": 3,
   "metadata": {},
   "outputs": [],
   "source": [
    "data=pd.read_csv(\"CO2 Emissions_Canada.csv\")"
   ]
  },
  {
   "cell_type": "code",
   "execution_count": 35,
   "metadata": {},
   "outputs": [],
   "source": [
    "data.columns=['Make','Model.1','Vehicle_class','Engine_Size','Cylinders','Transmission','Fuel_Type','Fuel_Consumption_City','Fuel_Consumption_Hwy','Fuel_Consumption_Comb(L/100 km)','Fuel_Consumption_Comb(mpg)','CO2_Emissions']"
   ]
  },
  {
   "cell_type": "code",
   "execution_count": 5,
   "metadata": {},
   "outputs": [
    {
     "data": {
      "text/plain": [
       "Index(['Make', 'Model.1', 'Vehicle_class', 'Engine_Size', 'Cylinders',\n",
       "       'Transmission', 'Fuel_Type', 'Fuel_Consumption_City',\n",
       "       'Fuel_Consumption_Hwy', 'Fuel_Consumption_Comb(L/100 km)',\n",
       "       'Fuel_Consumption_Comb(mpg)', 'CO2_Emissions'],\n",
       "      dtype='object')"
      ]
     },
     "execution_count": 5,
     "metadata": {},
     "output_type": "execute_result"
    }
   ],
   "source": [
    "data.columns"
   ]
  },
  {
   "cell_type": "code",
   "execution_count": 6,
   "metadata": {},
   "outputs": [
    {
     "name": "stdout",
     "output_type": "stream",
     "text": [
      "<class 'pandas.core.frame.DataFrame'>\n",
      "RangeIndex: 7385 entries, 0 to 7384\n",
      "Data columns (total 12 columns):\n",
      " #   Column                           Non-Null Count  Dtype  \n",
      "---  ------                           --------------  -----  \n",
      " 0   Make                             7385 non-null   object \n",
      " 1   Model.1                          7385 non-null   object \n",
      " 2   Vehicle_class                    7385 non-null   object \n",
      " 3   Engine_Size                      7385 non-null   float64\n",
      " 4   Cylinders                        7385 non-null   int64  \n",
      " 5   Transmission                     7385 non-null   object \n",
      " 6   Fuel_Type                        7385 non-null   object \n",
      " 7   Fuel_Consumption_City            7385 non-null   float64\n",
      " 8   Fuel_Consumption_Hwy             7385 non-null   float64\n",
      " 9   Fuel_Consumption_Comb(L/100 km)  7385 non-null   float64\n",
      " 10  Fuel_Consumption_Comb(mpg)       7385 non-null   int64  \n",
      " 11  CO2_Emissions                    7385 non-null   int64  \n",
      "dtypes: float64(4), int64(3), object(5)\n",
      "memory usage: 692.5+ KB\n"
     ]
    }
   ],
   "source": [
    "data.info()"
   ]
  },
  {
   "cell_type": "code",
   "execution_count": 7,
   "metadata": {},
   "outputs": [
    {
     "data": {
      "text/html": [
       "<div>\n",
       "<style scoped>\n",
       "    .dataframe tbody tr th:only-of-type {\n",
       "        vertical-align: middle;\n",
       "    }\n",
       "\n",
       "    .dataframe tbody tr th {\n",
       "        vertical-align: top;\n",
       "    }\n",
       "\n",
       "    .dataframe thead th {\n",
       "        text-align: right;\n",
       "    }\n",
       "</style>\n",
       "<table border=\"1\" class=\"dataframe\">\n",
       "  <thead>\n",
       "    <tr style=\"text-align: right;\">\n",
       "      <th></th>\n",
       "      <th>Engine_Size</th>\n",
       "      <th>Cylinders</th>\n",
       "      <th>Fuel_Consumption_City</th>\n",
       "      <th>Fuel_Consumption_Hwy</th>\n",
       "      <th>Fuel_Consumption_Comb(L/100 km)</th>\n",
       "      <th>Fuel_Consumption_Comb(mpg)</th>\n",
       "      <th>CO2_Emissions</th>\n",
       "    </tr>\n",
       "  </thead>\n",
       "  <tbody>\n",
       "    <tr>\n",
       "      <th>count</th>\n",
       "      <td>7385.000000</td>\n",
       "      <td>7385.000000</td>\n",
       "      <td>7385.000000</td>\n",
       "      <td>7385.000000</td>\n",
       "      <td>7385.000000</td>\n",
       "      <td>7385.000000</td>\n",
       "      <td>7385.000000</td>\n",
       "    </tr>\n",
       "    <tr>\n",
       "      <th>mean</th>\n",
       "      <td>3.160068</td>\n",
       "      <td>5.615030</td>\n",
       "      <td>12.556534</td>\n",
       "      <td>9.041706</td>\n",
       "      <td>10.975071</td>\n",
       "      <td>27.481652</td>\n",
       "      <td>250.584699</td>\n",
       "    </tr>\n",
       "    <tr>\n",
       "      <th>std</th>\n",
       "      <td>1.354170</td>\n",
       "      <td>1.828307</td>\n",
       "      <td>3.500274</td>\n",
       "      <td>2.224456</td>\n",
       "      <td>2.892506</td>\n",
       "      <td>7.231879</td>\n",
       "      <td>58.512679</td>\n",
       "    </tr>\n",
       "    <tr>\n",
       "      <th>min</th>\n",
       "      <td>0.900000</td>\n",
       "      <td>3.000000</td>\n",
       "      <td>4.200000</td>\n",
       "      <td>4.000000</td>\n",
       "      <td>4.100000</td>\n",
       "      <td>11.000000</td>\n",
       "      <td>96.000000</td>\n",
       "    </tr>\n",
       "    <tr>\n",
       "      <th>25%</th>\n",
       "      <td>2.000000</td>\n",
       "      <td>4.000000</td>\n",
       "      <td>10.100000</td>\n",
       "      <td>7.500000</td>\n",
       "      <td>8.900000</td>\n",
       "      <td>22.000000</td>\n",
       "      <td>208.000000</td>\n",
       "    </tr>\n",
       "    <tr>\n",
       "      <th>50%</th>\n",
       "      <td>3.000000</td>\n",
       "      <td>6.000000</td>\n",
       "      <td>12.100000</td>\n",
       "      <td>8.700000</td>\n",
       "      <td>10.600000</td>\n",
       "      <td>27.000000</td>\n",
       "      <td>246.000000</td>\n",
       "    </tr>\n",
       "    <tr>\n",
       "      <th>75%</th>\n",
       "      <td>3.700000</td>\n",
       "      <td>6.000000</td>\n",
       "      <td>14.600000</td>\n",
       "      <td>10.200000</td>\n",
       "      <td>12.600000</td>\n",
       "      <td>32.000000</td>\n",
       "      <td>288.000000</td>\n",
       "    </tr>\n",
       "    <tr>\n",
       "      <th>max</th>\n",
       "      <td>8.400000</td>\n",
       "      <td>16.000000</td>\n",
       "      <td>30.600000</td>\n",
       "      <td>20.600000</td>\n",
       "      <td>26.100000</td>\n",
       "      <td>69.000000</td>\n",
       "      <td>522.000000</td>\n",
       "    </tr>\n",
       "  </tbody>\n",
       "</table>\n",
       "</div>"
      ],
      "text/plain": [
       "       Engine_Size    Cylinders  Fuel_Consumption_City  Fuel_Consumption_Hwy  \\\n",
       "count  7385.000000  7385.000000            7385.000000           7385.000000   \n",
       "mean      3.160068     5.615030              12.556534              9.041706   \n",
       "std       1.354170     1.828307               3.500274              2.224456   \n",
       "min       0.900000     3.000000               4.200000              4.000000   \n",
       "25%       2.000000     4.000000              10.100000              7.500000   \n",
       "50%       3.000000     6.000000              12.100000              8.700000   \n",
       "75%       3.700000     6.000000              14.600000             10.200000   \n",
       "max       8.400000    16.000000              30.600000             20.600000   \n",
       "\n",
       "       Fuel_Consumption_Comb(L/100 km)  Fuel_Consumption_Comb(mpg)  \\\n",
       "count                      7385.000000                 7385.000000   \n",
       "mean                         10.975071                   27.481652   \n",
       "std                           2.892506                    7.231879   \n",
       "min                           4.100000                   11.000000   \n",
       "25%                           8.900000                   22.000000   \n",
       "50%                          10.600000                   27.000000   \n",
       "75%                          12.600000                   32.000000   \n",
       "max                          26.100000                   69.000000   \n",
       "\n",
       "       CO2_Emissions  \n",
       "count    7385.000000  \n",
       "mean      250.584699  \n",
       "std        58.512679  \n",
       "min        96.000000  \n",
       "25%       208.000000  \n",
       "50%       246.000000  \n",
       "75%       288.000000  \n",
       "max       522.000000  "
      ]
     },
     "execution_count": 7,
     "metadata": {},
     "output_type": "execute_result"
    }
   ],
   "source": [
    "data.describe()"
   ]
  },
  {
   "cell_type": "code",
   "execution_count": 8,
   "metadata": {},
   "outputs": [
    {
     "data": {
      "text/plain": [
       "(array([dtype('int64'), dtype('float64'), dtype('O')], dtype=object),\n",
       " array([3, 4, 5], dtype=int64))"
      ]
     },
     "execution_count": 8,
     "metadata": {},
     "output_type": "execute_result"
    }
   ],
   "source": [
    "np.unique(data.dtypes,return_counts=True)"
   ]
  },
  {
   "cell_type": "code",
   "execution_count": 9,
   "metadata": {},
   "outputs": [
    {
     "data": {
      "text/plain": [
       "array(['Make', 'Model.1', 'Vehicle_class', 'Transmission', 'Fuel_Type'],\n",
       "      dtype=object)"
      ]
     },
     "execution_count": 9,
     "metadata": {},
     "output_type": "execute_result"
    }
   ],
   "source": [
    "cat=data.dtypes[data.dtypes=='O'].index.values\n",
    "cat"
   ]
  },
  {
   "cell_type": "code",
   "execution_count": 10,
   "metadata": {},
   "outputs": [
    {
     "name": "stdout",
     "output_type": "stream",
     "text": [
      "Column:  Make\n",
      "Count Classes:  42\n",
      "Counter({'FORD': 628, 'CHEVROLET': 588, 'BMW': 527, 'MERCEDES-BENZ': 419, 'PORSCHE': 376, 'TOYOTA': 330, 'GMC': 328, 'AUDI': 286, 'NISSAN': 259, 'JEEP': 251, 'DODGE': 246, 'KIA': 231, 'HONDA': 214, 'HYUNDAI': 210, 'MINI': 204, 'VOLKSWAGEN': 197, 'MAZDA': 180, 'LEXUS': 178, 'JAGUAR': 160, 'CADILLAC': 158, 'SUBARU': 140, 'VOLVO': 124, 'INFINITI': 108, 'BUICK': 103, 'RAM': 97, 'LINCOLN': 96, 'MITSUBISHI': 95, 'CHRYSLER': 88, 'LAND ROVER': 85, 'FIAT': 73, 'ACURA': 72, 'MASERATI': 61, 'ROLLS-ROYCE': 50, 'ASTON MARTIN': 47, 'BENTLEY': 46, 'LAMBORGHINI': 41, 'ALFA ROMEO': 30, 'GENESIS': 25, 'SCION': 22, 'SMART': 7, 'BUGATTI': 3, 'SRT': 2})\n",
      "************************************************************************************************************************\n",
      "Column:  Model.1\n",
      "Count Classes:  2053\n",
      "Counter({'F-150 FFV': 32, 'F-150 FFV 4X4': 32, 'MUSTANG': 27, 'FOCUS FFV': 24, 'SONIC': 20, 'SONIC 5': 20, 'F-150': 20, 'F-150 4X4': 20, 'ATS': 19, 'ACCORD': 19, 'COMPASS': 19, 'TACOMA 4WD': 19, 'JETTA': 19, 'CAMARO': 18, 'SILVERADO': 18, 'SILVERADO 4WD': 18, 'SIERRA': 18, 'SIERRA 4WD': 18, 'FORTE 5': 18, 'COROLLA': 18, 'PATRIOT': 17, 'CHARGER FFV': 16, 'FUSION': 16, 'FORTE KOUP': 16, 'SOUL': 15, 'FRONTIER': 15, 'FORESTER AWD': 15, 'BEETLE': 15, 'PASSAT': 15, 'COLORADO': 15, 'CANYON': 15, 'CRUZE': 14, 'CHALLENGER': 14, 'FIT': 14, 'FORTE': 14, 'CX-5': 14, 'BRZ': 14, 'LEGACY AWD': 14, 'OUTBACK AWD': 14, 'ELANTRA': 14, 'EDGE AWD': 13, 'MAZDA3 4-DOOR': 13, 'EQUINOX AWD': 12, '300 AWD FFV': 12, 'CHARGER (MDS)': 12, 'ESCAPE': 12, 'MUSTANG CONVERTIBLE': 12, 'TERRAIN AWD': 12, 'ELANTRA GT': 12, 'Q70 AWD': 12, 'LANCER': 12, 'RVR': 12, '370Z': 12, 'TACOMA': 12, '200 FFV': 12, 'SILVERADO FFV': 12, 'SILVERADO 4WD FFV': 12, 'SIERRA FFV': 12, 'SIERRA 4WD FFV': 12, 'Silverado 4WD': 12, 'Sierra 4WD': 12, 'A8L': 11, 'EQUINOX': 11, 'TERRAIN': 11, 'Q50 AWD': 11, 'COMPASS 4X4': 11, 'MKZ AWD': 11, 'MAZDA3 5-DOOR': 11, 'MX-5': 11, 'RVR 4WD': 11, 'COLORADO 4WD': 11, 'CANYON 4WD': 11, 'SORENTO AWD': 11, 'CT6 AWD': 11, 'CIVIC COUPE': 11, 'HR-V': 11, 'F-150 (LT Tire Pkg)': 11, 'G80 AWD': 11, 'A4 QUATTRO': 10, 'A5 QUATTRO': 10, 'A6 QUATTRO': 10, 'R8': 10, 'R8 SPYDER': 10, 'M6 CABRIOLET': 10, 'M6 GRAN COUPE': 10, 'VERANO': 10, 'ATS AWD': 10, 'CORVETTE': 10, 'MALIBU': 10, 'SPARK': 10, 'TRAX': 10, '300': 10, '300 FFV': 10, 'CHARGER': 10, 'CHARGER AWD FFV': 10, 'GRAND CARAVAN FFV': 10, 'JOURNEY FFV': 10, 'EDGE': 10, 'ESCAPE AWD': 10, 'EXPLORER FFV': 10, 'EXPLORER FFV AWD': 10, 'FIESTA': 10, 'FOCUS': 10, 'TAURUS FFV': 10, 'TAURUS FFV AWD': 10, 'ACCENT': 10, 'SONATA': 10, 'TUCSON': 10, 'CHEROKEE 4X4 ACTIVE DRIVE II': 10, 'OPTIMA': 10, 'RIO': 10, 'SPORTAGE AWD': 10, 'CX-5 4WD': 10, 'COOPER CONVERTIBLE': 10, 'COOPER S CONVERTIBLE': 10, 'MIRAGE': 10, 'OUTLANDER 4WD': 10, '370Z ROADSTER': 10, 'FRONTIER 4WD': 10, 'SENTRA': 10, 'VERSA': 10, '911 CARRERA': 10, '911 CARRERA 4': 10, '911 CARRERA 4 CABRIOLET': 10, '911 CARRERA 4S': 10, '911 CARRERA 4S CABRIOLET': 10, '911 CARRERA CABRIOLET': 10, '911 CARRERA S': 10, '911 CARRERA S CABRIOLET': 10, 'BOXSTER': 10, 'BOXSTER S': 10, 'CAYMAN': 10, 'CAYMAN S': 10, '1500 4X4 FFV': 10, '1500 FFV': 10, 'CAMRY': 10, 'TUNDRA': 10, 'TUNDRA 4WD': 10, 'BEETLE CONVERTIBLE': 10, 'CTS': 10, 'CTS AWD': 10, '500L': 10, 'MKC AWD': 10, 'F-150 FFV (Payload Pkg)': 10, 'HR-V AWD': 10, 'F-150 4X4 (LT Tire Pkg)': 10, 'F-150 FFV 4X4 (LT Tire Pkg)': 10, 'F-150 FFV (LT Tire Pkg)': 10, 'ILX': 9, 'Q5': 9, 'Q7': 9, 'S5': 9, 'FLYING SPUR': 9, 'IMPALA': 9, 'CHALLENGER (MDS)': 9, 'DART': 9, 'YUKON 4WD': 9, 'YUKON XL 4WD': 9, 'F-TYPE CONVERTIBLE': 9, 'CHEROKEE': 9, 'PATRIOT 4X4': 9, 'RX 350 AWD': 9, 'MAZDA3 4-DOOR (SIL)': 9, 'MAZDA3 5-DOOR (SIL)': 9, 'ALTIMA': 9, 'F-150 (Payload Pkg)': 9, 'F-150 4X4 (Payload Pkg)': 9, 'CIVIC SEDAN': 9, 'WRX AWD': 9, 'Silverado': 9, 'Sierra': 9, 'A8': 8, 'CONTINENTAL GT': 8, 'REGAL': 8, 'CAMARO SS': 8, 'CAMARO ZL1': 8, 'TAHOE 4WD': 8, '500 CABRIO': 8, '500 HATCHBACK': 8, 'VELOSTER': 8, 'VELOSTER TURBO': 8, 'SORENTO': 8, 'SPORTAGE': 8, 'MKX AWD': 8, 'MAZDA5': 8, 'COOPER S COUNTRYMAN ALL4': 8, 'JOHN COOPER WORKS CONVERTIBLE': 8, 'JOHN COOPER WORKS COUNTRYMAN ALL4': 8, 'LANCER SPORTBACK': 8, 'JUKE': 8, 'IMPREZA AWD': 8, 'IMPREZA WAGON AWD': 8, 'TIGUAN': 8, 'M4 CABRIOLET': 8, 'M4 COUPE': 8, 'CORVETTE Z06': 8, 'CHALLENGER SRT HELLCAT': 8, 'Q60 AWD': 8, 'F-TYPE COUPE': 8, 'RENEGADE FFV': 8, 'RENEGADE 4X4': 8, 'K900': 8, 'COOPER 3 DOOR': 8, 'COOPER 5 DOOR': 8, 'COOPER S 3 DOOR': 8, 'COOPER S 5 DOOR': 8, 'MICRA': 8, '911 TARGA 4': 8, '911 TARGA 4S': 8, 'GOLF': 8, 'GOLF GTI': 8, 'F-150 FFV 4X4 (Payload Pkg)': 8, 'G90 AWD': 8, 'CIVIC HATCHBACK': 8, '86': 8, 'Camaro': 8, 'Mustang': 8, 'Accord': 8, 'Civic Coupe': 8, 'Elantra': 8, 'Elantra GT': 8, 'RDX AWD': 7, 'S4': 7, 'EXPRESS 2500 PASSENGER': 7, 'EXPRESS 3500 PASSENGER': 7, 'SUBURBAN': 7, 'SUBURBAN 4WD': 7, 'TAHOE': 7, '300 AWD': 7, '500 ABARTH CABRIO': 7, '500 ABARTH HATCHBACK': 7, 'EXPLORER AWD': 7, 'FUSION AWD': 7, 'ACADIA': 7, 'ACADIA AWD': 7, 'SAVANA 2500 PASSENGER': 7, 'SAVANA 3500 PASSENGER': 7, 'YUKON': 7, 'YUKON XL': 7, 'CR-V': 7, 'CR-V AWD': 7, 'PILOT AWD': 7, 'QX60 AWD': 7, 'QX80 4WD': 7, 'RONDO': 7, 'ES 300h': 7, 'ES 350': 7, 'GS 350 AWD': 7, 'GX 460': 7, 'IS 350 AWD': 7, 'LX 570': 7, 'RX 450h AWD': 7, 'MAZDA6': 7, 'G 550': 7, 'SL 550': 7, 'GT-R': 7, '911 GT3': 7, 'HIGHLANDER': 7, 'RAV4 AWD': 7, 'YARIS': 7, 'CONTINENTAL GT CONVERTIBLE': 7, 'SANTA FE SPORT AWD': 7, 'TUCSON AWD': 7, '1500': 7, '1500 4X4': 7, 'CX-3': 7, 'Colorado': 7, 'Canyon': 7, 'Sierra 4WD AT4': 7, 'Civic Sedan': 7, 'Corolla': 7, 'V8 VANTAGE': 6, 'V8 VANTAGE S': 6, 'SQ5': 6, '320i': 6, '428i COUPE': 6, '435i COUPE': 6, '435i xDRIVE COUPE': 6, 'M6': 6, 'X6 M': 6, 'Z4 sDRIVE28i': 6, 'LACROSSE': 6, 'LACROSSE AWD': 6, 'REGAL AWD': 6, 'XTS': 6, 'XTS AWD': 6, 'XTS Vsport AWD': 6, 'CRUZE DIESEL': 6, 'SONIC RS': 6, 'SONIC 5 RS': 6, 'TRAVERSE': 6, 'TOWN & COUNTRY FFV': 6, 'CHARGER AWD': 6, 'DART FFV': 6, 'DART GT': 6, 'DART TURBO AERO': 6, 'FIESTA SFE': 6, 'CIVIC': 6, 'CR-Z': 6, 'QX50 AWD': 6, 'F-TYPE S CONVERTIBLE': 6, 'CHEROKEE 4X4': 6, 'CHEROKEE TRAILHAWK 4X4': 6, 'MKS AWD': 6, 'MKT AWD': 6, 'MKZ': 6, 'CX-9 4WD': 6, 'B 250': 6, 'CLA 250': 6, 'E 300 4MATIC': 6, 'COOPER CLUBMAN': 6, 'COOPER COUNTRYMAN': 6, 'COOPER S CLUBMAN': 6, 'COOPER S PACEMAN ALL4': 6, 'JOHN COOPER WORKS PACEMAN ALL4': 6, '1500 (MDS)': 6, '1500 4X4 (MDS)': 6, 'FR-S': 6, 'tC': 6, 'XV CROSSTREK AWD': 6, 'RAV4': 6, 'VENZA': 6, 'VENZA 4WD': 6, 'MDX SH-AWD': 6, 'TLX': 6, 'TLX SH-AWD': 6, 'A3': 6, 'EQUINOX FFV': 6, 'EQUINOX AWD FFV': 6, '200 AWD FFV': 6, 'T-150 WAGON FFV': 6, 'TERRAIN FFV': 6, 'CHEROKEE FFV': 6, 'WRANGLER 4X4': 6, 'WRANGLER UNLIMITED 4X4': 6, 'NX 300h AWD': 6, 'RC 350 AWD': 6, 'RC F': 6, 'C 300 4MATIC': 6, 'GLA 250 4MATIC': 6, 'JOHN COOPER WORKS': 6, '911 CARRERA 4 GTS': 6, '911 CARRERA 4 GTS CABRIOLET': 6, '911 CARRERA GTS': 6, '911 CARRERA GTS CABRIOLET': 6, 'BOXSTER GTS': 6, 'CAYMAN GTS': 6, 'WRX': 6, 'S60 T6 AWD': 6, 'V60 T6 AWD': 6, 'XC60 T5 AWD': 6, 'XC60 T6 AWD': 6, '340i': 6, '340i xDRIVE': 6, 'M2': 6, 'M3': 6, 'ATS-V': 6, 'IMPALA FFV': 6, 'SUBURBAN FFV': 6, 'SUBURBAN 4WD FFV': 6, 'TAHOE FFV': 6, 'TAHOE 4WD FFV': 6, '500X': 6, 'TRANSIT CONNECT VAN FFV': 6, 'TRANSIT CONNECT WAGON LWB FFV': 6, 'YUKON FFV': 6, 'YUKON 4WD FFV': 6, 'YUKON XL FFV': 6, 'YUKON XL 4WD FFV': 6, 'GRAND CHEROKEE 4X4': 6, 'YARIS HATCHBACK': 6, 'GOLF R': 6, 'CONTINENTAL AWD': 6, 'Colorado 4WD': 6, 'Challenger': 6, 'Mustang Convertible': 6, 'Canyon 4WD': 6, 'Fit': 6, 'Cherokee': 6, 'Cherokee 4X4 Active Drive I': 6, 'Continental AWD': 6, 'Tacoma 4WD': 6, 'VANQUISH': 5, 'A4': 5, 'A5 CABRIOLET QUATTRO': 5, 'A7 QUATTRO': 5, 'S6': 5, 'S7': 5, 'S8': 5, 'TT COUPE QUATTRO': 5, 'TT ROADSTER QUATTRO': 5, 'MULSANNE': 5, '328d xDRIVE TOURING': 5, '640i xDRIVE GRAN COUPE': 5, '650i xDRIVE CABRIOLET': 5, '650i xDRIVE COUPE': 5, '650i xDRIVE GRAN COUPE': 5, 'M5': 5, 'X1 xDRIVE28i': 5, 'X5 xDRIVE35i': 5, 'X5 xDRIVE50i': 5, 'X6 xDRIVE35i': 5, 'X6 xDRIVE50i': 5, 'Z4 sDRIVE35i': 5, 'ENCLAVE': 5, 'ENCLAVE AWD': 5, 'TRAVERSE AWD': 5, 'CHALLENGER SRT': 5, 'CHALLENGER SRT (MDS)': 5, 'JOURNEY': 5, 'JOURNEY AWD': 5, '500 HATCHBACK TURBO': 5, 'C-MAX HYBRID': 5, 'EXPLORER': 5, 'FIESTA ST': 5, 'FLEX': 5, 'FLEX AWD': 5, 'FUSION HYBRID': 5, 'TAURUS AWD': 5, 'ODYSSEY': 5, 'SANTA FE': 5, 'SANTA FE SPORT': 5, 'SONATA HYBRID': 5, 'Q50 HYBRID AWD': 5, 'QX70 AWD': 5, 'XJR LWB': 5, 'CADENZA': 5, 'OPTIMA HYBRID': 5, 'SEDONA': 5, 'AVENTADOR COUPE': 5, 'RANGE ROVER EVOQUE': 5, 'GS 450h': 5, 'MKT LIVERY AWD': 5, 'MKZ HYBRID': 5, 'GHIBLI': 5, 'GRANTURISMO': 5, 'GRANTURISMO CONVERTIBLE': 5, 'QUATTROPORTE GTS': 5, 'QUATTROPORTE SQ4': 5, 'CX-9': 5, 'MAZDA3 4-DOOR (i-ELOOP)': 5, 'MAZDA3 5-DOOR (i-ELOOP)': 5, 'MURANO AWD': 5, 'NV200 CARGO VAN': 5, 'PATHFINDER': 5, 'PATHFINDER 4WD': 5, 'ROGUE': 5, 'ROGUE AWD': 5, '911 TURBO': 5, '911 TURBO CABRIOLET': 5, '911 TURBO S': 5, '911 TURBO S CABRIOLET': 5, 'CAYENNE': 5, 'CAYENNE S': 5, 'CAYENNE TURBO': 5, 'GHOST': 5, 'GHOST EWB': 5, 'PHANTOM': 5, 'PHANTOM EWB': 5, 'WRAITH': 5, '4RUNNER 4WD': 5, 'AVALON': 5, 'CAMRY HYBRID LE': 5, 'CAMRY HYBRID XLE/SE': 5, 'COROLLA LE ECO (1-mode)': 5, 'COROLLA LE ECO (2-mode)': 5, 'HIGHLANDER AWD': 5, 'HIGHLANDER HYBRID AWD': 5, 'PRIUS': 5, 'PRIUS c': 5, 'PRIUS v': 5, 'SEQUOIA 4WD': 5, 'SIENNA': 5, 'SIENNA AWD': 5, 'CC': 5, 'TIGUAN 4MOTION': 5, 'S3': 5, 'CTS Vsport': 5, 'ESCALADE 4WD': 5, 'T-150 WAGON': 5, 'F-TYPE S COUPE': 5, 'RENEGADE': 5, 'V60 T5': 5, 'X4 M40i': 5, 'ENVISION AWD': 5, 'DURANGO AWD': 5, '500X AWD': 5, 'GS F': 5, 'IS 300 AWD': 5, 'RC 300 AWD': 5, 'CX-3 4WD': 5, 'MX-5 (SIL)': 5, 'AMG C 63': 5, 'AMG C 63 S': 5, 'AMG G 63': 5, 'AMG S 65': 5, 'V60 CC T5 AWD': 5, 'XC90 T5 AWD': 5, 'XC90 T6 AWD': 5, 'XT5 AWD': 5, 'MUSTANG (Performance Pkg)': 5, 'Equinox AWD': 5, 'Impala': 5, 'Charger (MDS)': 5, 'Edge AWD': 5, 'Acadia': 5, 'Terrain AWD': 5, 'Civic Hatchback': 5, 'Forte': 5, 'Soul': 5, 'Mazda3 5-Door': 5, '4C': 4, 'RS 7': 4, 'S5 CABRIOLET': 4, 'TTS COUPE QUATTRO': 4, '328d xDRIVE': 4, '750i xDRIVE': 4, 'X3 xDRIVE28i': 4, 'X3 xDRIVE35i': 4, 'ENCORE': 4, 'ENCORE AWD': 4, 'LACROSSE eASSIST': 4, 'CRUZE ECO': 4, '300 (MDS)': 4, 'CHARGER AWD (MDS)': 4, 'CHARGER SRT (MDS)': 4, 'DURANGO AWD FFV': 4, 'E150 VAN FFV': 4, 'TAURUS': 4, 'ACCORD HYBRID': 4, 'PILOT': 4, 'Q50': 4, 'Q60 CONVERTIBLE': 4, 'Q70': 4, 'Q70 HYBRID': 4, 'QX60': 4, 'QX60 HYBRID AWD': 4, 'XFR': 4, 'XJ SUPERCHARGED': 4, 'XJL SUPERCHARGED': 4, 'XJR': 4, 'GRAND CHEROKEE 4X4 FFV': 4, 'CT 200h': 4, 'LS 460 AWD': 4, 'LS 460 L AWD': 4, 'MAZDA6 (i-ELOOP)': 4, 'CLS 550 4MATIC': 4, 'E 550 CABRIOLET': 4, 'E 550 COUPE': 4, 'S 550 4MATIC LWB': 4, 'S 550 4MATIC SWB': 4, 'SLK 250': 4, 'COOPER COUPE': 4, 'COOPER PACEMAN': 4, 'COOPER ROADSTER': 4, 'COOPER S COUPE': 4, 'COOPER S ROADSTER': 4, 'JOHN COOPER WORKS COUPE': 4, 'JOHN COOPER WORKS ROADSTER': 4, 'LANCER EVOLUTION': 4, 'OUTLANDER': 4, 'ARMADA 4WD': 4, 'JUKE AWD': 4, 'MAXIMA': 4, 'TITAN': 4, 'TITAN 4WD': 4, 'XTERRA 4WD': 4, 'CAYENNE GTS': 4, 'CAYENNE TURBO S': 4, 'PANAMERA': 4, 'PANAMERA 4': 4, 'PANAMERA 4S': 4, 'PANAMERA 4S EXECUTIVE': 4, 'PANAMERA TURBO': 4, 'PANAMERA TURBO EXECUTIVE': 4, 'CARGO VAN FFV': 4, 'PHANTOM COUPE': 4, 'PHANTOM DROPHEAD COUPE': 4, 'xB': 4, 'FORTWO CABRIOLET': 4, 'BEETLE TDI (modified)': 4, 'JETTA TDI (modified)': 4, 'JETTA GLI': 4, 'TOUAREG': 4, 'RLX HYBRID': 4, 'RAPIDE S': 4, 'V12 VANTAGE S': 4, 'VANTAGE GT': 4, 'A3 QUATTRO': 4, 'A3 CABRIOLET QUATTRO': 4, 'A4 ALLROAD QUATTRO': 4, 'Q3': 4, 'Q3 QUATTRO': 4, '428i GRAN COUPE': 4, '640i xDRIVE CABRIOLET': 4, 'ALPINA B6 xDRIVE GRAN COUPE': 4, 'M235i CABRIOLET': 4, 'M6 COUPE': 4, 'X4 xDRIVE28i': 4, 'X5 M': 4, 'X5 xDRIVE35d': 4, 'CITY EXPRESS': 4, 'CHARGER SRT HELLCAT': 4, 'EDGE (Start/Stop)': 4, 'EXPEDITION 4X4': 4, 'TRANSIT CONNECT VAN': 4, 'GENESIS AWD': 4, 'GENESIS COUPE': 4, 'SANTA FE AWD': 4, 'SANTA FE ULTIMATE AWD': 4, 'CHEROKEE 4X4 FFV': 4, 'SEDONA SX': 4, 'SEDONA SXL': 4, 'AVENTADOR ROADSTER': 4, 'HURACAN': 4, 'NAVIGATOR 4X4': 4, 'B 250 4MATIC': 4, 'E 400 4MATIC': 4, 'E 400 4MATIC WAGON': 4, 'MURANO': 4, 'PATHFINDER 4WD PLATINUM': 4, 'MACAN S': 4, 'MACAN TURBO': 4, '1500 ECODIESEL': 4, '1500 4X4 ECODIESEL': 4, 'PROMASTER CITY': 4, '4RUNNER 4WD (Part-Time 4WD)': 4, 'RAV4 LE/XLE': 4, 'GOLF SPORTWAGON': 4, 'S60 T5 AWD': 4, 'V60 T5 AWD': 4, 'CTS-V': 4, 'CRUZE LIMITED': 4, 'ACCORD COUPE': 4, 'ACCORD SEDAN': 4, 'AMG GLE 63 S 4MATIC': 4, 'AMG SL 63': 4, 'GLE 400 4MATIC': 4, 'S60 T5': 4, '230i COUPE': 4, '440i COUPE': 4, '440i xDRIVE COUPE': 4, 'M240i CABRIOLET': 4, 'M240i COUPE': 4, 'XT5': 4, 'COLORADO ZR2 4WD': 4, 'CRUZE HATCHBACK': 4, '124 SPIDER': 4, 'ESCAPE FFV': 4, 'GT': 4, 'IONIQ': 4, 'CHEROKEE 4X4 ACTIVE DRIVE I': 4, 'CHEROKEE 4X4 ACTIVE DRIVE LOCK': 4, 'SLC 300': 4, 'COOPER CLUBMAN ALL4': 4, 'COOPER COUNTRYMAN ALL4': 4, 'COOPER S CLUBMAN ALL4': 4, 'JOHN COOPER WORKS CLUBMAN ALL4': 4, 'MIRAGE G4': 4, 'QASHQAI': 4, 'SENTRA (Turbo)': 4, 'SENTRA NISMO': 4, 'CROSSTREK AWD': 4, 'IMPREZA 4-DOOR AWD': 4, 'IMPREZA 5-DOOR AWD': 4, 'COROLLA iM': 4, 'GOLF SPORTWAGEN': 4, 'S90 T6 AWD': 4, '500': 4, '440i xDrive Coupe': 4, 'M2 Competition': 4, 'M240i Cabriolet': 4, 'M240i Coupe': 4, 'M240i Coupe M Performance': 4, 'M4 Cabriolet': 4, 'M4 Cabriolet Competition': 4, 'M4 Coupe': 4, 'M4 Coupe Competition': 4, 'Envision AWD': 4, 'Regal AWD': 4, 'Blazer': 4, 'Camaro SS': 4, 'Camaro ZL1': 4, 'Colorado ZR2 4WD': 4, 'Malibu': 4, 'Silverado FFV': 4, 'Silverado 4WD FFV': 4, 'Spark': 4, 'Suburban FFV': 4, 'Suburban 4WD': 4, 'Suburban 4WD FFV': 4, 'Tahoe FFV': 4, 'Tahoe 4WD': 4, 'Tahoe 4WD FFV': 4, 'Challenger (MDS)': 4, 'Challenger SRT Hellcat': 4, 'Charger': 4, 'Charger FFV': 4, 'Durango AWD': 4, '124 Spider': 4, 'Escape AWD': 4, 'Explorer AWD': 4, 'Mustang (Performance Pkg)': 4, 'Transit Connect Van FFV': 4, 'Transit Connect Wagon LWB': 4, 'Transit Connect Wagon LWB FFV': 4, 'G70 AWD': 4, 'Acadia AWD': 4, 'Sierra FFV': 4, 'Sierra 4WD FFV': 4, 'Yukon FFV': 4, 'Yukon 4WD': 4, 'Yukon 4WD FFV': 4, 'Yukon XL FFV': 4, 'Yukon XL 4WD': 4, 'Yukon XL 4WD FFV': 4, 'Civic Hatchback Sport': 4, 'Pilot AWD': 4, 'Accent': 4, 'Kona AWD': 4, 'Santa Fe AWD': 4, 'Sonata': 4, 'Tucson AWD': 4, 'Veloster Turbo': 4, 'F-TYPE Convertible': 4, 'F-TYPE Coupe': 4, 'Cherokee 4X4 Active Drive II': 4, 'Cherokee 4X4 Active Drive Lock': 4, 'Compass': 4, 'Compass 4X4': 4, 'Grand Cherokee 4X4': 4, 'Renegade': 4, 'Renegade 4X4': 4, 'Rio': 4, 'Sorento AWD': 4, 'Sportage AWD': 4, 'Mazda3 4-Door': 4, 'Mirage': 4, 'Outlander 4WD': 4, '370Z Roadster': 4, 'Qashqai': 4, 'Sentra': 4, 'Versa': 4, '1500 eTorque': 4, '1500 4X4 eTorque': 4, '1500 Classic': 4, '1500 Classic 4X4': 4, 'Crosstrek AWD': 4, 'Impreza 4-Door AWD': 4, 'Impreza 5-Door AWD': 4, 'Legacy AWD': 4, 'Outback AWD': 4, 'Camry': 4, 'Corolla Hatchback': 4, 'Golf': 4, 'Golf GTI': 4, 'Jetta': 4, 'Jetta GLI': 4, 'RLX': 3, 'TSX': 3, 'A6 QUATTRO TDI (modified)': 3, 'A7 QUATTRO TDI (modified)': 3, 'RS 5': 3, '320i xDRIVE': 3, '328i xDRIVE GRAN TURISMO': 3, '328i xDRIVE TOURING': 3, '335i xDRIVE GRAN TURISMO': 3, '428i xDRIVE COUPE': 3, '535i xDRIVE GRAN TURISMO': 3, '550i xDRIVE GRAN TURISMO': 3, '750Li xDRIVE': 3, 'ACTIVEHYBRID 5': 3, 'Z4 sDRIVE35is': 3, 'REGAL eASSIST': 3, 'SRX': 3, 'SRX AWD': 3, 'EXPRESS 1500 CARGO': 3, 'TRAX AWD': 3, 'DURANGO AWD (MDS)': 3, 'FUSION (Start/Stop)': 3, 'TRANSIT CONNECT WAGON': 3, 'SAVANA 1500 CARGO': 3, 'RIDGELINE AWD': 3, 'EQUUS': 3, 'SONATA HYBRID LIMITED': 3, 'Q50 HYBRID': 3, 'COMPASS 4X4 TRAIL RATED': 3, 'GRAND CHEROKEE 4X4 (MDS)': 3, 'GRAND CHEROKEE 4X4 DIESEL': 3, 'GRAND CHEROKEE SRT 4X4 (MDS)': 3, 'PATRIOT 4X4 TRAIL RATED': 3, 'OPTIMA HYBRID EX': 3, 'RIO ECO': 3, 'LR4': 3, 'GS 350': 3, 'IS 350': 3, 'LS 460': 3, 'LS 600h L': 3, 'MKT LIVERY': 3, 'E 250 BLUETEC 4MATIC': 3, 'E 550 4MATIC': 3, 'GL 350 BLUETEC 4MATIC': 3, 'GL 450 4MATIC': 3, 'GL 550 4MATIC': 3, 'SLK 350': 3, 'CAYENNE DIESEL (modified)': 3, 'PANAMERA GTS': 3, 'PANAMERA S': 3, '1500 HFE': 3, 'FORTWO COUPE': 3, 'XV CROSSTREK HYBRID AWD': 3, 'HIGHLANDER HYBRID AWD LE': 3, 'CC 4MOTION': 3, 'PASSAT TDI (modified)': 3, 'TOUAREG TDI (modified)': 3, 'X3 xDRIVE28d': 3, 'YUKON DENALI 4WD': 3, 'YUKON XL DENALI 4WD': 3, 'SONATA SPORT/LIMITED': 3, 'RANGE ROVER SUPERCHARGED': 3, 'RANGE ROVER SUPERCHARGED LWB': 3, 'RANGE ROVER SPORT SUPERCHARGED': 3, 'NX 200t AWD': 3, 'NX 200t AWD F SPORT': 3, 'NAVIGATOR L 4X4': 3, 'CLA 250 4MATIC': 3, 'E 400 CABRIOLET': 3, 'S 550 4MATIC COUPE': 3, 'S 600': 3, 'JUKE NISMO RS': 3, 'JUKE NISMO RS AWD': 3, 'XC60 T5': 3, 'MDX SH-AWD ELITE': 3, 'CT6': 3, 'CRUZE PREMIER': 3, 'MALIBU HYBRID': 3, 'SILVERADO eASSIST 4WD': 3, 'FLEX AWD GTDI': 3, 'FOCUS RS AWD': 3, 'FOCUS ST': 3, 'SHELBY GT350 MUSTANG': 3, 'SIERRA eASSIST 4WD': 3, 'HURACAN SPYDER': 3, 'DISCOVERY SPORT': 3, 'GHIBLI S': 3, 'GHIBLI SQ4': 3, 'QUATTROPORTE S': 3, 'AMG G 65': 3, 'AMG SL 65': 3, 'GLE 550 4MATIC': 3, 'METRIS CARGO': 3, 'METRIS PASSENGER': 3, 'ALTIMA SR': 3, 'RAV4 HYBRID AWD': 3, 'RAV4 LIMITED/SE AWD': 3, 'TACOMA 4WD D-CAB OFF-ROAD': 3, 'YARIS (SIL)': 3, 'BEETLE DUNE': 3, 'S60 CC T5 AWD': 3, 'S60 POLESTAR': 3, 'V60 POLESTAR': 3, 'NSX': 3, 'F-PACE 35t': 3, 'XE 20d AWD': 3, 'XE 35t AWD': 3, 'XF 20d AWD': 3, 'XF 35t AWD': 3, 'MKC AWD (Start/Stop)': 3, 'AMG GLA 45 4MATIC': 3, 'AMG GLE 43 4MATIC': 3, 'AMG SLC 43': 3, 'GLC 300 4MATIC': 3, 'GLS 450 4MATIC': 3, 'GLS 550 4MATIC': 3, 'SL 450': 3, 'GOLF ALLTRACK': 3, 'GOLF SPORTWAGEN 4MOTION': 3, 'V90 T6 AWD': 3, 'V90 CC T6 AWD': 3, 'TLX A-SPEC': 3, 'DB11 V8': 3, 'RS 3': 3, 'X3 M40i': 3, 'F-150 4X4 XL/XLT': 3, 'F-PACE 25t': 3, 'XF 25t AWD': 3, 'NEW WRANGLER 4X4': 3, 'NEW WRANGLER UNLIMITED 4X4': 3, 'IS 300': 3, 'LC 500': 3, 'LC 500h': 3, 'LS 500 AWD': 3, 'LS 500h AWD': 3, 'NX 300 AWD': 3, 'NX 300 AWD F SPORT': 3, 'RX 350 L AWD': 3, 'CX-5 (Cylinder Deactivation)': 3, 'CX-5 4WD (Cylinder Deactivation)': 3, 'AMG C 43 4MATIC': 3, 'S 450 4MATIC SWB': 3, 'S 560 4MATIC': 3, 'S 560 4MATIC SWB': 3, 'WRX STI AWD': 3, 'C-HR': 3, 'Vantage V8': 3, 'A6 quattro': 3, 'Bentayga': 3, '440i Coupe': 3, 'Blazer AWD': 3, 'Corvette': 3, 'Equinox': 3, 'Silverado 4WD Trail Boss': 3, 'Trax': 3, 'Terrain': 3, 'Veloster': 3, 'F-TYPE Convertible R-Dynamic': 3, 'F-TYPE Coupe R-Dynamic': 3, 'Wrangler JL 4X4': 3, 'Wrangler JL Unlimited 4X4': 3, 'Optima': 3, 'Stinger AWD': 3, 'Mazda3 5-Door (SIL)': 3, 'Cooper 3 Door': 3, 'Cooper 5 Door': 3, 'Cooper Clubman ALL4': 3, 'Cooper Convertible': 3, 'Cooper Countryman ALL4': 3, 'Cooper S 3 Door': 3, 'Cooper S 5 Door': 3, 'Cooper S Clubman ALL4': 3, 'Cooper S Convertible': 3, 'Cooper S Countryman ALL4': 3, 'John Cooper Works 3 Door': 3, 'John Cooper Works Clubman ALL4': 3, 'John Cooper Works Convertible': 3, 'John Cooper Works Countryman ALL4': 3, 'Frontier': 3, 'Frontier 4WD': 3, '911 Carrera S': 3, '911 Carrera S Cabriolet': 3, '911 Carrera 4S': 3, '911 Carrera 4S Cabriolet': 3, 'Tundra 4WD': 3, 'Silverado 4WD Custom Trail Boss': 3, 'Wrangler 4X4': 3, 'Wrangler Unlimited 4X4': 3, 'ILX HYBRID': 2, 'TL AWD': 2, 'DB9': 2, 'A8 TDI (modified)': 2, 'A8L TDI (modified)': 2, 'Q5 TDI (modified)': 2, 'Q5 HYBRID': 2, 'Q7 TDI (modified)': 2, 'RS 5 CABRIOLET': 2, 'TTS ROADSTER QUATTRO': 2, 'CONTINENTAL GTC': 2, '328i': 2, '328i xDRIVE': 2, '335i': 2, '335i xDRIVE': 2, '528i xDRIVE': 2, '535d xDRIVE': 2, '535i xDRIVE': 2, '550i xDRIVE': 2, '740Li xDRIVE': 2, 'ACTIVEHYBRID 3': 2, 'ACTIVEHYBRID 7L': 2, 'ALPINA B7 xDRIVE LWB': 2, 'ALPINA B7 xDRIVE SWB': 2, 'X1 xDRIVE35i': 2, 'CTS SEDAN': 2, 'CTS SEDAN AWD': 2, 'CTS SPORT WAGON': 2, 'CTS SPORT WAGON AWD': 2, 'CTS-V COUPE': 2, 'CTS-V SEDAN': 2, 'CTS-V SPORT WAGON': 2, 'ESCALADE AWD': 2, 'ESCALADE ESV AWD': 2, 'CAMARO 2LS': 2, 'EXPRESS 1500 CARGO AWD': 2, 'EXPRESS 1500 CARGO CONV': 2, 'EXPRESS 1500 CARGO CONV AWD': 2, 'EXPRESS 1500 PASSENGER': 2, 'EXPRESS 1500 PASSENGER AWD': 2, 'ORLANDO': 2, '200 CONVERTIBLE': 2, '200 CONVERTIBLE FFV': 2, '200 SEDAN': 2, '200 SEDAN FFV': 2, 'AVENGER': 2, 'AVENGER FFV': 2, '500L TURBO': 2, 'E150 WAGON FFV': 2, 'E350 WAGON FFV': 2, 'EXPEDITION 4X4 FFV': 2, 'F-150 RAPTOR 4X4': 2, 'FLEX AWD (EcoBoost)': 2, 'FOCUS SFE FFV': 2, 'TRANSIT CONNECT': 2, 'SAVANA 1500 CARGO AWD': 2, 'SAVANA 1500 CARGO CONV': 2, 'SAVANA 1500 CARGO CONV AWD': 2, 'SAVANA 1500 PASSENGER': 2, 'SAVANA 1500 PASSENGER AWD': 2, 'YUKON DENALI AWD': 2, 'YUKON DENALI XL AWD': 2, 'SANTA FE SPORT 4WD': 2, 'TUCSON 4WD': 2, 'Q60 COUPE': 2, 'F-TYPE V8 S CONVERTIBLE': 2, 'XF': 2, 'XFR-S': 2, 'XJ AWD': 2, 'XJL AWD PORTFOLIO': 2, 'XKR CONVERTIBLE': 2, 'XKR COUPE': 2, 'XKR-S CONVERTIBLE': 2, 'XKR-S COUPE': 2, 'WRANGLER 4X4 (2-DOOR)': 2, 'WRANGLER UNLIMITED 4X4 (4-DOOR)': 2, 'SORENTO 4WD': 2, 'SOUL ECO Dynamics': 2, 'GALLARDO COUPE': 2, 'LR2': 2, 'RANGE ROVER EVOQUE COUPE': 2, 'RANGE ROVER LWB V8 5.0 SC FFV': 2, 'RANGE ROVER SPORT V6 3.0 SC FFV': 2, 'RANGE ROVER SPORT V8 5.0 SC FFV': 2, 'RANGE ROVER V6 3.0 SC FFV': 2, 'RANGE ROVER V8 5.0 SC FFV': 2, 'IS 250': 2, 'IS 250 AWD': 2, 'IS 250 C': 2, 'IS 350 C': 2, 'NAVIGATOR 4X4 FFV': 2, 'GHIBLI AWD': 2, 'MAZDA2': 2, 'C 250 COUPE': 2, 'C 300 4MATIC FFV': 2, 'C 350 4MATIC COUPE': 2, 'C 350 COUPE': 2, 'C 63 AMG COUPE': 2, 'CLS 63 AMG 4MATIC': 2, 'E 63 AMG S 4MATIC': 2, 'E 63 AMG S 4MATIC WAGON': 2, 'G 63 AMG': 2, 'GL 63 AMG': 2, 'GLK 250 BLUETEC 4MATIC': 2, 'GLK 350 4MATIC': 2, 'ML 350 4MATIC FFV': 2, 'ML 350 BLUETEC 4MATIC': 2, 'ML 550 4MATIC': 2, 'ML 63 AMG 4MATIC': 2, 'S 63 AMG 4MATIC': 2, 'SL 63 AMG': 2, 'SL 65 AMG': 2, 'SLK 55 AMG': 2, 'SLS AMG GT COUPE': 2, 'JOHN COOPER WORKS CLUBMAN': 2, 'LANCER AWD': 2, 'LANCER RALLIART': 2, 'PATHFINDER HYBRID 4WD': 2, 'QUEST': 2, 'iQ': 2, 'xD': 2, 'COROLLA MATRIX': 2, 'FJ CRUISER 4WD': 2, 'RAV4 LIMITED AWD': 2, 'EOS': 2, 'GOLF WAGON': 2, 'GOLF WAGON TDI (modified)': 2, 'S60 AWD': 2, 'XC60 AWD': 2, 'XC70 AWD': 2, '228i COUPE': 2, '228i xDRIVE CABRIOLET': 2, '320i SEDAN': 2, '328i SEDAN': 2, '335i SEDAN': 2, '335i xDRIVE SEDAN': 2, '428i CABRIOLET': 2, '428i xDRIVE CABRIOLET': 2, '428i xDRIVE GRAN COUPE': 2, '435i CABRIOLET': 2, '435i xDRIVE CABRIOLET': 2, '435i xDRIVE GRAN COUPE': 2, 'M235i COUPE': 2, 'M3 SEDAN': 2, 'M5 SEDAN': 2, 'X4 xDRIVE35i': 2, 'ESCALADE ESV 4WD': 2, 'EXPRESS 2500 PASSENGER FFV': 2, 'EXPRESS 3500 PASSENGER FFV': 2, '200': 2, 'EXPEDITION MAX 4X4': 2, 'SAVANA 2500 PASSENGER FFV': 2, 'SAVANA 3500 PASSENGER FFV': 2, 'ELANTRA COUPE': 2, 'Q60': 2, 'RANGE ROVER': 2, 'RANGE ROVER SPORT': 2, 'RC 350': 2, 'CLS 400 4MATIC': 2, 'E 400 COUPE': 2, '370Z COUPE': 2, 'PANAMERA TURBO S': 2, 'PANAMERA TURBO S EXECUTIVE': 2, '1500 ECODIESEL HFE': 2, 'GOLF TDI (modified)': 2, 'GOLF SPORTWAGON TDI (modified)': 2, 'JETTA HYBRID': 2, 'S80 T5': 2, 'XC70 T5': 2, 'A8 QUATTRO': 2, 'A8L QUATTRO': 2, 'Q5 QUATTRO': 2, 'S4 QUATTRO': 2, 'S5 QUATTRO': 2, '228i': 2, 'M235i': 2, 'LACROSSE FFV': 2, 'LACROSSE AWD FFV': 2, 'CRUZE LIMITED ECO': 2, 'IMPALA DUAL FUEL': 2, 'TRAX 4WD': 2, 'EXPEDITION EL 4X4': 2, 'TRANSIT CONNECT WAGON FFV': 2, 'Q50S RED SPORT AWD': 2, 'F-TYPE R AWD CONVERTIBLE': 2, 'F-TYPE R AWD COUPE': 2, 'F-TYPE S CONVERTIBLE AWD': 2, 'F-TYPE S COUPE AWD': 2, 'XJ R-SPORT 3.0 AWD': 2, 'IS 200t': 2, 'MAZDA6 (SIL)': 2, 'AMG CLA 45': 2, 'AMG CLS 63 S 4MATIC': 2, 'AMG E 63 S 4MATIC': 2, 'AMG E 63 S 4MATIC WAGON': 2, 'AMG S 63 COUPE': 2, 'AMG S 65 COUPE': 2, 'CLA 250 4MATIC FFV': 2, 'E 400 4MATIC COUPE': 2, 'MAYBACH S 600': 2, 'S 400 4MATIC SWB': 2, 'LANCER 4WD': 2, 'iM': 2, 'S60 INSCRIPTION T5 AWD': 2, 'XC90 T5': 2, 'MDX HYBRID AWD': 2, '4C SPIDER': 2, 'GIULIA': 2, 'GIULIA AWD': 2, 'GIULIA QUADRIFOGLIO': 2, 'DB11 V12': 2, 'BENTAYGA': 2, '230i xDRIVE CABRIOLET': 2, '230i xDRIVE COUPE': 2, '330i xDRIVE': 2, '330i xDRIVE GRAN TURISMO': 2, '330i xDRIVE TOURING': 2, '340i xDRIVE GRAN TURISMO': 2, '430i xDRIVE CABRIOLET': 2, '430i xDRIVE COUPE': 2, '430i xDRIVE GRAN COUPE': 2, '440i xDRIVE CABRIOLET': 2, '440i xDRIVE GRAN COUPE': 2, '530i xDRIVE': 2, '540i xDRIVE': 2, 'M240i xDRIVE CABRIOLET': 2, 'M240i xDRIVE COUPE': 2, 'M760i xDRIVE': 2, 'CRUZE HATCHBACK PREMIER': 2, 'PACIFICA': 2, 'PACIFICA (Stop-Start)': 2, 'FOCUS (Start/Stop)': 2, 'IONIQ BLUE': 2, 'SONATA HYBRID SE': 2, 'QX30': 2, 'QX30 AWD': 2, 'NEW COMPASS': 2, 'NEW COMPASS 4X4': 2, 'FORTE (MPI)': 2, 'FORTE (GDI)': 2, 'NIRO': 2, 'NIRO FE': 2, 'NIRO TOURING': 2, 'OPTIMA FE': 2, 'SORENTO AWD FE': 2, 'RANGE ROVER EVOQUE CONVERTIBLE': 2, 'LEVANTE': 2, 'LEVANTE S': 2, 'AMG C 63 CABRIOLET': 2, 'AMG C 63 COUPE': 2, 'AMG C 63 S CABRIOLET': 2, 'AMG C 63 S COUPE': 2, 'AMG GLC 43 4MATIC COUPE': 2, 'AMG GLE 43 4MATIC COUPE': 2, 'AMG GLE 63 S 4MATIC COUPE': 2, 'AMG GT COUPE': 2, 'AMG GT S COUPE': 2, 'AMG S 63 4MATIC': 2, 'C 300 4MATIC CABRIOLET': 2, 'C 300 4MATIC COUPE': 2, 'COOPER S COUNTRYMAN  ALL4': 2, 'JOHN COOPER WORKS 3 DOOR': 2, 'QASHQAI AWD': 2, 'TITAN 4WD PRO-4X': 2, 'CAYENNE PLATINUM': 2, 'MACAN': 2, 'MACAN GTS': 2, 'DAWN': 2, 'HIGHLANDER AWD (Start/Stop System)': 2, 'HIGHLANDER AWD LE': 2, 'TLX SH-AWD A-SPEC': 2, 'TT RS': 2, 'CRUZE HATCHBACK DIESEL': 2, 'CHALLENGER GT AWD FFV': 2, '500 ABARTH': 2, 'CIVIC HATCHBACK SPORT': 2, 'KONA AWD': 2, 'F-PACE 20d': 2, 'F-TYPE CONVERTIBLE R-DYNAMIC': 2, 'F-TYPE COUPE R-DYNAMIC': 2, 'XE 25t AWD': 2, 'CHEROKEE 4X4 ACTIVE DRIVE I FFV': 2, 'WRANGLER JK 4X4': 2, 'WRANGLER JK UNLIMITED 4X4': 2, 'RANGE ROVER VELAR': 2, 'AMG CLA 45 4MATIC': 2, 'AMG GLC 43 4MATIC': 2, 'AMG GLS 63 4MATIC': 2, '911 TARGA 4 GTS': 2, 'BRZ tS': 2, 'S90 T5 AWD': 2, 'MDX SH-AWD A-SPEC': 2, 'MDX Hybrid AWD': 2, 'RDX AWD A-SPEC': 2, 'RLX Hybrid': 2, '4C Spider': 2, 'Giulia': 2, 'Giulia AWD': 2, 'Giulia Quadrifoglio': 2, 'Stelvio': 2, 'Stelvio AWD': 2, 'Stelvio AWD Quadrifoglio': 2, 'DB11 AMR': 2, 'DBS Superleggera': 2, 'A3 quattro': 2, 'A3 Cabriolet quattro': 2, 'A4 quattro': 2, 'A4 allroad quattro': 2, 'A5 quattro': 2, 'A5 Cabriolet quattro': 2, 'A5 Sportback quattro': 2, 'A7 quattro': 2, 'Q3 quattro': 2, 'Q8': 2, 'S5 Cabriolet': 2, 'S5 Sportback': 2, 'TT Coupe quattro': 2, 'TT Roadster quattro': 2, 'TTS Coupe': 2, '230i xDrive Cabriolet': 2, '230i xDrive Coupe': 2, '430i xDrive Cabriolet': 2, '430i xDrive Coupe': 2, '430i xDrive Gran Coupe': 2, '440i xDrive Cabriolet': 2, '440i xDrive Gran Coupe': 2, 'Alpina B7 xDrive': 2, 'M240i xDrive Cabriolet': 2, 'M240i xDrive Coupe': 2, 'M240i xDrive Coupe M Performance': 2, 'M4 CS': 2, 'M5 Competition': 2, 'M850i xDrive Cabriolet': 2, 'M850i xDrive Coupe': 2, 'X1 xDrive28i': 2, 'X2 xDrive28i': 2, 'X3 xDrive30i': 2, 'X4 xDrive30i': 2, 'X5 xDrive40i': 2, 'X5 xDrive50i': 2, 'X7 xDrive40i': 2, 'X7 xDrive50i': 2, 'Chiron': 2, 'Enclave': 2, 'Enclave AWD': 2, 'Encore': 2, 'Encore AWD': 2, 'Regal': 2, 'Escalade 4WD': 2, 'XT4': 2, 'XT4 AWD': 2, 'Corvette Z06': 2, 'Corvette ZR1': 2, 'Suburban': 2, 'Tahoe': 2, 'Traverse': 2, 'Traverse AWD': 2, 'Pacifica (Stop-Start)': 2, 'Charger AWD': 2, 'Charger AWD FFV': 2, 'Durango AWD SRT': 2, 'Grand Caravan FFV': 2, 'Journey': 2, 'Journey FFV': 2, 'EcoSport': 2, 'EcoSport AWD': 2, 'Edge': 2, 'Escape': 2, 'Escape FFV': 2, 'Expedition 4X4': 2, 'Expedition MAX 4X4': 2, 'Explorer FFV AWD': 2, 'F-150 4X4 Limited': 2, 'F-150 Raptor 4X4': 2, 'Fiesta': 2, 'Fusion': 2, 'Fusion Hybrid': 2, 'Mustang Bullitt': 2, 'Ranger 4WD': 2, 'Shelby GT350 Mustang': 2, 'T-150 Wagon': 2, 'Taurus FFV': 2, 'Taurus FFV AWD': 2, 'Transit Connect Van': 2, 'G70': 2, 'Yukon': 2, 'Yukon XL': 2, 'Accord Sport/Touring': 2, 'Accord Hybrid': 2, 'Civic Coupe Si': 2, 'Civic Sedan Si': 2, 'Civic Type R': 2, 'Odyssey': 2, 'Passport AWD': 2, 'Ridgeline AWD': 2, 'IONIQ Blue': 2, 'Kona': 2, 'Santa Fe': 2, 'Sonata Hybrid': 2, 'Tucson': 2, 'Veloster N': 2, 'Q50 AWD Red Sport': 2, 'Q60 AWD Red Sport': 2, 'E-PACE P250': 2, 'F-TYPE Convertible R-Dynamic AWD': 2, 'F-TYPE Coupe R-Dynamic AWD': 2, 'F-TYPE R AWD Convertible': 2, 'F-TYPE R AWD Coupe': 2, 'Grand Cherokee 4X4 SRT': 2, 'Grand Cherokee 4X4 Trackhawk': 2, 'Renegade 4X4 Trailhawk': 2, 'Niro': 2, 'Niro FE': 2, 'Niro Touring': 2, 'Optima Hybrid': 2, 'Sedona': 2, 'Sportage': 2, 'Aventador Coupe': 2, 'Aventador Roadster': 2, 'Huracan Coupe': 2, 'Huracan Coupe AWD': 2, 'Huracan Spyder': 2, 'Huracan Spyder AWD': 2, 'Urus': 2, 'Discovery': 2, 'Discovery TD6 Diesel': 2, 'Range Rover 3.0': 2, 'Range Rover TD6 Diesel': 2, 'Range Rover 5.0 Supercharged': 2, 'Range Rover SVAutobiography LWB': 2, 'Range Rover Sport 3.0': 2, 'Range Rover Sport TD6 Diesel': 2, 'Range Rover Sport Supercharged': 2, 'Range Rover Velar P300': 2, 'Range Rover Velar P380': 2, 'ES 350 F SPORT': 2, 'RX 450h L AWD': 2, 'UX 200': 2, 'UX 250h AWD': 2, 'MKZ Hybrid': 2, 'Nautilus': 2, 'Navigator 4X4': 2, 'Ghibli': 2, 'Ghibli S': 2, 'Levante': 2, 'Levante S': 2, 'Levante GTS': 2, 'Levante Trofeo': 2, 'Quattroporte S': 2, 'Quattroporte GTS': 2, 'CX-5 Turbo 4WD': 2, 'Mazda3 4-Door (SIL)': 2, 'Mazda3 4-Door (Cylinder Deactivation)': 2, 'Mazda3 4-Door 4WD': 2, 'Mazda3 5-Door 4WD': 2, 'Mazda6': 2, 'Mazda6 Turbo': 2, 'AMG C 43 4MATIC Cabriolet': 2, 'AMG C 43 4MATIC Coupe': 2, 'AMG C 43 4MATIC Wagon': 2, 'AMG C 63 S Cabriolet': 2, 'AMG C 63 S Coupe': 2, 'AMG CLS 53 4MATIC+': 2, 'AMG E 53 4MATIC+': 2, 'AMG E 53 4MATIC+ Cabriolet': 2, 'AMG E 53 4MATIC+ Coupe': 2, 'AMG E 63 S 4MATIC+': 2, 'AMG E 63 S 4MATIC+ Wagon': 2, 'AMG GLC 63 S 4MATIC+': 2, 'AMG GLC 63 S 4MATIC+ Coupe': 2, 'AMG GT R Coupe': 2, 'AMG S 63 4MATIC+': 2, 'AMG S 63 4MATIC+ Cabriolet': 2, 'AMG S 63 4MATIC+ Coupe': 2, 'C 300 4MATIC Cabriolet': 2, 'C 300 4MATIC Coupe': 2, 'C 300 4MATIC Wagon': 2, 'CLS 450 4MATIC': 2, 'E 450 4MATIC Cabriolet': 2, 'E 450 4MATIC Coupe': 2, 'Maybach S 560 4MATIC': 2, 'Maybach S 650': 2, 'Eclipse Cross 4WD': 2, 'Mirage G4': 2, 'Altima SR/Platinum': 2, 'Altima AWD': 2, 'Altima AWD SR/Platinum': 2, 'Armada 4WD': 2, 'Kicks': 2, 'Maxima': 2, 'Micra': 2, 'Murano': 2, 'Murano AWD': 2, 'NV200 Cargo Van': 2, 'Pathfinder': 2, 'Pathfinder 4WD': 2, 'Pathfinder 4WD Platinum': 2, 'Qashqai AWD': 2, 'Rogue': 2, 'Rogue AWD': 2, 'Sentra (Turbo)': 2, 'Sentra Nismo': 2, 'Titan 4WD': 2, 'Titan 4WD Pro-4X': 2, '911 Carrera': 2, '911 Carrera Cabriolet': 2, '911 Carrera GTS': 2, '911 Carrera GTS Cabriolet': 2, '911 Carrera T': 2, '911 Carrera 4': 2, '911 Carrera 4 Cabriolet': 2, '911 Carrera 4 GTS': 2, '911 Carrera 4 GTS Cabriolet': 2, '911 Targa 4': 2, '911 Targa 4 GTS': 2, '911 Targa 4S': 2, 'Boxster': 2, 'Boxster GTS': 2, 'Boxster S': 2, 'Cayenne': 2, 'Cayenne S': 2, 'Cayenne Turbo': 2, 'Cayman': 2, 'Cayman GTS': 2, 'Cayman S': 2, 'Macan': 2, 'Macan S': 2, 'Panamera': 2, 'Panamera 4': 2, 'Panamera 4 Executive': 2, 'Panamera 4 ST': 2, 'Panamera 4S': 2, 'Panamera 4S Executive': 2, 'Panamera 4S ST': 2, 'Panamera GTS': 2, 'Panamera GTS ST': 2, 'Panamera Turbo': 2, 'Panamera Turbo Executive': 2, 'Panamera Turbo ST': 2, '1500 HFE eTorque': 2, '1500 Classic FFV': 2, '1500 Classic 4X4 FFV': 2, 'ProMaster City': 2, 'Cullinan': 2, 'Dawn': 2, 'Ghost': 2, 'Ghost EWB': 2, 'Phantom': 2, 'Phantom EWB': 2, 'Wraith': 2, 'Ascent AWD': 2, 'Forester AWD': 2, '4Runner 4WD': 2, '4Runner 4WD (Part-Time 4WD)': 2, 'Avalon': 2, 'Camry LE/SE': 2, 'Camry XLE/XSE': 2, 'Camry XSE': 2, 'Camry Hybrid LE': 2, 'Camry Hybrid XLE/SE': 2, 'Highlander': 2, 'Highlander AWD': 2, 'Highlander Hybrid AWD': 2, 'Prius': 2, 'Prius AWD': 2, 'Prius c': 2, 'RAV4 Hybrid AWD': 2, 'Sequoia 4WD': 2, 'Sienna': 2, 'Sienna AWD': 2, 'Tacoma': 2, 'Tundra': 2, 'Yaris': 2, 'Yaris (SIL)': 2, 'Yaris Hatchback': 2, 'Arteon 4MOTION': 2, 'Golf R': 2, 'Golf Alltrack': 2, 'Golf SportWagen': 2, 'Golf SportWagen 4MOTION': 2, 'Passat': 2, 'Tiguan': 2, 'Tiguan 4MOTION': 2, 'XC40 T5 AWD': 2, 'Continental GT': 2, 'Continental GT Convertible': 2, 'CT4': 2, 'CT4 AWD': 2, 'CT5': 2, 'CT5 AWD': 2, 'Silverado 4WD LT Trail Boss': 2, 'Challenger Widebody (MDS)': 2, 'Challenger SRT Hellcat Widebody': 2, 'Mustang Convertible (Performance Pkg)': 2, 'T-150 Wagon FFV': 2, 'T-150 Wagon FFV 4WD': 2, 'Transit Connect Van LWB': 2, 'Venue': 2, 'Gladiator 4X4': 2, 'Wrangler Unlimited 4X4 eTorque': 2, 'Forte 5': 2, 'Corsair AWD': 2, 'Nautilus AWD': 2, 'CX-30': 2, 'CX-30 4WD': 2, 'MDX 4WD': 1, 'TL': 1, 'RAPIDE': 1, 'ALLROAD QUATTRO': 1, 'CONTINENTAL GT SPEED CONVERTIBLE': 1, '528i': 1, '760Li': 1, 'CTS COUPE': 1, 'CTS COUPE AWD': 1, 'CTS SEDAN Vsport': 1, 'IMPALA ECO': 1, '300 AWD (MDS)': 1, '300 SRT (MDS)': 1, '500 CABRIO TURBO': 1, 'E350 WAGON': 1, 'TRANSIT CONNECT TAXI': 1, 'CROSSTOUR AWD': 1, 'GENESIS': 1, 'SANTA FE 4WD': 1, 'Q60 AWD COUPE': 1, 'XF 3.0L AWD': 1, 'XK CONVERTIBLE': 1, 'XK COUPE': 1, 'RANGE ROVER LWB V8 5.0 SC': 1, 'RANGE ROVER SPORT V6 3.0 SC': 1, 'RANGE ROVER SPORT V8 5.0 SC': 1, 'RANGE ROVER V6 3.0 SC': 1, 'RANGE ROVER V8 5.0 SC': 1, 'IS F': 1, 'C 250': 1, 'C 350': 1, 'C 350 4MATIC': 1, 'C 63 AMG': 1, 'CL 550 4MATIC': 1, 'CL 63 AMG': 1, 'CLA 45 AMG 4MATIC': 1, 'CLS 63 AMG S 4MATIC': 1, 'E 350 4MATIC': 1, 'E 350 4MATIC COUPE': 1, 'E 350 4MATIC WAGON': 1, 'E 350 CABRIOLET': 1, 'E 350 COUPE': 1, 'E 400 HYBRID': 1, 'E 63 AMG 4MATIC': 1, 'E 63 AMG 4MATIC WAGON': 1, 'SLS AMG BLACK SERIES COUPE': 1, 'SLS AMG ROADSTER': 1, 'CAYENNE S HYBRID': 1, '1500 4X4 DIESEL': 1, '1500 DIESEL': 1, 'VIPER COUPE': 1, 'VIPER GTS COUPE': 1, 'TRIBECA AWD': 1, '4RUNNER (Part-Time 4WD)': 1, 'JETTA TURBO HYBRID': 1, 'ROUTAN': 1, 'S60': 1, 'S80': 1, 'S80 AWD': 1, 'XC60': 1, 'XC90 AWD': 1, 'A3 TDI (modified)': 1, 'CONTINENTAL GT3-R': 1, '228i CABRIOLET': 1, '228i xDRIVE COUPE': 1, '320i xDRIVE SEDAN': 1, '328d xDRIVE SEDAN': 1, '328i xDRIVE SEDAN': 1, '435i GRAN COUPE': 1, '528i SEDAN': 1, '528i xDRIVE SEDAN': 1, '535d xDRIVE SEDAN': 1, '535i xDRIVE SEDAN': 1, '550i xDRIVE SEDAN': 1, '740Ld xDRIVE SEDAN': 1, '740Li xDRIVE SEDAN': 1, '750i xDRIVE SEDAN': 1, '750Li xDRIVE SEDAN': 1, '760Li SEDAN': 1, 'M235i xDRIVE COUPE': 1, 'CAMARO Z/28': 1, '200 AWD': 1, 'CHARGER SRT 392 HEMI': 1, 'VIPER SRT COUPE': 1, 'EDGE SPORT AWD': 1, 'EXPLORER AWD (EcoBoost)': 1, 'TRANSIT CONNECT WAGON TAXI': 1, 'CIVIC Si': 1, 'CIVIC HYBRID': 1, 'PILOT 4WD': 1, 'F-TYPE V8 R COUPE': 1, 'XF AWD': 1, 'VENENO ROADSTER': 1, 'C 400 4MATIC': 1, 'CLA 45 AMG': 1, 'GLA 45 AMG 4MATIC': 1, 'ML 400 4MATIC': 1, 'S 400 4MATIC': 1, 'S 63 AMG COUPE': 1, 'S 65 AMG': 1, 'S 65 AMG COUPE': 1, 'SLS AMG GT ROADSTER': 1, 'S60 POLESTAR AWD': 1, 'S60 T5 ': 1, 'S60 T6   ': 1, 'S80 T6 AWD': 1, 'V60 CC': 1, 'V60 CC AWD': 1, 'V60 POLESTAR AWD': 1, 'XC60 3.2 AWD': 1, 'XC60 T6  ': 1, 'XC70 3.2 AWD': 1, 'XC70 T6 AWD': 1, 'DB9 GT': 1, 'A8 QUATTRO TDI (modified)': 1, 'Q5 QUATTRO TDI (modified)': 1, 'Q5 HYBRID QUATTRO': 1, 'RS 7 QUATTRO': 1, 'S3 QUATTRO': 1, 'S5 CABRIOLET QUATTRO': 1, 'S6 QUATTRO': 1, 'S7 QUATTRO': 1, 'S8 QUATTRO': 1, 'SQ5 QUATTRO': 1, '228i xDRIVE': 1, 'M235i xDRIVE': 1, 'M235i xDRIVE CABRIOLET': 1, 'ENCORE SPORT TOURING': 1, 'ENCORE SPORT TOURING AWD': 1, 'MALIBU LIMITED': 1, 'VIPER SRT': 1, 'TRANSIT CONNECT WAGON LWB': 1, 'ACCORD SPORT': 1, 'Q50S AWD': 1, 'Q50S RED SPORT': 1, 'F-TYPE PROJECT 7 CONVERTIBLE': 1, 'XF AWD ': 1, 'XJL 3.0 AWD PORTFOLIO': 1, 'SOUL ECO DYNAMICS': 1, 'RANGE ROVER TD6 DIESEL': 1, 'RANGE ROVER SPORT TD6 DIESEL': 1, 'GS 200t': 1, 'GS 200t F SPORT': 1, 'GS 350 F SPORT': 1, 'RC 200t': 1, 'CX-5 (SIL)': 1, 'AMG GL 63 S': 1, 'AMG GLA 45': 1, 'AMG GLE 63 S COUPE 4MATIC': 1, 'AMG GT S': 1, 'AMG S 63': 1, 'AMG SLK 55': 1, 'C 450 AMG SPORT 4MATIC': 1, 'GLE 350d 4MATIC': 1, 'GLE 350d 4MATIC COUPE': 1, 'GLE 450 AMG SPORT 4MATIC COUPE': 1, 'SLK 300': 1, 'ALTIMA 3.5': 1, '911 GT3RS': 1, 'BOXSTER SPYDER': 1, 'CAYMAN GT4': 1, 'S60 INSCRIPTION': 1, 'S60 T6': 1, 'S60 3.0T AWD': 1, 'V60 3.0T AWD': 1, 'XC60 T6': 1, 'XC60 3.0T AWD': 1, 'XC70 T5 AWD': 1, 'A4 ULTRA': 1, 'MULSANNE EWB': 1, '230i CABRIOLET': 1, 'ALPINA B7 xDRIVE': 1, 'ENCORE (LUV Engine)': 1, 'ENCORE (LE2 Engine)': 1, 'ENCORE AWD (LUV Engine)': 1, 'ENCORE AWD (LE2 Engine)': 1, 'CHALLENGER GT': 1, 'VIPER': 1, 'Q60S RED SPORT AWD': 1, 'F-TYPE R CONVERTIBLE AWD': 1, 'F-TYPE R COUPE AWD': 1, 'XJL PORTFOLIO 3.0 AWD': 1, 'XJR  LWB': 1, 'GRAND CHEROKEE SRT8': 1, 'OPTIMA TURBO': 1, 'SOUL TURBO': 1, 'AVENTADOR COUPE LP 740': 1, 'AVENTADOR ROADSTER LP 740': 1, 'AMG GLS 63': 1, 'AMG S 63 CABRIOLET': 1, 'AMG S 65 CABRIOLET': 1, 'S 550 4MATIC CABRIOLET': 1, 'S60 INSCRIPTION T5': 1, 'S90 T5': 1, 'V90 T5': 1, '4C COUPE': 1, 'STELVIO AWD': 1, 'STELVIO QUADRIFOGLIO': 1, 'A5 SPORTBACK QUATTRO': 1, 'R8 QUATTRO': 1, 'S5 SPORTBACK': 1, 'TTS COUPE': 1, 'CONTINENTAL SUPERSPORTS': 1, '640i xDRIVE GRAN TURISMO': 1, '750i xDRIVE SWB': 1, 'M550i xDRIVE': 1, 'X2 xDRIVE28i': 1, 'X3 xDRIVE30i': 1, 'CHIRON': 1, 'ENCORE (SIDI with Stop/Start)': 1, 'ENCORE AWD (SIDI with Stop/Start)': 1, 'SILVERADO eASSIST': 1, 'CHALLENGER GT AWD': 1, 'CHALLENGER SRT DEMON': 1, 'DURANGO AWD SRT': 1, 'ECOSPORT': 1, 'ECOSPORT AWD': 1, 'F-150 RAPTOR 4WD': 1, 'SIERRA eASSIST': 1, 'ACCORD SPORT/TOURING': 1, 'CIVIC COUPE Si': 1, 'CIVIC SEDAN Si': 1, 'CIVIC TYPE R': 1, 'ODYSSEY TOURING': 1, 'KONA': 1, 'SANTA FE SPORT ULTIMATE AWD': 1, 'Q50 AWD RED SPORT': 1, 'Q60 AWD RED SPORT': 1, 'F-TYPE CONVERTIBLE R-DYNAMIC AWD': 1, 'F-TYPE COUPE R-DYNAMIC AWD': 1, 'XJ R-SPORT AWD': 1, 'XJL PORTFOLIO AWD': 1, 'GRAND CHEROKEE 4X4 SRT': 1, 'GRAND CHEROKEE 4X4 TRACKHAWK': 1, 'STINGER AWD': 1, 'AVENTADOR S COUPE': 1, 'AVENTADOR S ROADSTER': 1, 'HURACAN AWD': 1, 'HURACAN SPYDER AWD': 1, 'LS 500': 1, 'LS 500h': 1, 'CX-5 ': 1, 'MAZDA6 TURBO': 1, 'AMG C 43 4MATIC CABRIOLET': 1, 'AMG C 43 4MATIC COUPE': 1, 'AMG E 43 4MATIC': 1, 'AMG GT ROADSTER': 1, 'AMG GT C COUPE': 1, 'AMG GT C ROADSTER': 1, 'AMG GT R COUPE': 1, 'AMG S 63 4MATIC CABRIOLET': 1, 'AMG S 63 4MATIC COUPE': 1, 'C 300 4MATIC WAGON': 1, 'E 400 4MATIC CABRIOLET': 1, 'GLC 300 4MATIC COUPE': 1, 'MAYBACH S 650': 1, 'S 560 CABRIOLET': 1, 'S 560 4MATIC COUPE': 1, 'ECLIPSE CROSS': 1, 'ECLIPSE CROSS 4WD': 1, 'KICKS': 1, '911 TURBO S EXCLUSIVE': 1, 'MACAN TURBO KIT': 1, 'PANAMERA 4 EXECUTIVE': 1, 'PANAMERA 4 ST': 1, 'PANAMERA 4S ST': 1, 'PANAMERA TURBO ST': 1, 'WRX STI AWD TYPE RA': 1, 'CAMRY LE/SE': 1, 'CAMRY XLE/XSE': 1, 'CAMRY XSE': 1, 'ATLAS': 1, 'ATLAS 4MOTION': 1, 'BEETLE DUNE CONVERTIBLE': 1, 'V90 CC T5 AWD': 1, '4C Coupe': 1, 'Rapide AMR': 1, 'Vanquish Zagato': 1, 'RS 5 Coupe': 1, 'RS 5 Sportback': 1, 'TT RS Coupe': 1, 'Mulsanne': 1, '330i xDrive': 1, '330i xDrive Gran Turismo': 1, '330i xDrive Touring': 1, '530i xDrive': 1, '540i xDrive': 1, '640i xDrive Gran Coupe': 1, '640i xDrive Gran Turismo': 1, '650i xDrive Gran Coupe': 1, '750i xDrive': 1, '750Li xDrive': 1, 'Alpina B6 xDrive Gran Coupe': 1, 'M550i xDrive': 1, 'M6 Gran Coupe': 1, 'M760Li xDrive': 1, 'X6 xDrive35i': 1, 'X6 xDrive50i': 1, 'Encore (SIDI with Stop/Start)': 1, 'Encore AWD (SIDI with Stop/Start)': 1, 'LaCrosse': 1, 'LaCrosse eAssist': 1, 'LaCrosse AWD': 1, 'Cruze': 1, 'Cruze Premier': 1, 'Cruze Diesel': 1, 'Cruze Hatchback': 1, 'Cruze Hatchback Premier': 1, 'Cruze Hatchback Diesel': 1, 'Malibu Hybrid': 1, 'Silverado LD': 1, 'Silverado LD 4WD': 1, 'Trax 4WD': 1, 'Pacifica': 1, 'Challenger GT AWD': 1, 'Challenger SRT Hellcat Redeye': 1, 'Charger AWD (MDS)': 1, 'Charger SRT Hellcat': 1, 'Journey AWD': 1, 'Flex': 1, 'Flex AWD': 1, 'Flex AWD GTDI': 1, 'Fiesta ST': 1, 'Taurus AWD': 1, 'Sierra LTD': 1, 'Sierra LTD 4WD': 1, 'Insight EX': 1, 'Insight Touring': 1, 'Odyssey Touring': 1, 'Pilot': 1, 'Santa Fe XL': 1, 'Santa Fe XL AWD': 1, 'Santa Fe XL Ultimate AWD': 1, 'Sonata SE': 1, 'Sonata Hybrid SE': 1, 'XJ R-Sport AWD': 1, 'XJL Portfolio AWD': 1, 'Grand Cherokee 4X4 EcoDiesel': 1, 'Cadenza': 1, 'Sorento': 1, 'Huracan Performante Coupe': 1, 'Huracan Performante Spyder': 1, 'Discovery Sport': 1, 'Range Rover Evoque': 1, 'Range Rover Evoque Convertible': 1, 'Range Rover Velar D180': 1, 'UX 250h': 1, 'MKT Livery AWD': 1, 'Ghibli SQ4': 1, 'GranTurismo Convertible': 1, 'Quattroporte SQ4': 1, 'CX-5 Diesel 4WD': 1, 'A 220': 1, 'A 220 4MATIC': 1, 'A 250': 1, 'A 250 4MATIC': 1, 'AMG E 53 4MATIC+ Wagon': 1, 'AMG GLC 43 4MATIC Coupe': 1, 'AMG GLE 43 4MATIC Coupe': 1, 'AMG GLE 63 S 4MATIC Coupe': 1, 'AMG GT 53 4MATIC+ Coupe': 1, 'AMG GT 63 4MATIC+ Coupe': 1, 'AMG GT 63 S 4MATIC+ Coupe': 1, 'AMG GT C Coupe': 1, 'AMG GT C Roadster': 1, 'AMG S 65 Cabriolet': 1, 'AMG S 65 Coupe': 1, 'E 450 4MATIC': 1, 'E 450 4MATIC Wagon': 1, 'GLC 300 4MATIC Coupe': 1, 'Metris Cargo': 1, 'Metris Cargo LWB': 1, 'Metris Passenger': 1, 'S 560 Cabriolet': 1, 'Altima': 1, 'Titan': 1, '911 GT2 RS': 1, '911 GT3 RS': 1, '911 GT3 Touring': 1, '911 Speedster': 1, '911 Turbo': 1, '911 Turbo Cabriolet': 1, '911 Turbo S': 1, '911 Turbo S Cabriolet': 1, '911 Turbo S Exclusive Cabriolet': 1, '1500 Classic EcoDiesel': 1, '1500 Classic 4X4 EcoDiesel': 1, 'Corolla LE Eco': 1, 'Highlander AWD (Start/Stop System)': 1, 'Highlander AWD LE': 1, 'Tacoma 4WD D-Cab Off-Road': 1, 'Atlas': 1, 'Atlas 4MOTION': 1, 'Beetle': 1, 'Beetle Convertible': 1, 'Beetle Dune': 1, 'Beetle Dune Convertible': 1, 'TLX SH-AWD A-SPEC/Limited Edition': 1, 'A6 allroad': 1, 'R8 Coupe': 1, 'R8 Spyder': 1, 'Flying Spur': 1, '230i Cabriolet': 1, '230i Coupe': 1, '330i xDrive Sedan': 1, '430i Coupe': 1, '530i xDrive Sedan': 1, '540i xDrive Sedan': 1, '750i xDrive Sedan': 1, '750Li xDrive Sedan': 1, 'M340i xDrive Sedan': 1, 'M5 Sedan': 1, 'M550i xDrive Sedan': 1, 'M760i xDrive Sedan': 1, 'M8 Cabriolet': 1, 'M8 Cabriolet Competition': 1, 'M8 Coupe': 1, 'M8 Coupe Competition': 1, 'M8 Gran Coupe': 1, 'M8 Gran Coupe Competition': 1, 'M850i xDrive Gran Coupe': 1, 'X2 M35i': 1, 'X3 M': 1, 'X3 M Competition': 1, 'X4 M': 1, 'X4 M Competition': 1, 'X5 M50i': 1, 'X6 xDrive40i': 1, 'X6 M50i': 1, 'X7 M50i': 1, 'Z4 sDrive30i': 1, 'Z4 M40i': 1, 'Encore GX': 1, 'Encore GX AWD': 1, 'CT4-V': 1, 'CT4-V AWD': 1, 'CT5-V': 1, 'CT5-V AWD': 1, 'XT6 AWD': 1, 'Silverado WT': 1, 'Silverado WT 4WD': 1, 'Trax AWD': 1, 'Voyager (Stop-Start)': 1, 'Challenger AWD': 1, 'Charger Widebody (MDS)': 1, 'Charger SRT Hellcat Widebody': 1, 'Grand Caravan': 1, 'Escape Hybrid': 1, 'Escape Hybrid AWD': 1, 'Explorer Hybrid AWD': 1, 'Shelby GT500 Mustang': 1, 'Sierra WT': 1, 'Sierra WT 4WD': 1, 'Insight EX/Touring': 1, 'Palisade': 1, 'Palisade AWD': 1, 'E-PACE P300': 1, 'F-PACE 30t': 1, 'F-PACE S': 1, 'F-PACE SVR': 1, 'F-TYPE P300 Convertible': 1, 'F-TYPE SVR AWD Convertible': 1, 'F-TYPE P300 Coupe': 1, 'F-TYPE SVR AWD Coupe': 1, 'XE P250 AWD': 1, 'XE P300 AWD': 1, 'XF 30t AWD': 1, 'XF S AWD': 1, 'Wrangler 4X4 eTorque': 1, 'Wrangler Unlimited 4X4 EcoDiesel': 1, 'Telluride AWD': 1, 'Discovery Sport P250': 1, 'Discovery Sport P290': 1, 'Range Rover 5.0 Supercharged LWB': 1, 'Range Rover SVAutobiography Dynamic': 1, 'Range Rover Sport SVR': 1, 'Range Rover Evoque P250': 1, 'Range Rover Evoque P300': 1, 'Range Rover Velar P250': 1, 'Range Rover Velar P340': 1, 'Range Rover Velar SVAutobiography Dynamic': 1, 'Aviator': 1, 'Ghibli S Q4': 1, 'Quattroporte S Q4': 1, 'CX-3 (SIL)': 1, 'CX-30 4WD (Cylinder Deactivation)': 1, 'Sentra SR': 1, '1500 EcoDiesel': 1, '1500 4X4 EcoDiesel': 1, 'Cullinan Black Badge': 1, 'Camry TRD': 1, 'Camry AWD LE/SE': 1, 'Camry AWD XLE/XSE': 1, 'Corolla XLE': 1, 'Corolla XSE': 1, 'Corolla Hybrid': 1, 'GR Supra': 1, 'Highlander Hybrid AWD Limited/Platinum': 1, 'RAV4 AWD TRD Off-Road': 1, 'Tacoma 4WD D-Cab TRD Off-Road/Pro': 1, 'Atlas Cross Sport 4MOTION': 1, 'XC40 T4 AWD': 1})\n",
      "************************************************************************************************************************\n",
      "Column:  Vehicle_class\n",
      "Count Classes:  16\n",
      "Counter({'SUV - SMALL': 1217, 'MID-SIZE': 1133, 'COMPACT': 1022, 'SUV - STANDARD': 735, 'FULL-SIZE': 639, 'SUBCOMPACT': 606, 'PICKUP TRUCK - STANDARD': 538, 'TWO-SEATER': 460, 'MINICOMPACT': 326, 'STATION WAGON - SMALL': 252, 'PICKUP TRUCK - SMALL': 159, 'MINIVAN': 80, 'SPECIAL PURPOSE VEHICLE': 77, 'VAN - PASSENGER': 66, 'STATION WAGON - MID-SIZE': 53, 'VAN - CARGO': 22})\n",
      "************************************************************************************************************************\n",
      "Column:  Transmission\n",
      "Count Classes:  27\n",
      "Counter({'AS6': 1324, 'AS8': 1211, 'M6': 901, 'A6': 789, 'A8': 490, 'AM7': 445, 'A9': 339, 'AS7': 319, 'AV': 295, 'M5': 193, 'AS10': 168, 'AM6': 132, 'AV7': 118, 'AV6': 113, 'M7': 91, 'A5': 84, 'AS9': 77, 'A4': 65, 'AM8': 62, 'A7': 53, 'AV8': 39, 'A10': 31, 'AS5': 26, 'AV10': 11, 'AM5': 4, 'AM9': 3, 'AS4': 2})\n",
      "************************************************************************************************************************\n",
      "Column:  Fuel_Type\n",
      "Count Classes:  5\n",
      "Counter({'X': 3637, 'Z': 3202, 'E': 370, 'D': 175, 'N': 1})\n",
      "************************************************************************************************************************\n"
     ]
    }
   ],
   "source": [
    "for i in cat:\n",
    "    print(\"Column: \",i)\n",
    "    print(\"Count Classes: \",data[i].nunique())\n",
    "    print(c(data[i]))\n",
    "    print('*'*120)"
   ]
  },
  {
   "cell_type": "code",
   "execution_count": 11,
   "metadata": {},
   "outputs": [
    {
     "data": {
      "text/plain": [
       "Counter({'Automatic with Select Shift': 28,\n",
       "         'Manual': 1094,\n",
       "         'AV7': 118,\n",
       "         'AS6': 1324,\n",
       "         'AM6': 132,\n",
       "         'A6': 789,\n",
       "         'AM7': 445,\n",
       "         'AV8': 39,\n",
       "         'AS8': 1211,\n",
       "         'A7': 53,\n",
       "         'A8': 490,\n",
       "         'M7': 91,\n",
       "         'Automatic': 149,\n",
       "         'Continously Variable': 295,\n",
       "         'AS7': 319,\n",
       "         'A9': 339,\n",
       "         'AS9': 77,\n",
       "         'AV6': 113,\n",
       "         'AM5': 4,\n",
       "         'AM8': 62,\n",
       "         'AM9': 3,\n",
       "         'AS10': 168,\n",
       "         'A10': 31,\n",
       "         'AV10': 11})"
      ]
     },
     "execution_count": 11,
     "metadata": {},
     "output_type": "execute_result"
    }
   ],
   "source": [
    "#combining similar types of classes\n",
    "data[\"Transmission\"]=np.where(data[\"Transmission\"].isin([\"A4\",\"A5\",\"A3\"]),\"Automatic\",data[\"Transmission\"])\n",
    "data[\"Transmission\"]=np.where(data[\"Transmission\"].isin([\"M5\",\"M6\"]),\"Manual\",data[\"Transmission\"])\n",
    "data[\"Transmission\"]=np.where(data[\"Transmission\"].isin([\"AS4\",\"AS5\"]),\"Automatic with Select Shift\",data[\"Transmission\"])\n",
    "data[\"Transmission\"]=np.where(data[\"Transmission\"].isin([\"AV\"]),\"Continously Variable\",data[\"Transmission\"])\n",
    "c(data['Transmission'])"
   ]
  },
  {
   "cell_type": "code",
   "execution_count": 12,
   "metadata": {},
   "outputs": [
    {
     "data": {
      "text/plain": [
       "Counter({'Premium Gasoline': 3202,\n",
       "         'Diesel': 175,\n",
       "         'Regular Gasoline': 3637,\n",
       "         'Ethanol': 370,\n",
       "         'Natural Gas': 1})"
      ]
     },
     "execution_count": 12,
     "metadata": {},
     "output_type": "execute_result"
    }
   ],
   "source": [
    "data[\"Fuel_Type\"]=np.where(data[\"Fuel_Type\"]==\"Z\",\"Premium Gasoline\",data[\"Fuel_Type\"])\n",
    "data[\"Fuel_Type\"]=np.where(data[\"Fuel_Type\"]==\"X\",\"Regular Gasoline\",data[\"Fuel_Type\"])\n",
    "data[\"Fuel_Type\"]=np.where(data[\"Fuel_Type\"]==\"D\",\"Diesel\",data[\"Fuel_Type\"])\n",
    "data[\"Fuel_Type\"]=np.where(data[\"Fuel_Type\"]==\"E\",\"Ethanol\",data[\"Fuel_Type\"])\n",
    "data[\"Fuel_Type\"]=np.where(data[\"Fuel_Type\"]==\"N\",\"Natural Gas\",data[\"Fuel_Type\"])\n",
    "c(data['Fuel_Type'])"
   ]
  },
  {
   "cell_type": "code",
   "execution_count": 13,
   "metadata": {},
   "outputs": [
    {
     "data": {
      "text/plain": [
       "array(['Engine_Size', 'Cylinders', 'Fuel_Consumption_City',\n",
       "       'Fuel_Consumption_Hwy', 'Fuel_Consumption_Comb(L/100 km)',\n",
       "       'Fuel_Consumption_Comb(mpg)', 'CO2_Emissions'], dtype=object)"
      ]
     },
     "execution_count": 13,
     "metadata": {},
     "output_type": "execute_result"
    }
   ],
   "source": [
    "#For Numerical Columns\n",
    "data.dtypes[data.dtypes!='O'].index.values"
   ]
  },
  {
   "cell_type": "code",
   "execution_count": 14,
   "metadata": {},
   "outputs": [
    {
     "data": {
      "text/plain": [
       "Make                               0\n",
       "Model.1                            0\n",
       "Vehicle_class                      0\n",
       "Engine_Size                        0\n",
       "Cylinders                          0\n",
       "Transmission                       0\n",
       "Fuel_Type                          0\n",
       "Fuel_Consumption_City              0\n",
       "Fuel_Consumption_Hwy               0\n",
       "Fuel_Consumption_Comb(L/100 km)    0\n",
       "Fuel_Consumption_Comb(mpg)         0\n",
       "CO2_Emissions                      0\n",
       "dtype: int64"
      ]
     },
     "execution_count": 14,
     "metadata": {},
     "output_type": "execute_result"
    }
   ],
   "source": [
    "#Null values\n",
    "data.isnull().sum()"
   ]
  },
  {
   "cell_type": "code",
   "execution_count": 15,
   "metadata": {},
   "outputs": [
    {
     "name": "stdout",
     "output_type": "stream",
     "text": [
      "Label encoding of:  Make\n",
      "Counter({'FORD': 628, 'CHEVROLET': 588, 'BMW': 527, 'MERCEDES-BENZ': 419, 'PORSCHE': 376, 'TOYOTA': 330, 'GMC': 328, 'AUDI': 286, 'NISSAN': 259, 'JEEP': 251, 'DODGE': 246, 'KIA': 231, 'HONDA': 214, 'HYUNDAI': 210, 'MINI': 204, 'VOLKSWAGEN': 197, 'MAZDA': 180, 'LEXUS': 178, 'JAGUAR': 160, 'CADILLAC': 158, 'SUBARU': 140, 'VOLVO': 124, 'INFINITI': 108, 'BUICK': 103, 'RAM': 97, 'LINCOLN': 96, 'MITSUBISHI': 95, 'CHRYSLER': 88, 'LAND ROVER': 85, 'FIAT': 73, 'ACURA': 72, 'MASERATI': 61, 'ROLLS-ROYCE': 50, 'ASTON MARTIN': 47, 'BENTLEY': 46, 'LAMBORGHINI': 41, 'ALFA ROMEO': 30, 'GENESIS': 25, 'SCION': 22, 'SMART': 7, 'BUGATTI': 3, 'SRT': 2})\n",
      "Counter({13: 628, 9: 588, 5: 527, 28: 419, 32: 376, 39: 330, 15: 328, 3: 286, 31: 259, 20: 251, 11: 246, 21: 231, 16: 214, 17: 210, 29: 204, 40: 197, 27: 180, 24: 178, 19: 160, 8: 158, 38: 140, 41: 124, 18: 108, 7: 103, 33: 97, 25: 96, 30: 95, 10: 88, 23: 85, 12: 73, 0: 72, 26: 61, 34: 50, 2: 47, 4: 46, 22: 41, 1: 30, 14: 25, 35: 22, 36: 7, 6: 3, 37: 2})\n",
      "****************************************************************************************************\n",
      "Label encoding of:  Model.1\n",
      "Counter({'F-150 FFV': 32, 'F-150 FFV 4X4': 32, 'MUSTANG': 27, 'FOCUS FFV': 24, 'SONIC': 20, 'SONIC 5': 20, 'F-150': 20, 'F-150 4X4': 20, 'ATS': 19, 'ACCORD': 19, 'COMPASS': 19, 'TACOMA 4WD': 19, 'JETTA': 19, 'CAMARO': 18, 'SILVERADO': 18, 'SILVERADO 4WD': 18, 'SIERRA': 18, 'SIERRA 4WD': 18, 'FORTE 5': 18, 'COROLLA': 18, 'PATRIOT': 17, 'CHARGER FFV': 16, 'FUSION': 16, 'FORTE KOUP': 16, 'SOUL': 15, 'FRONTIER': 15, 'FORESTER AWD': 15, 'BEETLE': 15, 'PASSAT': 15, 'COLORADO': 15, 'CANYON': 15, 'CRUZE': 14, 'CHALLENGER': 14, 'FIT': 14, 'FORTE': 14, 'CX-5': 14, 'BRZ': 14, 'LEGACY AWD': 14, 'OUTBACK AWD': 14, 'ELANTRA': 14, 'EDGE AWD': 13, 'MAZDA3 4-DOOR': 13, 'EQUINOX AWD': 12, '300 AWD FFV': 12, 'CHARGER (MDS)': 12, 'ESCAPE': 12, 'MUSTANG CONVERTIBLE': 12, 'TERRAIN AWD': 12, 'ELANTRA GT': 12, 'Q70 AWD': 12, 'LANCER': 12, 'RVR': 12, '370Z': 12, 'TACOMA': 12, '200 FFV': 12, 'SILVERADO FFV': 12, 'SILVERADO 4WD FFV': 12, 'SIERRA FFV': 12, 'SIERRA 4WD FFV': 12, 'Silverado 4WD': 12, 'Sierra 4WD': 12, 'A8L': 11, 'EQUINOX': 11, 'TERRAIN': 11, 'Q50 AWD': 11, 'COMPASS 4X4': 11, 'MKZ AWD': 11, 'MAZDA3 5-DOOR': 11, 'MX-5': 11, 'RVR 4WD': 11, 'COLORADO 4WD': 11, 'CANYON 4WD': 11, 'SORENTO AWD': 11, 'CT6 AWD': 11, 'CIVIC COUPE': 11, 'HR-V': 11, 'F-150 (LT Tire Pkg)': 11, 'G80 AWD': 11, 'A4 QUATTRO': 10, 'A5 QUATTRO': 10, 'A6 QUATTRO': 10, 'R8': 10, 'R8 SPYDER': 10, 'M6 CABRIOLET': 10, 'M6 GRAN COUPE': 10, 'VERANO': 10, 'ATS AWD': 10, 'CORVETTE': 10, 'MALIBU': 10, 'SPARK': 10, 'TRAX': 10, '300': 10, '300 FFV': 10, 'CHARGER': 10, 'CHARGER AWD FFV': 10, 'GRAND CARAVAN FFV': 10, 'JOURNEY FFV': 10, 'EDGE': 10, 'ESCAPE AWD': 10, 'EXPLORER FFV': 10, 'EXPLORER FFV AWD': 10, 'FIESTA': 10, 'FOCUS': 10, 'TAURUS FFV': 10, 'TAURUS FFV AWD': 10, 'ACCENT': 10, 'SONATA': 10, 'TUCSON': 10, 'CHEROKEE 4X4 ACTIVE DRIVE II': 10, 'OPTIMA': 10, 'RIO': 10, 'SPORTAGE AWD': 10, 'CX-5 4WD': 10, 'COOPER CONVERTIBLE': 10, 'COOPER S CONVERTIBLE': 10, 'MIRAGE': 10, 'OUTLANDER 4WD': 10, '370Z ROADSTER': 10, 'FRONTIER 4WD': 10, 'SENTRA': 10, 'VERSA': 10, '911 CARRERA': 10, '911 CARRERA 4': 10, '911 CARRERA 4 CABRIOLET': 10, '911 CARRERA 4S': 10, '911 CARRERA 4S CABRIOLET': 10, '911 CARRERA CABRIOLET': 10, '911 CARRERA S': 10, '911 CARRERA S CABRIOLET': 10, 'BOXSTER': 10, 'BOXSTER S': 10, 'CAYMAN': 10, 'CAYMAN S': 10, '1500 4X4 FFV': 10, '1500 FFV': 10, 'CAMRY': 10, 'TUNDRA': 10, 'TUNDRA 4WD': 10, 'BEETLE CONVERTIBLE': 10, 'CTS': 10, 'CTS AWD': 10, '500L': 10, 'MKC AWD': 10, 'F-150 FFV (Payload Pkg)': 10, 'HR-V AWD': 10, 'F-150 4X4 (LT Tire Pkg)': 10, 'F-150 FFV 4X4 (LT Tire Pkg)': 10, 'F-150 FFV (LT Tire Pkg)': 10, 'ILX': 9, 'Q5': 9, 'Q7': 9, 'S5': 9, 'FLYING SPUR': 9, 'IMPALA': 9, 'CHALLENGER (MDS)': 9, 'DART': 9, 'YUKON 4WD': 9, 'YUKON XL 4WD': 9, 'F-TYPE CONVERTIBLE': 9, 'CHEROKEE': 9, 'PATRIOT 4X4': 9, 'RX 350 AWD': 9, 'MAZDA3 4-DOOR (SIL)': 9, 'MAZDA3 5-DOOR (SIL)': 9, 'ALTIMA': 9, 'F-150 (Payload Pkg)': 9, 'F-150 4X4 (Payload Pkg)': 9, 'CIVIC SEDAN': 9, 'WRX AWD': 9, 'Silverado': 9, 'Sierra': 9, 'A8': 8, 'CONTINENTAL GT': 8, 'REGAL': 8, 'CAMARO SS': 8, 'CAMARO ZL1': 8, 'TAHOE 4WD': 8, '500 CABRIO': 8, '500 HATCHBACK': 8, 'VELOSTER': 8, 'VELOSTER TURBO': 8, 'SORENTO': 8, 'SPORTAGE': 8, 'MKX AWD': 8, 'MAZDA5': 8, 'COOPER S COUNTRYMAN ALL4': 8, 'JOHN COOPER WORKS CONVERTIBLE': 8, 'JOHN COOPER WORKS COUNTRYMAN ALL4': 8, 'LANCER SPORTBACK': 8, 'JUKE': 8, 'IMPREZA AWD': 8, 'IMPREZA WAGON AWD': 8, 'TIGUAN': 8, 'M4 CABRIOLET': 8, 'M4 COUPE': 8, 'CORVETTE Z06': 8, 'CHALLENGER SRT HELLCAT': 8, 'Q60 AWD': 8, 'F-TYPE COUPE': 8, 'RENEGADE FFV': 8, 'RENEGADE 4X4': 8, 'K900': 8, 'COOPER 3 DOOR': 8, 'COOPER 5 DOOR': 8, 'COOPER S 3 DOOR': 8, 'COOPER S 5 DOOR': 8, 'MICRA': 8, '911 TARGA 4': 8, '911 TARGA 4S': 8, 'GOLF': 8, 'GOLF GTI': 8, 'F-150 FFV 4X4 (Payload Pkg)': 8, 'G90 AWD': 8, 'CIVIC HATCHBACK': 8, '86': 8, 'Camaro': 8, 'Mustang': 8, 'Accord': 8, 'Civic Coupe': 8, 'Elantra': 8, 'Elantra GT': 8, 'RDX AWD': 7, 'S4': 7, 'EXPRESS 2500 PASSENGER': 7, 'EXPRESS 3500 PASSENGER': 7, 'SUBURBAN': 7, 'SUBURBAN 4WD': 7, 'TAHOE': 7, '300 AWD': 7, '500 ABARTH CABRIO': 7, '500 ABARTH HATCHBACK': 7, 'EXPLORER AWD': 7, 'FUSION AWD': 7, 'ACADIA': 7, 'ACADIA AWD': 7, 'SAVANA 2500 PASSENGER': 7, 'SAVANA 3500 PASSENGER': 7, 'YUKON': 7, 'YUKON XL': 7, 'CR-V': 7, 'CR-V AWD': 7, 'PILOT AWD': 7, 'QX60 AWD': 7, 'QX80 4WD': 7, 'RONDO': 7, 'ES 300h': 7, 'ES 350': 7, 'GS 350 AWD': 7, 'GX 460': 7, 'IS 350 AWD': 7, 'LX 570': 7, 'RX 450h AWD': 7, 'MAZDA6': 7, 'G 550': 7, 'SL 550': 7, 'GT-R': 7, '911 GT3': 7, 'HIGHLANDER': 7, 'RAV4 AWD': 7, 'YARIS': 7, 'CONTINENTAL GT CONVERTIBLE': 7, 'SANTA FE SPORT AWD': 7, 'TUCSON AWD': 7, '1500': 7, '1500 4X4': 7, 'CX-3': 7, 'Colorado': 7, 'Canyon': 7, 'Sierra 4WD AT4': 7, 'Civic Sedan': 7, 'Corolla': 7, 'V8 VANTAGE': 6, 'V8 VANTAGE S': 6, 'SQ5': 6, '320i': 6, '428i COUPE': 6, '435i COUPE': 6, '435i xDRIVE COUPE': 6, 'M6': 6, 'X6 M': 6, 'Z4 sDRIVE28i': 6, 'LACROSSE': 6, 'LACROSSE AWD': 6, 'REGAL AWD': 6, 'XTS': 6, 'XTS AWD': 6, 'XTS Vsport AWD': 6, 'CRUZE DIESEL': 6, 'SONIC RS': 6, 'SONIC 5 RS': 6, 'TRAVERSE': 6, 'TOWN & COUNTRY FFV': 6, 'CHARGER AWD': 6, 'DART FFV': 6, 'DART GT': 6, 'DART TURBO AERO': 6, 'FIESTA SFE': 6, 'CIVIC': 6, 'CR-Z': 6, 'QX50 AWD': 6, 'F-TYPE S CONVERTIBLE': 6, 'CHEROKEE 4X4': 6, 'CHEROKEE TRAILHAWK 4X4': 6, 'MKS AWD': 6, 'MKT AWD': 6, 'MKZ': 6, 'CX-9 4WD': 6, 'B 250': 6, 'CLA 250': 6, 'E 300 4MATIC': 6, 'COOPER CLUBMAN': 6, 'COOPER COUNTRYMAN': 6, 'COOPER S CLUBMAN': 6, 'COOPER S PACEMAN ALL4': 6, 'JOHN COOPER WORKS PACEMAN ALL4': 6, '1500 (MDS)': 6, '1500 4X4 (MDS)': 6, 'FR-S': 6, 'tC': 6, 'XV CROSSTREK AWD': 6, 'RAV4': 6, 'VENZA': 6, 'VENZA 4WD': 6, 'MDX SH-AWD': 6, 'TLX': 6, 'TLX SH-AWD': 6, 'A3': 6, 'EQUINOX FFV': 6, 'EQUINOX AWD FFV': 6, '200 AWD FFV': 6, 'T-150 WAGON FFV': 6, 'TERRAIN FFV': 6, 'CHEROKEE FFV': 6, 'WRANGLER 4X4': 6, 'WRANGLER UNLIMITED 4X4': 6, 'NX 300h AWD': 6, 'RC 350 AWD': 6, 'RC F': 6, 'C 300 4MATIC': 6, 'GLA 250 4MATIC': 6, 'JOHN COOPER WORKS': 6, '911 CARRERA 4 GTS': 6, '911 CARRERA 4 GTS CABRIOLET': 6, '911 CARRERA GTS': 6, '911 CARRERA GTS CABRIOLET': 6, 'BOXSTER GTS': 6, 'CAYMAN GTS': 6, 'WRX': 6, 'S60 T6 AWD': 6, 'V60 T6 AWD': 6, 'XC60 T5 AWD': 6, 'XC60 T6 AWD': 6, '340i': 6, '340i xDRIVE': 6, 'M2': 6, 'M3': 6, 'ATS-V': 6, 'IMPALA FFV': 6, 'SUBURBAN FFV': 6, 'SUBURBAN 4WD FFV': 6, 'TAHOE FFV': 6, 'TAHOE 4WD FFV': 6, '500X': 6, 'TRANSIT CONNECT VAN FFV': 6, 'TRANSIT CONNECT WAGON LWB FFV': 6, 'YUKON FFV': 6, 'YUKON 4WD FFV': 6, 'YUKON XL FFV': 6, 'YUKON XL 4WD FFV': 6, 'GRAND CHEROKEE 4X4': 6, 'YARIS HATCHBACK': 6, 'GOLF R': 6, 'CONTINENTAL AWD': 6, 'Colorado 4WD': 6, 'Challenger': 6, 'Mustang Convertible': 6, 'Canyon 4WD': 6, 'Fit': 6, 'Cherokee': 6, 'Cherokee 4X4 Active Drive I': 6, 'Continental AWD': 6, 'Tacoma 4WD': 6, 'VANQUISH': 5, 'A4': 5, 'A5 CABRIOLET QUATTRO': 5, 'A7 QUATTRO': 5, 'S6': 5, 'S7': 5, 'S8': 5, 'TT COUPE QUATTRO': 5, 'TT ROADSTER QUATTRO': 5, 'MULSANNE': 5, '328d xDRIVE TOURING': 5, '640i xDRIVE GRAN COUPE': 5, '650i xDRIVE CABRIOLET': 5, '650i xDRIVE COUPE': 5, '650i xDRIVE GRAN COUPE': 5, 'M5': 5, 'X1 xDRIVE28i': 5, 'X5 xDRIVE35i': 5, 'X5 xDRIVE50i': 5, 'X6 xDRIVE35i': 5, 'X6 xDRIVE50i': 5, 'Z4 sDRIVE35i': 5, 'ENCLAVE': 5, 'ENCLAVE AWD': 5, 'TRAVERSE AWD': 5, 'CHALLENGER SRT': 5, 'CHALLENGER SRT (MDS)': 5, 'JOURNEY': 5, 'JOURNEY AWD': 5, '500 HATCHBACK TURBO': 5, 'C-MAX HYBRID': 5, 'EXPLORER': 5, 'FIESTA ST': 5, 'FLEX': 5, 'FLEX AWD': 5, 'FUSION HYBRID': 5, 'TAURUS AWD': 5, 'ODYSSEY': 5, 'SANTA FE': 5, 'SANTA FE SPORT': 5, 'SONATA HYBRID': 5, 'Q50 HYBRID AWD': 5, 'QX70 AWD': 5, 'XJR LWB': 5, 'CADENZA': 5, 'OPTIMA HYBRID': 5, 'SEDONA': 5, 'AVENTADOR COUPE': 5, 'RANGE ROVER EVOQUE': 5, 'GS 450h': 5, 'MKT LIVERY AWD': 5, 'MKZ HYBRID': 5, 'GHIBLI': 5, 'GRANTURISMO': 5, 'GRANTURISMO CONVERTIBLE': 5, 'QUATTROPORTE GTS': 5, 'QUATTROPORTE SQ4': 5, 'CX-9': 5, 'MAZDA3 4-DOOR (i-ELOOP)': 5, 'MAZDA3 5-DOOR (i-ELOOP)': 5, 'MURANO AWD': 5, 'NV200 CARGO VAN': 5, 'PATHFINDER': 5, 'PATHFINDER 4WD': 5, 'ROGUE': 5, 'ROGUE AWD': 5, '911 TURBO': 5, '911 TURBO CABRIOLET': 5, '911 TURBO S': 5, '911 TURBO S CABRIOLET': 5, 'CAYENNE': 5, 'CAYENNE S': 5, 'CAYENNE TURBO': 5, 'GHOST': 5, 'GHOST EWB': 5, 'PHANTOM': 5, 'PHANTOM EWB': 5, 'WRAITH': 5, '4RUNNER 4WD': 5, 'AVALON': 5, 'CAMRY HYBRID LE': 5, 'CAMRY HYBRID XLE/SE': 5, 'COROLLA LE ECO (1-mode)': 5, 'COROLLA LE ECO (2-mode)': 5, 'HIGHLANDER AWD': 5, 'HIGHLANDER HYBRID AWD': 5, 'PRIUS': 5, 'PRIUS c': 5, 'PRIUS v': 5, 'SEQUOIA 4WD': 5, 'SIENNA': 5, 'SIENNA AWD': 5, 'CC': 5, 'TIGUAN 4MOTION': 5, 'S3': 5, 'CTS Vsport': 5, 'ESCALADE 4WD': 5, 'T-150 WAGON': 5, 'F-TYPE S COUPE': 5, 'RENEGADE': 5, 'V60 T5': 5, 'X4 M40i': 5, 'ENVISION AWD': 5, 'DURANGO AWD': 5, '500X AWD': 5, 'GS F': 5, 'IS 300 AWD': 5, 'RC 300 AWD': 5, 'CX-3 4WD': 5, 'MX-5 (SIL)': 5, 'AMG C 63': 5, 'AMG C 63 S': 5, 'AMG G 63': 5, 'AMG S 65': 5, 'V60 CC T5 AWD': 5, 'XC90 T5 AWD': 5, 'XC90 T6 AWD': 5, 'XT5 AWD': 5, 'MUSTANG (Performance Pkg)': 5, 'Equinox AWD': 5, 'Impala': 5, 'Charger (MDS)': 5, 'Edge AWD': 5, 'Acadia': 5, 'Terrain AWD': 5, 'Civic Hatchback': 5, 'Forte': 5, 'Soul': 5, 'Mazda3 5-Door': 5, '4C': 4, 'RS 7': 4, 'S5 CABRIOLET': 4, 'TTS COUPE QUATTRO': 4, '328d xDRIVE': 4, '750i xDRIVE': 4, 'X3 xDRIVE28i': 4, 'X3 xDRIVE35i': 4, 'ENCORE': 4, 'ENCORE AWD': 4, 'LACROSSE eASSIST': 4, 'CRUZE ECO': 4, '300 (MDS)': 4, 'CHARGER AWD (MDS)': 4, 'CHARGER SRT (MDS)': 4, 'DURANGO AWD FFV': 4, 'E150 VAN FFV': 4, 'TAURUS': 4, 'ACCORD HYBRID': 4, 'PILOT': 4, 'Q50': 4, 'Q60 CONVERTIBLE': 4, 'Q70': 4, 'Q70 HYBRID': 4, 'QX60': 4, 'QX60 HYBRID AWD': 4, 'XFR': 4, 'XJ SUPERCHARGED': 4, 'XJL SUPERCHARGED': 4, 'XJR': 4, 'GRAND CHEROKEE 4X4 FFV': 4, 'CT 200h': 4, 'LS 460 AWD': 4, 'LS 460 L AWD': 4, 'MAZDA6 (i-ELOOP)': 4, 'CLS 550 4MATIC': 4, 'E 550 CABRIOLET': 4, 'E 550 COUPE': 4, 'S 550 4MATIC LWB': 4, 'S 550 4MATIC SWB': 4, 'SLK 250': 4, 'COOPER COUPE': 4, 'COOPER PACEMAN': 4, 'COOPER ROADSTER': 4, 'COOPER S COUPE': 4, 'COOPER S ROADSTER': 4, 'JOHN COOPER WORKS COUPE': 4, 'JOHN COOPER WORKS ROADSTER': 4, 'LANCER EVOLUTION': 4, 'OUTLANDER': 4, 'ARMADA 4WD': 4, 'JUKE AWD': 4, 'MAXIMA': 4, 'TITAN': 4, 'TITAN 4WD': 4, 'XTERRA 4WD': 4, 'CAYENNE GTS': 4, 'CAYENNE TURBO S': 4, 'PANAMERA': 4, 'PANAMERA 4': 4, 'PANAMERA 4S': 4, 'PANAMERA 4S EXECUTIVE': 4, 'PANAMERA TURBO': 4, 'PANAMERA TURBO EXECUTIVE': 4, 'CARGO VAN FFV': 4, 'PHANTOM COUPE': 4, 'PHANTOM DROPHEAD COUPE': 4, 'xB': 4, 'FORTWO CABRIOLET': 4, 'BEETLE TDI (modified)': 4, 'JETTA TDI (modified)': 4, 'JETTA GLI': 4, 'TOUAREG': 4, 'RLX HYBRID': 4, 'RAPIDE S': 4, 'V12 VANTAGE S': 4, 'VANTAGE GT': 4, 'A3 QUATTRO': 4, 'A3 CABRIOLET QUATTRO': 4, 'A4 ALLROAD QUATTRO': 4, 'Q3': 4, 'Q3 QUATTRO': 4, '428i GRAN COUPE': 4, '640i xDRIVE CABRIOLET': 4, 'ALPINA B6 xDRIVE GRAN COUPE': 4, 'M235i CABRIOLET': 4, 'M6 COUPE': 4, 'X4 xDRIVE28i': 4, 'X5 M': 4, 'X5 xDRIVE35d': 4, 'CITY EXPRESS': 4, 'CHARGER SRT HELLCAT': 4, 'EDGE (Start/Stop)': 4, 'EXPEDITION 4X4': 4, 'TRANSIT CONNECT VAN': 4, 'GENESIS AWD': 4, 'GENESIS COUPE': 4, 'SANTA FE AWD': 4, 'SANTA FE ULTIMATE AWD': 4, 'CHEROKEE 4X4 FFV': 4, 'SEDONA SX': 4, 'SEDONA SXL': 4, 'AVENTADOR ROADSTER': 4, 'HURACAN': 4, 'NAVIGATOR 4X4': 4, 'B 250 4MATIC': 4, 'E 400 4MATIC': 4, 'E 400 4MATIC WAGON': 4, 'MURANO': 4, 'PATHFINDER 4WD PLATINUM': 4, 'MACAN S': 4, 'MACAN TURBO': 4, '1500 ECODIESEL': 4, '1500 4X4 ECODIESEL': 4, 'PROMASTER CITY': 4, '4RUNNER 4WD (Part-Time 4WD)': 4, 'RAV4 LE/XLE': 4, 'GOLF SPORTWAGON': 4, 'S60 T5 AWD': 4, 'V60 T5 AWD': 4, 'CTS-V': 4, 'CRUZE LIMITED': 4, 'ACCORD COUPE': 4, 'ACCORD SEDAN': 4, 'AMG GLE 63 S 4MATIC': 4, 'AMG SL 63': 4, 'GLE 400 4MATIC': 4, 'S60 T5': 4, '230i COUPE': 4, '440i COUPE': 4, '440i xDRIVE COUPE': 4, 'M240i CABRIOLET': 4, 'M240i COUPE': 4, 'XT5': 4, 'COLORADO ZR2 4WD': 4, 'CRUZE HATCHBACK': 4, '124 SPIDER': 4, 'ESCAPE FFV': 4, 'GT': 4, 'IONIQ': 4, 'CHEROKEE 4X4 ACTIVE DRIVE I': 4, 'CHEROKEE 4X4 ACTIVE DRIVE LOCK': 4, 'SLC 300': 4, 'COOPER CLUBMAN ALL4': 4, 'COOPER COUNTRYMAN ALL4': 4, 'COOPER S CLUBMAN ALL4': 4, 'JOHN COOPER WORKS CLUBMAN ALL4': 4, 'MIRAGE G4': 4, 'QASHQAI': 4, 'SENTRA (Turbo)': 4, 'SENTRA NISMO': 4, 'CROSSTREK AWD': 4, 'IMPREZA 4-DOOR AWD': 4, 'IMPREZA 5-DOOR AWD': 4, 'COROLLA iM': 4, 'GOLF SPORTWAGEN': 4, 'S90 T6 AWD': 4, '500': 4, '440i xDrive Coupe': 4, 'M2 Competition': 4, 'M240i Cabriolet': 4, 'M240i Coupe': 4, 'M240i Coupe M Performance': 4, 'M4 Cabriolet': 4, 'M4 Cabriolet Competition': 4, 'M4 Coupe': 4, 'M4 Coupe Competition': 4, 'Envision AWD': 4, 'Regal AWD': 4, 'Blazer': 4, 'Camaro SS': 4, 'Camaro ZL1': 4, 'Colorado ZR2 4WD': 4, 'Malibu': 4, 'Silverado FFV': 4, 'Silverado 4WD FFV': 4, 'Spark': 4, 'Suburban FFV': 4, 'Suburban 4WD': 4, 'Suburban 4WD FFV': 4, 'Tahoe FFV': 4, 'Tahoe 4WD': 4, 'Tahoe 4WD FFV': 4, 'Challenger (MDS)': 4, 'Challenger SRT Hellcat': 4, 'Charger': 4, 'Charger FFV': 4, 'Durango AWD': 4, '124 Spider': 4, 'Escape AWD': 4, 'Explorer AWD': 4, 'Mustang (Performance Pkg)': 4, 'Transit Connect Van FFV': 4, 'Transit Connect Wagon LWB': 4, 'Transit Connect Wagon LWB FFV': 4, 'G70 AWD': 4, 'Acadia AWD': 4, 'Sierra FFV': 4, 'Sierra 4WD FFV': 4, 'Yukon FFV': 4, 'Yukon 4WD': 4, 'Yukon 4WD FFV': 4, 'Yukon XL FFV': 4, 'Yukon XL 4WD': 4, 'Yukon XL 4WD FFV': 4, 'Civic Hatchback Sport': 4, 'Pilot AWD': 4, 'Accent': 4, 'Kona AWD': 4, 'Santa Fe AWD': 4, 'Sonata': 4, 'Tucson AWD': 4, 'Veloster Turbo': 4, 'F-TYPE Convertible': 4, 'F-TYPE Coupe': 4, 'Cherokee 4X4 Active Drive II': 4, 'Cherokee 4X4 Active Drive Lock': 4, 'Compass': 4, 'Compass 4X4': 4, 'Grand Cherokee 4X4': 4, 'Renegade': 4, 'Renegade 4X4': 4, 'Rio': 4, 'Sorento AWD': 4, 'Sportage AWD': 4, 'Mazda3 4-Door': 4, 'Mirage': 4, 'Outlander 4WD': 4, '370Z Roadster': 4, 'Qashqai': 4, 'Sentra': 4, 'Versa': 4, '1500 eTorque': 4, '1500 4X4 eTorque': 4, '1500 Classic': 4, '1500 Classic 4X4': 4, 'Crosstrek AWD': 4, 'Impreza 4-Door AWD': 4, 'Impreza 5-Door AWD': 4, 'Legacy AWD': 4, 'Outback AWD': 4, 'Camry': 4, 'Corolla Hatchback': 4, 'Golf': 4, 'Golf GTI': 4, 'Jetta': 4, 'Jetta GLI': 4, 'RLX': 3, 'TSX': 3, 'A6 QUATTRO TDI (modified)': 3, 'A7 QUATTRO TDI (modified)': 3, 'RS 5': 3, '320i xDRIVE': 3, '328i xDRIVE GRAN TURISMO': 3, '328i xDRIVE TOURING': 3, '335i xDRIVE GRAN TURISMO': 3, '428i xDRIVE COUPE': 3, '535i xDRIVE GRAN TURISMO': 3, '550i xDRIVE GRAN TURISMO': 3, '750Li xDRIVE': 3, 'ACTIVEHYBRID 5': 3, 'Z4 sDRIVE35is': 3, 'REGAL eASSIST': 3, 'SRX': 3, 'SRX AWD': 3, 'EXPRESS 1500 CARGO': 3, 'TRAX AWD': 3, 'DURANGO AWD (MDS)': 3, 'FUSION (Start/Stop)': 3, 'TRANSIT CONNECT WAGON': 3, 'SAVANA 1500 CARGO': 3, 'RIDGELINE AWD': 3, 'EQUUS': 3, 'SONATA HYBRID LIMITED': 3, 'Q50 HYBRID': 3, 'COMPASS 4X4 TRAIL RATED': 3, 'GRAND CHEROKEE 4X4 (MDS)': 3, 'GRAND CHEROKEE 4X4 DIESEL': 3, 'GRAND CHEROKEE SRT 4X4 (MDS)': 3, 'PATRIOT 4X4 TRAIL RATED': 3, 'OPTIMA HYBRID EX': 3, 'RIO ECO': 3, 'LR4': 3, 'GS 350': 3, 'IS 350': 3, 'LS 460': 3, 'LS 600h L': 3, 'MKT LIVERY': 3, 'E 250 BLUETEC 4MATIC': 3, 'E 550 4MATIC': 3, 'GL 350 BLUETEC 4MATIC': 3, 'GL 450 4MATIC': 3, 'GL 550 4MATIC': 3, 'SLK 350': 3, 'CAYENNE DIESEL (modified)': 3, 'PANAMERA GTS': 3, 'PANAMERA S': 3, '1500 HFE': 3, 'FORTWO COUPE': 3, 'XV CROSSTREK HYBRID AWD': 3, 'HIGHLANDER HYBRID AWD LE': 3, 'CC 4MOTION': 3, 'PASSAT TDI (modified)': 3, 'TOUAREG TDI (modified)': 3, 'X3 xDRIVE28d': 3, 'YUKON DENALI 4WD': 3, 'YUKON XL DENALI 4WD': 3, 'SONATA SPORT/LIMITED': 3, 'RANGE ROVER SUPERCHARGED': 3, 'RANGE ROVER SUPERCHARGED LWB': 3, 'RANGE ROVER SPORT SUPERCHARGED': 3, 'NX 200t AWD': 3, 'NX 200t AWD F SPORT': 3, 'NAVIGATOR L 4X4': 3, 'CLA 250 4MATIC': 3, 'E 400 CABRIOLET': 3, 'S 550 4MATIC COUPE': 3, 'S 600': 3, 'JUKE NISMO RS': 3, 'JUKE NISMO RS AWD': 3, 'XC60 T5': 3, 'MDX SH-AWD ELITE': 3, 'CT6': 3, 'CRUZE PREMIER': 3, 'MALIBU HYBRID': 3, 'SILVERADO eASSIST 4WD': 3, 'FLEX AWD GTDI': 3, 'FOCUS RS AWD': 3, 'FOCUS ST': 3, 'SHELBY GT350 MUSTANG': 3, 'SIERRA eASSIST 4WD': 3, 'HURACAN SPYDER': 3, 'DISCOVERY SPORT': 3, 'GHIBLI S': 3, 'GHIBLI SQ4': 3, 'QUATTROPORTE S': 3, 'AMG G 65': 3, 'AMG SL 65': 3, 'GLE 550 4MATIC': 3, 'METRIS CARGO': 3, 'METRIS PASSENGER': 3, 'ALTIMA SR': 3, 'RAV4 HYBRID AWD': 3, 'RAV4 LIMITED/SE AWD': 3, 'TACOMA 4WD D-CAB OFF-ROAD': 3, 'YARIS (SIL)': 3, 'BEETLE DUNE': 3, 'S60 CC T5 AWD': 3, 'S60 POLESTAR': 3, 'V60 POLESTAR': 3, 'NSX': 3, 'F-PACE 35t': 3, 'XE 20d AWD': 3, 'XE 35t AWD': 3, 'XF 20d AWD': 3, 'XF 35t AWD': 3, 'MKC AWD (Start/Stop)': 3, 'AMG GLA 45 4MATIC': 3, 'AMG GLE 43 4MATIC': 3, 'AMG SLC 43': 3, 'GLC 300 4MATIC': 3, 'GLS 450 4MATIC': 3, 'GLS 550 4MATIC': 3, 'SL 450': 3, 'GOLF ALLTRACK': 3, 'GOLF SPORTWAGEN 4MOTION': 3, 'V90 T6 AWD': 3, 'V90 CC T6 AWD': 3, 'TLX A-SPEC': 3, 'DB11 V8': 3, 'RS 3': 3, 'X3 M40i': 3, 'F-150 4X4 XL/XLT': 3, 'F-PACE 25t': 3, 'XF 25t AWD': 3, 'NEW WRANGLER 4X4': 3, 'NEW WRANGLER UNLIMITED 4X4': 3, 'IS 300': 3, 'LC 500': 3, 'LC 500h': 3, 'LS 500 AWD': 3, 'LS 500h AWD': 3, 'NX 300 AWD': 3, 'NX 300 AWD F SPORT': 3, 'RX 350 L AWD': 3, 'CX-5 (Cylinder Deactivation)': 3, 'CX-5 4WD (Cylinder Deactivation)': 3, 'AMG C 43 4MATIC': 3, 'S 450 4MATIC SWB': 3, 'S 560 4MATIC': 3, 'S 560 4MATIC SWB': 3, 'WRX STI AWD': 3, 'C-HR': 3, 'Vantage V8': 3, 'A6 quattro': 3, 'Bentayga': 3, '440i Coupe': 3, 'Blazer AWD': 3, 'Corvette': 3, 'Equinox': 3, 'Silverado 4WD Trail Boss': 3, 'Trax': 3, 'Terrain': 3, 'Veloster': 3, 'F-TYPE Convertible R-Dynamic': 3, 'F-TYPE Coupe R-Dynamic': 3, 'Wrangler JL 4X4': 3, 'Wrangler JL Unlimited 4X4': 3, 'Optima': 3, 'Stinger AWD': 3, 'Mazda3 5-Door (SIL)': 3, 'Cooper 3 Door': 3, 'Cooper 5 Door': 3, 'Cooper Clubman ALL4': 3, 'Cooper Convertible': 3, 'Cooper Countryman ALL4': 3, 'Cooper S 3 Door': 3, 'Cooper S 5 Door': 3, 'Cooper S Clubman ALL4': 3, 'Cooper S Convertible': 3, 'Cooper S Countryman ALL4': 3, 'John Cooper Works 3 Door': 3, 'John Cooper Works Clubman ALL4': 3, 'John Cooper Works Convertible': 3, 'John Cooper Works Countryman ALL4': 3, 'Frontier': 3, 'Frontier 4WD': 3, '911 Carrera S': 3, '911 Carrera S Cabriolet': 3, '911 Carrera 4S': 3, '911 Carrera 4S Cabriolet': 3, 'Tundra 4WD': 3, 'Silverado 4WD Custom Trail Boss': 3, 'Wrangler 4X4': 3, 'Wrangler Unlimited 4X4': 3, 'ILX HYBRID': 2, 'TL AWD': 2, 'DB9': 2, 'A8 TDI (modified)': 2, 'A8L TDI (modified)': 2, 'Q5 TDI (modified)': 2, 'Q5 HYBRID': 2, 'Q7 TDI (modified)': 2, 'RS 5 CABRIOLET': 2, 'TTS ROADSTER QUATTRO': 2, 'CONTINENTAL GTC': 2, '328i': 2, '328i xDRIVE': 2, '335i': 2, '335i xDRIVE': 2, '528i xDRIVE': 2, '535d xDRIVE': 2, '535i xDRIVE': 2, '550i xDRIVE': 2, '740Li xDRIVE': 2, 'ACTIVEHYBRID 3': 2, 'ACTIVEHYBRID 7L': 2, 'ALPINA B7 xDRIVE LWB': 2, 'ALPINA B7 xDRIVE SWB': 2, 'X1 xDRIVE35i': 2, 'CTS SEDAN': 2, 'CTS SEDAN AWD': 2, 'CTS SPORT WAGON': 2, 'CTS SPORT WAGON AWD': 2, 'CTS-V COUPE': 2, 'CTS-V SEDAN': 2, 'CTS-V SPORT WAGON': 2, 'ESCALADE AWD': 2, 'ESCALADE ESV AWD': 2, 'CAMARO 2LS': 2, 'EXPRESS 1500 CARGO AWD': 2, 'EXPRESS 1500 CARGO CONV': 2, 'EXPRESS 1500 CARGO CONV AWD': 2, 'EXPRESS 1500 PASSENGER': 2, 'EXPRESS 1500 PASSENGER AWD': 2, 'ORLANDO': 2, '200 CONVERTIBLE': 2, '200 CONVERTIBLE FFV': 2, '200 SEDAN': 2, '200 SEDAN FFV': 2, 'AVENGER': 2, 'AVENGER FFV': 2, '500L TURBO': 2, 'E150 WAGON FFV': 2, 'E350 WAGON FFV': 2, 'EXPEDITION 4X4 FFV': 2, 'F-150 RAPTOR 4X4': 2, 'FLEX AWD (EcoBoost)': 2, 'FOCUS SFE FFV': 2, 'TRANSIT CONNECT': 2, 'SAVANA 1500 CARGO AWD': 2, 'SAVANA 1500 CARGO CONV': 2, 'SAVANA 1500 CARGO CONV AWD': 2, 'SAVANA 1500 PASSENGER': 2, 'SAVANA 1500 PASSENGER AWD': 2, 'YUKON DENALI AWD': 2, 'YUKON DENALI XL AWD': 2, 'SANTA FE SPORT 4WD': 2, 'TUCSON 4WD': 2, 'Q60 COUPE': 2, 'F-TYPE V8 S CONVERTIBLE': 2, 'XF': 2, 'XFR-S': 2, 'XJ AWD': 2, 'XJL AWD PORTFOLIO': 2, 'XKR CONVERTIBLE': 2, 'XKR COUPE': 2, 'XKR-S CONVERTIBLE': 2, 'XKR-S COUPE': 2, 'WRANGLER 4X4 (2-DOOR)': 2, 'WRANGLER UNLIMITED 4X4 (4-DOOR)': 2, 'SORENTO 4WD': 2, 'SOUL ECO Dynamics': 2, 'GALLARDO COUPE': 2, 'LR2': 2, 'RANGE ROVER EVOQUE COUPE': 2, 'RANGE ROVER LWB V8 5.0 SC FFV': 2, 'RANGE ROVER SPORT V6 3.0 SC FFV': 2, 'RANGE ROVER SPORT V8 5.0 SC FFV': 2, 'RANGE ROVER V6 3.0 SC FFV': 2, 'RANGE ROVER V8 5.0 SC FFV': 2, 'IS 250': 2, 'IS 250 AWD': 2, 'IS 250 C': 2, 'IS 350 C': 2, 'NAVIGATOR 4X4 FFV': 2, 'GHIBLI AWD': 2, 'MAZDA2': 2, 'C 250 COUPE': 2, 'C 300 4MATIC FFV': 2, 'C 350 4MATIC COUPE': 2, 'C 350 COUPE': 2, 'C 63 AMG COUPE': 2, 'CLS 63 AMG 4MATIC': 2, 'E 63 AMG S 4MATIC': 2, 'E 63 AMG S 4MATIC WAGON': 2, 'G 63 AMG': 2, 'GL 63 AMG': 2, 'GLK 250 BLUETEC 4MATIC': 2, 'GLK 350 4MATIC': 2, 'ML 350 4MATIC FFV': 2, 'ML 350 BLUETEC 4MATIC': 2, 'ML 550 4MATIC': 2, 'ML 63 AMG 4MATIC': 2, 'S 63 AMG 4MATIC': 2, 'SL 63 AMG': 2, 'SL 65 AMG': 2, 'SLK 55 AMG': 2, 'SLS AMG GT COUPE': 2, 'JOHN COOPER WORKS CLUBMAN': 2, 'LANCER AWD': 2, 'LANCER RALLIART': 2, 'PATHFINDER HYBRID 4WD': 2, 'QUEST': 2, 'iQ': 2, 'xD': 2, 'COROLLA MATRIX': 2, 'FJ CRUISER 4WD': 2, 'RAV4 LIMITED AWD': 2, 'EOS': 2, 'GOLF WAGON': 2, 'GOLF WAGON TDI (modified)': 2, 'S60 AWD': 2, 'XC60 AWD': 2, 'XC70 AWD': 2, '228i COUPE': 2, '228i xDRIVE CABRIOLET': 2, '320i SEDAN': 2, '328i SEDAN': 2, '335i SEDAN': 2, '335i xDRIVE SEDAN': 2, '428i CABRIOLET': 2, '428i xDRIVE CABRIOLET': 2, '428i xDRIVE GRAN COUPE': 2, '435i CABRIOLET': 2, '435i xDRIVE CABRIOLET': 2, '435i xDRIVE GRAN COUPE': 2, 'M235i COUPE': 2, 'M3 SEDAN': 2, 'M5 SEDAN': 2, 'X4 xDRIVE35i': 2, 'ESCALADE ESV 4WD': 2, 'EXPRESS 2500 PASSENGER FFV': 2, 'EXPRESS 3500 PASSENGER FFV': 2, '200': 2, 'EXPEDITION MAX 4X4': 2, 'SAVANA 2500 PASSENGER FFV': 2, 'SAVANA 3500 PASSENGER FFV': 2, 'ELANTRA COUPE': 2, 'Q60': 2, 'RANGE ROVER': 2, 'RANGE ROVER SPORT': 2, 'RC 350': 2, 'CLS 400 4MATIC': 2, 'E 400 COUPE': 2, '370Z COUPE': 2, 'PANAMERA TURBO S': 2, 'PANAMERA TURBO S EXECUTIVE': 2, '1500 ECODIESEL HFE': 2, 'GOLF TDI (modified)': 2, 'GOLF SPORTWAGON TDI (modified)': 2, 'JETTA HYBRID': 2, 'S80 T5': 2, 'XC70 T5': 2, 'A8 QUATTRO': 2, 'A8L QUATTRO': 2, 'Q5 QUATTRO': 2, 'S4 QUATTRO': 2, 'S5 QUATTRO': 2, '228i': 2, 'M235i': 2, 'LACROSSE FFV': 2, 'LACROSSE AWD FFV': 2, 'CRUZE LIMITED ECO': 2, 'IMPALA DUAL FUEL': 2, 'TRAX 4WD': 2, 'EXPEDITION EL 4X4': 2, 'TRANSIT CONNECT WAGON FFV': 2, 'Q50S RED SPORT AWD': 2, 'F-TYPE R AWD CONVERTIBLE': 2, 'F-TYPE R AWD COUPE': 2, 'F-TYPE S CONVERTIBLE AWD': 2, 'F-TYPE S COUPE AWD': 2, 'XJ R-SPORT 3.0 AWD': 2, 'IS 200t': 2, 'MAZDA6 (SIL)': 2, 'AMG CLA 45': 2, 'AMG CLS 63 S 4MATIC': 2, 'AMG E 63 S 4MATIC': 2, 'AMG E 63 S 4MATIC WAGON': 2, 'AMG S 63 COUPE': 2, 'AMG S 65 COUPE': 2, 'CLA 250 4MATIC FFV': 2, 'E 400 4MATIC COUPE': 2, 'MAYBACH S 600': 2, 'S 400 4MATIC SWB': 2, 'LANCER 4WD': 2, 'iM': 2, 'S60 INSCRIPTION T5 AWD': 2, 'XC90 T5': 2, 'MDX HYBRID AWD': 2, '4C SPIDER': 2, 'GIULIA': 2, 'GIULIA AWD': 2, 'GIULIA QUADRIFOGLIO': 2, 'DB11 V12': 2, 'BENTAYGA': 2, '230i xDRIVE CABRIOLET': 2, '230i xDRIVE COUPE': 2, '330i xDRIVE': 2, '330i xDRIVE GRAN TURISMO': 2, '330i xDRIVE TOURING': 2, '340i xDRIVE GRAN TURISMO': 2, '430i xDRIVE CABRIOLET': 2, '430i xDRIVE COUPE': 2, '430i xDRIVE GRAN COUPE': 2, '440i xDRIVE CABRIOLET': 2, '440i xDRIVE GRAN COUPE': 2, '530i xDRIVE': 2, '540i xDRIVE': 2, 'M240i xDRIVE CABRIOLET': 2, 'M240i xDRIVE COUPE': 2, 'M760i xDRIVE': 2, 'CRUZE HATCHBACK PREMIER': 2, 'PACIFICA': 2, 'PACIFICA (Stop-Start)': 2, 'FOCUS (Start/Stop)': 2, 'IONIQ BLUE': 2, 'SONATA HYBRID SE': 2, 'QX30': 2, 'QX30 AWD': 2, 'NEW COMPASS': 2, 'NEW COMPASS 4X4': 2, 'FORTE (MPI)': 2, 'FORTE (GDI)': 2, 'NIRO': 2, 'NIRO FE': 2, 'NIRO TOURING': 2, 'OPTIMA FE': 2, 'SORENTO AWD FE': 2, 'RANGE ROVER EVOQUE CONVERTIBLE': 2, 'LEVANTE': 2, 'LEVANTE S': 2, 'AMG C 63 CABRIOLET': 2, 'AMG C 63 COUPE': 2, 'AMG C 63 S CABRIOLET': 2, 'AMG C 63 S COUPE': 2, 'AMG GLC 43 4MATIC COUPE': 2, 'AMG GLE 43 4MATIC COUPE': 2, 'AMG GLE 63 S 4MATIC COUPE': 2, 'AMG GT COUPE': 2, 'AMG GT S COUPE': 2, 'AMG S 63 4MATIC': 2, 'C 300 4MATIC CABRIOLET': 2, 'C 300 4MATIC COUPE': 2, 'COOPER S COUNTRYMAN  ALL4': 2, 'JOHN COOPER WORKS 3 DOOR': 2, 'QASHQAI AWD': 2, 'TITAN 4WD PRO-4X': 2, 'CAYENNE PLATINUM': 2, 'MACAN': 2, 'MACAN GTS': 2, 'DAWN': 2, 'HIGHLANDER AWD (Start/Stop System)': 2, 'HIGHLANDER AWD LE': 2, 'TLX SH-AWD A-SPEC': 2, 'TT RS': 2, 'CRUZE HATCHBACK DIESEL': 2, 'CHALLENGER GT AWD FFV': 2, '500 ABARTH': 2, 'CIVIC HATCHBACK SPORT': 2, 'KONA AWD': 2, 'F-PACE 20d': 2, 'F-TYPE CONVERTIBLE R-DYNAMIC': 2, 'F-TYPE COUPE R-DYNAMIC': 2, 'XE 25t AWD': 2, 'CHEROKEE 4X4 ACTIVE DRIVE I FFV': 2, 'WRANGLER JK 4X4': 2, 'WRANGLER JK UNLIMITED 4X4': 2, 'RANGE ROVER VELAR': 2, 'AMG CLA 45 4MATIC': 2, 'AMG GLC 43 4MATIC': 2, 'AMG GLS 63 4MATIC': 2, '911 TARGA 4 GTS': 2, 'BRZ tS': 2, 'S90 T5 AWD': 2, 'MDX SH-AWD A-SPEC': 2, 'MDX Hybrid AWD': 2, 'RDX AWD A-SPEC': 2, 'RLX Hybrid': 2, '4C Spider': 2, 'Giulia': 2, 'Giulia AWD': 2, 'Giulia Quadrifoglio': 2, 'Stelvio': 2, 'Stelvio AWD': 2, 'Stelvio AWD Quadrifoglio': 2, 'DB11 AMR': 2, 'DBS Superleggera': 2, 'A3 quattro': 2, 'A3 Cabriolet quattro': 2, 'A4 quattro': 2, 'A4 allroad quattro': 2, 'A5 quattro': 2, 'A5 Cabriolet quattro': 2, 'A5 Sportback quattro': 2, 'A7 quattro': 2, 'Q3 quattro': 2, 'Q8': 2, 'S5 Cabriolet': 2, 'S5 Sportback': 2, 'TT Coupe quattro': 2, 'TT Roadster quattro': 2, 'TTS Coupe': 2, '230i xDrive Cabriolet': 2, '230i xDrive Coupe': 2, '430i xDrive Cabriolet': 2, '430i xDrive Coupe': 2, '430i xDrive Gran Coupe': 2, '440i xDrive Cabriolet': 2, '440i xDrive Gran Coupe': 2, 'Alpina B7 xDrive': 2, 'M240i xDrive Cabriolet': 2, 'M240i xDrive Coupe': 2, 'M240i xDrive Coupe M Performance': 2, 'M4 CS': 2, 'M5 Competition': 2, 'M850i xDrive Cabriolet': 2, 'M850i xDrive Coupe': 2, 'X1 xDrive28i': 2, 'X2 xDrive28i': 2, 'X3 xDrive30i': 2, 'X4 xDrive30i': 2, 'X5 xDrive40i': 2, 'X5 xDrive50i': 2, 'X7 xDrive40i': 2, 'X7 xDrive50i': 2, 'Chiron': 2, 'Enclave': 2, 'Enclave AWD': 2, 'Encore': 2, 'Encore AWD': 2, 'Regal': 2, 'Escalade 4WD': 2, 'XT4': 2, 'XT4 AWD': 2, 'Corvette Z06': 2, 'Corvette ZR1': 2, 'Suburban': 2, 'Tahoe': 2, 'Traverse': 2, 'Traverse AWD': 2, 'Pacifica (Stop-Start)': 2, 'Charger AWD': 2, 'Charger AWD FFV': 2, 'Durango AWD SRT': 2, 'Grand Caravan FFV': 2, 'Journey': 2, 'Journey FFV': 2, 'EcoSport': 2, 'EcoSport AWD': 2, 'Edge': 2, 'Escape': 2, 'Escape FFV': 2, 'Expedition 4X4': 2, 'Expedition MAX 4X4': 2, 'Explorer FFV AWD': 2, 'F-150 4X4 Limited': 2, 'F-150 Raptor 4X4': 2, 'Fiesta': 2, 'Fusion': 2, 'Fusion Hybrid': 2, 'Mustang Bullitt': 2, 'Ranger 4WD': 2, 'Shelby GT350 Mustang': 2, 'T-150 Wagon': 2, 'Taurus FFV': 2, 'Taurus FFV AWD': 2, 'Transit Connect Van': 2, 'G70': 2, 'Yukon': 2, 'Yukon XL': 2, 'Accord Sport/Touring': 2, 'Accord Hybrid': 2, 'Civic Coupe Si': 2, 'Civic Sedan Si': 2, 'Civic Type R': 2, 'Odyssey': 2, 'Passport AWD': 2, 'Ridgeline AWD': 2, 'IONIQ Blue': 2, 'Kona': 2, 'Santa Fe': 2, 'Sonata Hybrid': 2, 'Tucson': 2, 'Veloster N': 2, 'Q50 AWD Red Sport': 2, 'Q60 AWD Red Sport': 2, 'E-PACE P250': 2, 'F-TYPE Convertible R-Dynamic AWD': 2, 'F-TYPE Coupe R-Dynamic AWD': 2, 'F-TYPE R AWD Convertible': 2, 'F-TYPE R AWD Coupe': 2, 'Grand Cherokee 4X4 SRT': 2, 'Grand Cherokee 4X4 Trackhawk': 2, 'Renegade 4X4 Trailhawk': 2, 'Niro': 2, 'Niro FE': 2, 'Niro Touring': 2, 'Optima Hybrid': 2, 'Sedona': 2, 'Sportage': 2, 'Aventador Coupe': 2, 'Aventador Roadster': 2, 'Huracan Coupe': 2, 'Huracan Coupe AWD': 2, 'Huracan Spyder': 2, 'Huracan Spyder AWD': 2, 'Urus': 2, 'Discovery': 2, 'Discovery TD6 Diesel': 2, 'Range Rover 3.0': 2, 'Range Rover TD6 Diesel': 2, 'Range Rover 5.0 Supercharged': 2, 'Range Rover SVAutobiography LWB': 2, 'Range Rover Sport 3.0': 2, 'Range Rover Sport TD6 Diesel': 2, 'Range Rover Sport Supercharged': 2, 'Range Rover Velar P300': 2, 'Range Rover Velar P380': 2, 'ES 350 F SPORT': 2, 'RX 450h L AWD': 2, 'UX 200': 2, 'UX 250h AWD': 2, 'MKZ Hybrid': 2, 'Nautilus': 2, 'Navigator 4X4': 2, 'Ghibli': 2, 'Ghibli S': 2, 'Levante': 2, 'Levante S': 2, 'Levante GTS': 2, 'Levante Trofeo': 2, 'Quattroporte S': 2, 'Quattroporte GTS': 2, 'CX-5 Turbo 4WD': 2, 'Mazda3 4-Door (SIL)': 2, 'Mazda3 4-Door (Cylinder Deactivation)': 2, 'Mazda3 4-Door 4WD': 2, 'Mazda3 5-Door 4WD': 2, 'Mazda6': 2, 'Mazda6 Turbo': 2, 'AMG C 43 4MATIC Cabriolet': 2, 'AMG C 43 4MATIC Coupe': 2, 'AMG C 43 4MATIC Wagon': 2, 'AMG C 63 S Cabriolet': 2, 'AMG C 63 S Coupe': 2, 'AMG CLS 53 4MATIC+': 2, 'AMG E 53 4MATIC+': 2, 'AMG E 53 4MATIC+ Cabriolet': 2, 'AMG E 53 4MATIC+ Coupe': 2, 'AMG E 63 S 4MATIC+': 2, 'AMG E 63 S 4MATIC+ Wagon': 2, 'AMG GLC 63 S 4MATIC+': 2, 'AMG GLC 63 S 4MATIC+ Coupe': 2, 'AMG GT R Coupe': 2, 'AMG S 63 4MATIC+': 2, 'AMG S 63 4MATIC+ Cabriolet': 2, 'AMG S 63 4MATIC+ Coupe': 2, 'C 300 4MATIC Cabriolet': 2, 'C 300 4MATIC Coupe': 2, 'C 300 4MATIC Wagon': 2, 'CLS 450 4MATIC': 2, 'E 450 4MATIC Cabriolet': 2, 'E 450 4MATIC Coupe': 2, 'Maybach S 560 4MATIC': 2, 'Maybach S 650': 2, 'Eclipse Cross 4WD': 2, 'Mirage G4': 2, 'Altima SR/Platinum': 2, 'Altima AWD': 2, 'Altima AWD SR/Platinum': 2, 'Armada 4WD': 2, 'Kicks': 2, 'Maxima': 2, 'Micra': 2, 'Murano': 2, 'Murano AWD': 2, 'NV200 Cargo Van': 2, 'Pathfinder': 2, 'Pathfinder 4WD': 2, 'Pathfinder 4WD Platinum': 2, 'Qashqai AWD': 2, 'Rogue': 2, 'Rogue AWD': 2, 'Sentra (Turbo)': 2, 'Sentra Nismo': 2, 'Titan 4WD': 2, 'Titan 4WD Pro-4X': 2, '911 Carrera': 2, '911 Carrera Cabriolet': 2, '911 Carrera GTS': 2, '911 Carrera GTS Cabriolet': 2, '911 Carrera T': 2, '911 Carrera 4': 2, '911 Carrera 4 Cabriolet': 2, '911 Carrera 4 GTS': 2, '911 Carrera 4 GTS Cabriolet': 2, '911 Targa 4': 2, '911 Targa 4 GTS': 2, '911 Targa 4S': 2, 'Boxster': 2, 'Boxster GTS': 2, 'Boxster S': 2, 'Cayenne': 2, 'Cayenne S': 2, 'Cayenne Turbo': 2, 'Cayman': 2, 'Cayman GTS': 2, 'Cayman S': 2, 'Macan': 2, 'Macan S': 2, 'Panamera': 2, 'Panamera 4': 2, 'Panamera 4 Executive': 2, 'Panamera 4 ST': 2, 'Panamera 4S': 2, 'Panamera 4S Executive': 2, 'Panamera 4S ST': 2, 'Panamera GTS': 2, 'Panamera GTS ST': 2, 'Panamera Turbo': 2, 'Panamera Turbo Executive': 2, 'Panamera Turbo ST': 2, '1500 HFE eTorque': 2, '1500 Classic FFV': 2, '1500 Classic 4X4 FFV': 2, 'ProMaster City': 2, 'Cullinan': 2, 'Dawn': 2, 'Ghost': 2, 'Ghost EWB': 2, 'Phantom': 2, 'Phantom EWB': 2, 'Wraith': 2, 'Ascent AWD': 2, 'Forester AWD': 2, '4Runner 4WD': 2, '4Runner 4WD (Part-Time 4WD)': 2, 'Avalon': 2, 'Camry LE/SE': 2, 'Camry XLE/XSE': 2, 'Camry XSE': 2, 'Camry Hybrid LE': 2, 'Camry Hybrid XLE/SE': 2, 'Highlander': 2, 'Highlander AWD': 2, 'Highlander Hybrid AWD': 2, 'Prius': 2, 'Prius AWD': 2, 'Prius c': 2, 'RAV4 Hybrid AWD': 2, 'Sequoia 4WD': 2, 'Sienna': 2, 'Sienna AWD': 2, 'Tacoma': 2, 'Tundra': 2, 'Yaris': 2, 'Yaris (SIL)': 2, 'Yaris Hatchback': 2, 'Arteon 4MOTION': 2, 'Golf R': 2, 'Golf Alltrack': 2, 'Golf SportWagen': 2, 'Golf SportWagen 4MOTION': 2, 'Passat': 2, 'Tiguan': 2, 'Tiguan 4MOTION': 2, 'XC40 T5 AWD': 2, 'Continental GT': 2, 'Continental GT Convertible': 2, 'CT4': 2, 'CT4 AWD': 2, 'CT5': 2, 'CT5 AWD': 2, 'Silverado 4WD LT Trail Boss': 2, 'Challenger Widebody (MDS)': 2, 'Challenger SRT Hellcat Widebody': 2, 'Mustang Convertible (Performance Pkg)': 2, 'T-150 Wagon FFV': 2, 'T-150 Wagon FFV 4WD': 2, 'Transit Connect Van LWB': 2, 'Venue': 2, 'Gladiator 4X4': 2, 'Wrangler Unlimited 4X4 eTorque': 2, 'Forte 5': 2, 'Corsair AWD': 2, 'Nautilus AWD': 2, 'CX-30': 2, 'CX-30 4WD': 2, 'MDX 4WD': 1, 'TL': 1, 'RAPIDE': 1, 'ALLROAD QUATTRO': 1, 'CONTINENTAL GT SPEED CONVERTIBLE': 1, '528i': 1, '760Li': 1, 'CTS COUPE': 1, 'CTS COUPE AWD': 1, 'CTS SEDAN Vsport': 1, 'IMPALA ECO': 1, '300 AWD (MDS)': 1, '300 SRT (MDS)': 1, '500 CABRIO TURBO': 1, 'E350 WAGON': 1, 'TRANSIT CONNECT TAXI': 1, 'CROSSTOUR AWD': 1, 'GENESIS': 1, 'SANTA FE 4WD': 1, 'Q60 AWD COUPE': 1, 'XF 3.0L AWD': 1, 'XK CONVERTIBLE': 1, 'XK COUPE': 1, 'RANGE ROVER LWB V8 5.0 SC': 1, 'RANGE ROVER SPORT V6 3.0 SC': 1, 'RANGE ROVER SPORT V8 5.0 SC': 1, 'RANGE ROVER V6 3.0 SC': 1, 'RANGE ROVER V8 5.0 SC': 1, 'IS F': 1, 'C 250': 1, 'C 350': 1, 'C 350 4MATIC': 1, 'C 63 AMG': 1, 'CL 550 4MATIC': 1, 'CL 63 AMG': 1, 'CLA 45 AMG 4MATIC': 1, 'CLS 63 AMG S 4MATIC': 1, 'E 350 4MATIC': 1, 'E 350 4MATIC COUPE': 1, 'E 350 4MATIC WAGON': 1, 'E 350 CABRIOLET': 1, 'E 350 COUPE': 1, 'E 400 HYBRID': 1, 'E 63 AMG 4MATIC': 1, 'E 63 AMG 4MATIC WAGON': 1, 'SLS AMG BLACK SERIES COUPE': 1, 'SLS AMG ROADSTER': 1, 'CAYENNE S HYBRID': 1, '1500 4X4 DIESEL': 1, '1500 DIESEL': 1, 'VIPER COUPE': 1, 'VIPER GTS COUPE': 1, 'TRIBECA AWD': 1, '4RUNNER (Part-Time 4WD)': 1, 'JETTA TURBO HYBRID': 1, 'ROUTAN': 1, 'S60': 1, 'S80': 1, 'S80 AWD': 1, 'XC60': 1, 'XC90 AWD': 1, 'A3 TDI (modified)': 1, 'CONTINENTAL GT3-R': 1, '228i CABRIOLET': 1, '228i xDRIVE COUPE': 1, '320i xDRIVE SEDAN': 1, '328d xDRIVE SEDAN': 1, '328i xDRIVE SEDAN': 1, '435i GRAN COUPE': 1, '528i SEDAN': 1, '528i xDRIVE SEDAN': 1, '535d xDRIVE SEDAN': 1, '535i xDRIVE SEDAN': 1, '550i xDRIVE SEDAN': 1, '740Ld xDRIVE SEDAN': 1, '740Li xDRIVE SEDAN': 1, '750i xDRIVE SEDAN': 1, '750Li xDRIVE SEDAN': 1, '760Li SEDAN': 1, 'M235i xDRIVE COUPE': 1, 'CAMARO Z/28': 1, '200 AWD': 1, 'CHARGER SRT 392 HEMI': 1, 'VIPER SRT COUPE': 1, 'EDGE SPORT AWD': 1, 'EXPLORER AWD (EcoBoost)': 1, 'TRANSIT CONNECT WAGON TAXI': 1, 'CIVIC Si': 1, 'CIVIC HYBRID': 1, 'PILOT 4WD': 1, 'F-TYPE V8 R COUPE': 1, 'XF AWD': 1, 'VENENO ROADSTER': 1, 'C 400 4MATIC': 1, 'CLA 45 AMG': 1, 'GLA 45 AMG 4MATIC': 1, 'ML 400 4MATIC': 1, 'S 400 4MATIC': 1, 'S 63 AMG COUPE': 1, 'S 65 AMG': 1, 'S 65 AMG COUPE': 1, 'SLS AMG GT ROADSTER': 1, 'S60 POLESTAR AWD': 1, 'S60 T5 ': 1, 'S60 T6   ': 1, 'S80 T6 AWD': 1, 'V60 CC': 1, 'V60 CC AWD': 1, 'V60 POLESTAR AWD': 1, 'XC60 3.2 AWD': 1, 'XC60 T6  ': 1, 'XC70 3.2 AWD': 1, 'XC70 T6 AWD': 1, 'DB9 GT': 1, 'A8 QUATTRO TDI (modified)': 1, 'Q5 QUATTRO TDI (modified)': 1, 'Q5 HYBRID QUATTRO': 1, 'RS 7 QUATTRO': 1, 'S3 QUATTRO': 1, 'S5 CABRIOLET QUATTRO': 1, 'S6 QUATTRO': 1, 'S7 QUATTRO': 1, 'S8 QUATTRO': 1, 'SQ5 QUATTRO': 1, '228i xDRIVE': 1, 'M235i xDRIVE': 1, 'M235i xDRIVE CABRIOLET': 1, 'ENCORE SPORT TOURING': 1, 'ENCORE SPORT TOURING AWD': 1, 'MALIBU LIMITED': 1, 'VIPER SRT': 1, 'TRANSIT CONNECT WAGON LWB': 1, 'ACCORD SPORT': 1, 'Q50S AWD': 1, 'Q50S RED SPORT': 1, 'F-TYPE PROJECT 7 CONVERTIBLE': 1, 'XF AWD ': 1, 'XJL 3.0 AWD PORTFOLIO': 1, 'SOUL ECO DYNAMICS': 1, 'RANGE ROVER TD6 DIESEL': 1, 'RANGE ROVER SPORT TD6 DIESEL': 1, 'GS 200t': 1, 'GS 200t F SPORT': 1, 'GS 350 F SPORT': 1, 'RC 200t': 1, 'CX-5 (SIL)': 1, 'AMG GL 63 S': 1, 'AMG GLA 45': 1, 'AMG GLE 63 S COUPE 4MATIC': 1, 'AMG GT S': 1, 'AMG S 63': 1, 'AMG SLK 55': 1, 'C 450 AMG SPORT 4MATIC': 1, 'GLE 350d 4MATIC': 1, 'GLE 350d 4MATIC COUPE': 1, 'GLE 450 AMG SPORT 4MATIC COUPE': 1, 'SLK 300': 1, 'ALTIMA 3.5': 1, '911 GT3RS': 1, 'BOXSTER SPYDER': 1, 'CAYMAN GT4': 1, 'S60 INSCRIPTION': 1, 'S60 T6': 1, 'S60 3.0T AWD': 1, 'V60 3.0T AWD': 1, 'XC60 T6': 1, 'XC60 3.0T AWD': 1, 'XC70 T5 AWD': 1, 'A4 ULTRA': 1, 'MULSANNE EWB': 1, '230i CABRIOLET': 1, 'ALPINA B7 xDRIVE': 1, 'ENCORE (LUV Engine)': 1, 'ENCORE (LE2 Engine)': 1, 'ENCORE AWD (LUV Engine)': 1, 'ENCORE AWD (LE2 Engine)': 1, 'CHALLENGER GT': 1, 'VIPER': 1, 'Q60S RED SPORT AWD': 1, 'F-TYPE R CONVERTIBLE AWD': 1, 'F-TYPE R COUPE AWD': 1, 'XJL PORTFOLIO 3.0 AWD': 1, 'XJR  LWB': 1, 'GRAND CHEROKEE SRT8': 1, 'OPTIMA TURBO': 1, 'SOUL TURBO': 1, 'AVENTADOR COUPE LP 740': 1, 'AVENTADOR ROADSTER LP 740': 1, 'AMG GLS 63': 1, 'AMG S 63 CABRIOLET': 1, 'AMG S 65 CABRIOLET': 1, 'S 550 4MATIC CABRIOLET': 1, 'S60 INSCRIPTION T5': 1, 'S90 T5': 1, 'V90 T5': 1, '4C COUPE': 1, 'STELVIO AWD': 1, 'STELVIO QUADRIFOGLIO': 1, 'A5 SPORTBACK QUATTRO': 1, 'R8 QUATTRO': 1, 'S5 SPORTBACK': 1, 'TTS COUPE': 1, 'CONTINENTAL SUPERSPORTS': 1, '640i xDRIVE GRAN TURISMO': 1, '750i xDRIVE SWB': 1, 'M550i xDRIVE': 1, 'X2 xDRIVE28i': 1, 'X3 xDRIVE30i': 1, 'CHIRON': 1, 'ENCORE (SIDI with Stop/Start)': 1, 'ENCORE AWD (SIDI with Stop/Start)': 1, 'SILVERADO eASSIST': 1, 'CHALLENGER GT AWD': 1, 'CHALLENGER SRT DEMON': 1, 'DURANGO AWD SRT': 1, 'ECOSPORT': 1, 'ECOSPORT AWD': 1, 'F-150 RAPTOR 4WD': 1, 'SIERRA eASSIST': 1, 'ACCORD SPORT/TOURING': 1, 'CIVIC COUPE Si': 1, 'CIVIC SEDAN Si': 1, 'CIVIC TYPE R': 1, 'ODYSSEY TOURING': 1, 'KONA': 1, 'SANTA FE SPORT ULTIMATE AWD': 1, 'Q50 AWD RED SPORT': 1, 'Q60 AWD RED SPORT': 1, 'F-TYPE CONVERTIBLE R-DYNAMIC AWD': 1, 'F-TYPE COUPE R-DYNAMIC AWD': 1, 'XJ R-SPORT AWD': 1, 'XJL PORTFOLIO AWD': 1, 'GRAND CHEROKEE 4X4 SRT': 1, 'GRAND CHEROKEE 4X4 TRACKHAWK': 1, 'STINGER AWD': 1, 'AVENTADOR S COUPE': 1, 'AVENTADOR S ROADSTER': 1, 'HURACAN AWD': 1, 'HURACAN SPYDER AWD': 1, 'LS 500': 1, 'LS 500h': 1, 'CX-5 ': 1, 'MAZDA6 TURBO': 1, 'AMG C 43 4MATIC CABRIOLET': 1, 'AMG C 43 4MATIC COUPE': 1, 'AMG E 43 4MATIC': 1, 'AMG GT ROADSTER': 1, 'AMG GT C COUPE': 1, 'AMG GT C ROADSTER': 1, 'AMG GT R COUPE': 1, 'AMG S 63 4MATIC CABRIOLET': 1, 'AMG S 63 4MATIC COUPE': 1, 'C 300 4MATIC WAGON': 1, 'E 400 4MATIC CABRIOLET': 1, 'GLC 300 4MATIC COUPE': 1, 'MAYBACH S 650': 1, 'S 560 CABRIOLET': 1, 'S 560 4MATIC COUPE': 1, 'ECLIPSE CROSS': 1, 'ECLIPSE CROSS 4WD': 1, 'KICKS': 1, '911 TURBO S EXCLUSIVE': 1, 'MACAN TURBO KIT': 1, 'PANAMERA 4 EXECUTIVE': 1, 'PANAMERA 4 ST': 1, 'PANAMERA 4S ST': 1, 'PANAMERA TURBO ST': 1, 'WRX STI AWD TYPE RA': 1, 'CAMRY LE/SE': 1, 'CAMRY XLE/XSE': 1, 'CAMRY XSE': 1, 'ATLAS': 1, 'ATLAS 4MOTION': 1, 'BEETLE DUNE CONVERTIBLE': 1, 'V90 CC T5 AWD': 1, '4C Coupe': 1, 'Rapide AMR': 1, 'Vanquish Zagato': 1, 'RS 5 Coupe': 1, 'RS 5 Sportback': 1, 'TT RS Coupe': 1, 'Mulsanne': 1, '330i xDrive': 1, '330i xDrive Gran Turismo': 1, '330i xDrive Touring': 1, '530i xDrive': 1, '540i xDrive': 1, '640i xDrive Gran Coupe': 1, '640i xDrive Gran Turismo': 1, '650i xDrive Gran Coupe': 1, '750i xDrive': 1, '750Li xDrive': 1, 'Alpina B6 xDrive Gran Coupe': 1, 'M550i xDrive': 1, 'M6 Gran Coupe': 1, 'M760Li xDrive': 1, 'X6 xDrive35i': 1, 'X6 xDrive50i': 1, 'Encore (SIDI with Stop/Start)': 1, 'Encore AWD (SIDI with Stop/Start)': 1, 'LaCrosse': 1, 'LaCrosse eAssist': 1, 'LaCrosse AWD': 1, 'Cruze': 1, 'Cruze Premier': 1, 'Cruze Diesel': 1, 'Cruze Hatchback': 1, 'Cruze Hatchback Premier': 1, 'Cruze Hatchback Diesel': 1, 'Malibu Hybrid': 1, 'Silverado LD': 1, 'Silverado LD 4WD': 1, 'Trax 4WD': 1, 'Pacifica': 1, 'Challenger GT AWD': 1, 'Challenger SRT Hellcat Redeye': 1, 'Charger AWD (MDS)': 1, 'Charger SRT Hellcat': 1, 'Journey AWD': 1, 'Flex': 1, 'Flex AWD': 1, 'Flex AWD GTDI': 1, 'Fiesta ST': 1, 'Taurus AWD': 1, 'Sierra LTD': 1, 'Sierra LTD 4WD': 1, 'Insight EX': 1, 'Insight Touring': 1, 'Odyssey Touring': 1, 'Pilot': 1, 'Santa Fe XL': 1, 'Santa Fe XL AWD': 1, 'Santa Fe XL Ultimate AWD': 1, 'Sonata SE': 1, 'Sonata Hybrid SE': 1, 'XJ R-Sport AWD': 1, 'XJL Portfolio AWD': 1, 'Grand Cherokee 4X4 EcoDiesel': 1, 'Cadenza': 1, 'Sorento': 1, 'Huracan Performante Coupe': 1, 'Huracan Performante Spyder': 1, 'Discovery Sport': 1, 'Range Rover Evoque': 1, 'Range Rover Evoque Convertible': 1, 'Range Rover Velar D180': 1, 'UX 250h': 1, 'MKT Livery AWD': 1, 'Ghibli SQ4': 1, 'GranTurismo Convertible': 1, 'Quattroporte SQ4': 1, 'CX-5 Diesel 4WD': 1, 'A 220': 1, 'A 220 4MATIC': 1, 'A 250': 1, 'A 250 4MATIC': 1, 'AMG E 53 4MATIC+ Wagon': 1, 'AMG GLC 43 4MATIC Coupe': 1, 'AMG GLE 43 4MATIC Coupe': 1, 'AMG GLE 63 S 4MATIC Coupe': 1, 'AMG GT 53 4MATIC+ Coupe': 1, 'AMG GT 63 4MATIC+ Coupe': 1, 'AMG GT 63 S 4MATIC+ Coupe': 1, 'AMG GT C Coupe': 1, 'AMG GT C Roadster': 1, 'AMG S 65 Cabriolet': 1, 'AMG S 65 Coupe': 1, 'E 450 4MATIC': 1, 'E 450 4MATIC Wagon': 1, 'GLC 300 4MATIC Coupe': 1, 'Metris Cargo': 1, 'Metris Cargo LWB': 1, 'Metris Passenger': 1, 'S 560 Cabriolet': 1, 'Altima': 1, 'Titan': 1, '911 GT2 RS': 1, '911 GT3 RS': 1, '911 GT3 Touring': 1, '911 Speedster': 1, '911 Turbo': 1, '911 Turbo Cabriolet': 1, '911 Turbo S': 1, '911 Turbo S Cabriolet': 1, '911 Turbo S Exclusive Cabriolet': 1, '1500 Classic EcoDiesel': 1, '1500 Classic 4X4 EcoDiesel': 1, 'Corolla LE Eco': 1, 'Highlander AWD (Start/Stop System)': 1, 'Highlander AWD LE': 1, 'Tacoma 4WD D-Cab Off-Road': 1, 'Atlas': 1, 'Atlas 4MOTION': 1, 'Beetle': 1, 'Beetle Convertible': 1, 'Beetle Dune': 1, 'Beetle Dune Convertible': 1, 'TLX SH-AWD A-SPEC/Limited Edition': 1, 'A6 allroad': 1, 'R8 Coupe': 1, 'R8 Spyder': 1, 'Flying Spur': 1, '230i Cabriolet': 1, '230i Coupe': 1, '330i xDrive Sedan': 1, '430i Coupe': 1, '530i xDrive Sedan': 1, '540i xDrive Sedan': 1, '750i xDrive Sedan': 1, '750Li xDrive Sedan': 1, 'M340i xDrive Sedan': 1, 'M5 Sedan': 1, 'M550i xDrive Sedan': 1, 'M760i xDrive Sedan': 1, 'M8 Cabriolet': 1, 'M8 Cabriolet Competition': 1, 'M8 Coupe': 1, 'M8 Coupe Competition': 1, 'M8 Gran Coupe': 1, 'M8 Gran Coupe Competition': 1, 'M850i xDrive Gran Coupe': 1, 'X2 M35i': 1, 'X3 M': 1, 'X3 M Competition': 1, 'X4 M': 1, 'X4 M Competition': 1, 'X5 M50i': 1, 'X6 xDrive40i': 1, 'X6 M50i': 1, 'X7 M50i': 1, 'Z4 sDrive30i': 1, 'Z4 M40i': 1, 'Encore GX': 1, 'Encore GX AWD': 1, 'CT4-V': 1, 'CT4-V AWD': 1, 'CT5-V': 1, 'CT5-V AWD': 1, 'XT6 AWD': 1, 'Silverado WT': 1, 'Silverado WT 4WD': 1, 'Trax AWD': 1, 'Voyager (Stop-Start)': 1, 'Challenger AWD': 1, 'Charger Widebody (MDS)': 1, 'Charger SRT Hellcat Widebody': 1, 'Grand Caravan': 1, 'Escape Hybrid': 1, 'Escape Hybrid AWD': 1, 'Explorer Hybrid AWD': 1, 'Shelby GT500 Mustang': 1, 'Sierra WT': 1, 'Sierra WT 4WD': 1, 'Insight EX/Touring': 1, 'Palisade': 1, 'Palisade AWD': 1, 'E-PACE P300': 1, 'F-PACE 30t': 1, 'F-PACE S': 1, 'F-PACE SVR': 1, 'F-TYPE P300 Convertible': 1, 'F-TYPE SVR AWD Convertible': 1, 'F-TYPE P300 Coupe': 1, 'F-TYPE SVR AWD Coupe': 1, 'XE P250 AWD': 1, 'XE P300 AWD': 1, 'XF 30t AWD': 1, 'XF S AWD': 1, 'Wrangler 4X4 eTorque': 1, 'Wrangler Unlimited 4X4 EcoDiesel': 1, 'Telluride AWD': 1, 'Discovery Sport P250': 1, 'Discovery Sport P290': 1, 'Range Rover 5.0 Supercharged LWB': 1, 'Range Rover SVAutobiography Dynamic': 1, 'Range Rover Sport SVR': 1, 'Range Rover Evoque P250': 1, 'Range Rover Evoque P300': 1, 'Range Rover Velar P250': 1, 'Range Rover Velar P340': 1, 'Range Rover Velar SVAutobiography Dynamic': 1, 'Aviator': 1, 'Ghibli S Q4': 1, 'Quattroporte S Q4': 1, 'CX-3 (SIL)': 1, 'CX-30 4WD (Cylinder Deactivation)': 1, 'Sentra SR': 1, '1500 EcoDiesel': 1, '1500 4X4 EcoDiesel': 1, 'Cullinan Black Badge': 1, 'Camry TRD': 1, 'Camry AWD LE/SE': 1, 'Camry AWD XLE/XSE': 1, 'Corolla XLE': 1, 'Corolla XSE': 1, 'Corolla Hybrid': 1, 'GR Supra': 1, 'Highlander Hybrid AWD Limited/Platinum': 1, 'RAV4 AWD TRD Off-Road': 1, 'Tacoma 4WD D-Cab TRD Off-Road/Pro': 1, 'Atlas Cross Sport 4MOTION': 1, 'XC40 T4 AWD': 1})\n",
      "Counter({851: 32, 854: 32, 1265: 27, 907: 24, 1675: 20, 1676: 20, 843: 20, 846: 20, 360: 19, 263: 19, 521: 19, 1760: 19, 1086: 19, 439: 18, 1651: 18, 1652: 18, 1645: 18, 1646: 18, 915: 18, 551: 18, 1363: 17, 481: 16, 922: 16, 916: 16, 1683: 15, 920: 15, 911: 15, 396: 15, 1357: 15, 518: 15, 450: 15, 563: 14, 467: 14, 898: 14, 912: 14, 603: 14, 406: 14, 1136: 14, 1332: 14, 763: 14, 761: 13, 1222: 13, 781: 12, 51: 12, 477: 12, 792: 12, 1267: 12, 1771: 12, 765: 12, 1435: 12, 1128: 12, 1524: 12, 82: 12, 1759: 12, 30: 12, 1654: 12, 1653: 12, 1648: 12, 1647: 12, 1726: 12, 1717: 12, 257: 11, 780: 11, 1770: 11, 1416: 11, 522: 11, 1253: 11, 1225: 11, 1268: 11, 1525: 11, 519: 11, 451: 11, 1681: 11, 582: 11, 497: 11, 1039: 11, 844: 11, 944: 11, 236: 10, 242: 10, 246: 10, 1458: 10, 1461: 10, 1194: 10, 1196: 10, 1879: 10, 361: 10, 556: 10, 1215: 10, 1687: 10, 1799: 10, 47: 10, 52: 10, 476: 10, 480: 10, 989: 10, 1102: 10, 759: 10, 793: 10, 802: 10, 803: 10, 895: 10, 905: 10, 1768: 10, 1769: 10, 262: 10, 1670: 10, 1814: 10, 489: 10, 1326: 10, 1508: 10, 1689: 10, 607: 10, 535: 10, 545: 10, 1242: 10, 1334: 10, 84: 10, 921: 10, 1638: 10, 1880: 10, 177: 10, 178: 10, 179: 10, 182: 10, 183: 10, 184: 10, 187: 10, 188: 10, 402: 10, 404: 10, 461: 10, 464: 10, 9: 10, 21: 10, 444: 10, 1817: 10, 1818: 10, 397: 10, 583: 10, 584: 10, 131: 10, 1244: 10, 853: 10, 1040: 10, 847: 10, 855: 10, 852: 10, 1057: 9, 1409: 9, 1432: 9, 1582: 9, 904: 9, 1059: 9, 468: 9, 700: 9, 2021: 9, 2028: 9, 866: 9, 485: 9, 1364: 9, 1526: 9, 1223: 9, 1226: 9, 277: 9, 845: 9, 848: 9, 502: 9, 1902: 9, 1725: 9, 1716: 9, 253: 8, 525: 8, 1501: 8, 441: 8, 443: 8, 1763: 8, 127: 8, 129: 8, 1874: 8, 1875: 8, 1679: 8, 1688: 8, 1251: 8, 1228: 8, 547: 8, 1095: 8, 1096: 8, 1133: 8, 1103: 8, 1065: 8, 1066: 8, 1773: 8, 1179: 8, 1180: 8, 557: 8, 475: 8, 1425: 8, 869: 8, 1506: 8, 1505: 8, 1116: 8, 531: 8, 532: 8, 541: 8, 542: 8, 1241: 8, 208: 8, 210: 8, 977: 8, 979: 8, 856: 8, 945: 8, 499: 8, 176: 8, 614: 8, 1295: 8, 375: 8, 656: 8, 819: 8, 820: 8, 1499: 7, 1580: 7, 810: 7, 812: 7, 1697: 7, 1698: 7, 1762: 7, 49: 7, 125: 7, 126: 7, 800: 7, 924: 7, 260: 7, 261: 7, 1631: 7, 1633: 7, 2020: 7, 2027: 7, 558: 7, 559: 7, 1372: 7, 1448: 7, 1451: 7, 1515: 7, 785: 7, 786: 7, 1003: 7, 1009: 7, 1077: 7, 1149: 7, 1528: 7, 1229: 7, 940: 7, 1658: 7, 1008: 7, 203: 7, 1033: 7, 1487: 7, 2017: 7, 526: 7, 1622: 7, 1816: 7, 2: 7, 4: 7, 597: 7, 663: 7, 626: 7, 1718: 7, 660: 7, 681: 7, 1866: 6, 1867: 6, 1690: 6, 54: 6, 87: 6, 100: 6, 103: 6, 1193: 6, 1940: 6, 2044: 6, 1123: 6, 1124: 6, 1502: 6, 2012: 6, 2013: 6, 2014: 6, 564: 6, 1678: 6, 1677: 6, 1797: 6, 1787: 6, 478: 6, 701: 6, 702: 6, 703: 6, 896: 6, 496: 6, 560: 6, 1446: 6, 887: 6, 486: 6, 493: 6, 1246: 6, 1247: 6, 1252: 6, 612: 6, 394: 6, 508: 6, 725: 6, 533: 6, 536: 6, 543: 6, 549: 6, 1098: 6, 3: 6, 5: 6, 919: 6, 2050: 6, 2015: 6, 1486: 6, 1877: 6, 1878: 6, 1236: 6, 1780: 6, 1782: 6, 228: 6, 783: 6, 782: 6, 27: 6, 1755: 6, 1772: 6, 492: 6, 1895: 6, 1899: 6, 1317: 6, 1497: 6, 1498: 6, 420: 6, 963: 6, 1091: 6, 180: 6, 181: 6, 185: 6, 186: 6, 403: 6, 463: 6, 1901: 6, 1605: 6, 1865: 6, 1957: 6, 1960: 6, 79: 6, 80: 6, 1158: 6, 1176: 6, 362: 6, 1062: 6, 1700: 6, 1699: 6, 1765: 6, 1764: 6, 133: 6, 1791: 6, 1795: 6, 2026: 6, 2022: 6, 2031: 6, 2029: 6, 990: 6, 2019: 6, 980: 6, 524: 6, 664: 6, 634: 6, 1298: 6, 627: 6, 928: 6, 651: 6, 652: 6, 668: 6, 1820: 6, 1872: 5, 234: 5, 240: 5, 250: 5, 1589: 5, 1606: 5, 1608: 5, 1804: 5, 1806: 5, 1261: 5, 60: 5, 154: 5, 158: 5, 159: 5, 160: 5, 1186: 5, 1913: 5, 1936: 5, 1937: 5, 1942: 5, 1943: 5, 2045: 5, 766: 5, 767: 5, 1798: 5, 472: 5, 473: 5, 1100: 5, 1101: 5, 130: 5, 437: 5, 799: 5, 897: 5, 900: 5, 901: 5, 925: 5, 1767: 5, 1324: 5, 1617: 5, 1620: 5, 1671: 5, 1420: 5, 1450: 5, 1999: 5, 438: 5, 1328: 5, 1635: 5, 366: 5, 1464: 5, 1005: 5, 1249: 5, 1254: 5, 950: 5, 998: 5, 999: 5, 1440: 5, 1442: 5, 611: 5, 1224: 5, 1227: 5, 1264: 5, 1311: 5, 1359: 5, 1360: 5, 1513: 5, 1514: 5, 211: 5, 212: 5, 213: 5, 214: 5, 453: 5, 457: 5, 459: 5, 954: 5, 955: 5, 1366: 5, 1369: 5, 1894: 5, 119: 5, 363: 5, 445: 5, 446: 5, 552: 5, 553: 5, 1034: 5, 1037: 5, 1373: 5, 1374: 5, 1375: 5, 1641: 5, 1643: 5, 1644: 5, 465: 5, 1774: 5, 1578: 5, 592: 5, 788: 5, 1754: 5, 889: 5, 1504: 5, 1863: 5, 1929: 5, 778: 5, 712: 5, 134: 5, 1006: 5, 1075: 5, 1495: 5, 599: 5, 1269: 5, 286: 5, 289: 5, 307: 5, 348: 5, 1860: 5, 1968: 5, 1969: 5, 2009: 5, 1266: 5, 831: 5, 1080: 5, 643: 5, 818: 5, 372: 5, 1832: 5, 658: 5, 934: 5, 1742: 5, 1281: 5, 113: 4, 1522: 4, 1583: 4, 1811: 4, 58: 4, 169: 4, 1923: 4, 1925: 4, 768: 4, 772: 4, 1127: 4, 565: 4, 48: 4, 479: 4, 482: 4, 714: 4, 751: 4, 1766: 4, 265: 4, 1370: 4, 1415: 4, 1429: 4, 1434: 4, 1436: 4, 1447: 4, 1449: 4, 1984: 4, 1990: 4, 1996: 4, 1997: 4, 993: 4, 572: 4, 1142: 4, 1143: 4, 1231: 4, 515: 4, 743: 4, 744: 4, 1566: 4, 1567: 4, 1662: 4, 538: 4, 539: 4, 540: 4, 548: 4, 550: 4, 1097: 4, 1099: 4, 1131: 4, 1333: 4, 357: 4, 1104: 4, 1218: 4, 1775: 4, 1776: 4, 2011: 4, 455: 4, 460: 4, 1343: 4, 1344: 4, 1347: 4, 1348: 4, 1352: 4, 1353: 4, 452: 4, 1367: 4, 1368: 4, 2051: 4, 917: 4, 400: 4, 1089: 4, 1087: 4, 1785: 4, 1511: 4, 1485: 4, 1856: 4, 1873: 4, 231: 4, 229: 4, 235: 4, 1406: 4, 1407: 4, 88: 4, 153: 4, 273: 4, 1161: 4, 1195: 4, 1930: 4, 1933: 4, 1935: 4, 495: 4, 484: 4, 760: 4, 795: 4, 1790: 4, 948: 4, 949: 4, 1619: 4, 1624: 4, 491: 4, 1636: 4, 1637: 4, 368: 4, 1041: 4, 1300: 4, 395: 4, 731: 4, 734: 4, 1263: 4, 1361: 4, 1212: 4, 1213: 4, 18: 4, 7: 4, 1376: 4, 120: 4, 1491: 4, 983: 4, 1602: 4, 1864: 4, 593: 4, 569: 4, 264: 4, 266: 4, 320: 4, 353: 4, 970: 4, 1600: 4, 40: 4, 105: 4, 108: 4, 1166: 4, 1167: 4, 2008: 4, 520: 4, 566: 4, 0: 4, 794: 4, 1007: 4, 1067: 4, 487: 4, 490: 4, 1661: 4, 534: 4, 537: 4, 544: 4, 1094: 4, 1243: 4, 1438: 4, 1639: 4, 1640: 4, 562: 4, 1063: 4, 1064: 4, 555: 4, 981: 4, 1616: 4, 123: 4, 111: 4, 1159: 4, 1168: 4, 1169: 4, 1170: 4, 1182: 4, 1183: 4, 1184: 4, 1185: 4, 829: 4, 1553: 4, 413: 4, 615: 4, 616: 4, 665: 4, 1272: 4, 1731: 4, 1728: 4, 1743: 4, 1753: 4, 1751: 4, 1752: 4, 1826: 4, 1824: 4, 1825: 4, 635: 4, 638: 4, 642: 4, 647: 4, 722: 4, 1: 4, 834: 4, 840: 4, 1296: 4, 1839: 4, 1841: 4, 1842: 4, 943: 4, 373: 4, 1720: 4, 1719: 4, 2038: 4, 2036: 4, 2037: 4, 2042: 4, 2040: 4, 2041: 4, 659: 4, 1401: 4, 374: 4, 1122: 4, 1702: 4, 1736: 4, 1849: 4, 1890: 4, 872: 4, 875: 4, 653: 4, 654: 4, 666: 4, 667: 4, 1029: 4, 1554: 4, 1555: 4, 1558: 4, 1741: 4, 1745: 4, 1277: 4, 1290: 4, 1340: 4, 85: 4, 1452: 4, 1707: 4, 1892: 4, 24: 4, 10: 4, 11: 4, 12: 4, 691: 4, 1081: 4, 1082: 4, 1153: 4, 1339: 4, 617: 4, 682: 4, 1020: 4, 1022: 4, 1107: 4, 1108: 4, 1510: 3, 1803: 3, 247: 3, 251: 3, 1518: 3, 56: 3, 64: 3, 66: 3, 77: 3, 90: 3, 145: 3, 151: 3, 165: 3, 270: 3, 2046: 3, 1503: 3, 1692: 3, 1693: 3, 804: 3, 1801: 3, 713: 3, 923: 3, 1792: 3, 1625: 3, 1507: 3, 784: 3, 1672: 3, 1419: 3, 523: 3, 991: 3, 992: 3, 996: 3, 1365: 3, 1329: 3, 1509: 3, 1140: 3, 1002: 3, 1076: 3, 1141: 3, 1148: 3, 1248: 3, 724: 3, 742: 3, 959: 3, 960: 3, 961: 3, 1664: 3, 454: 3, 1350: 3, 1351: 3, 22: 3, 918: 3, 2016: 3, 1038: 3, 466: 3, 1358: 3, 1786: 3, 1922: 3, 2023: 3, 2030: 3, 1674: 3, 1476: 3, 1477: 3, 1470: 3, 1313: 3, 1314: 3, 1302: 3, 509: 3, 735: 3, 1565: 3, 1573: 3, 1105: 3, 1106: 3, 1956: 3, 1238: 3, 581: 3, 571: 3, 1216: 3, 1656: 3, 903: 3, 908: 3, 910: 3, 1642: 3, 1650: 3, 1043: 3, 711: 3, 952: 3, 953: 3, 1441: 3, 308: 3, 354: 3, 972: 3, 1239: 3, 1240: 3, 279: 3, 1489: 3, 1493: 3, 1761: 3, 2018: 3, 398: 3, 1594: 3, 1598: 3, 1861: 3, 1310: 3, 863: 3, 1970: 3, 1972: 3, 1976: 3, 1980: 3, 1245: 3, 311: 3, 317: 3, 355: 3, 965: 3, 975: 3, 976: 3, 1657: 3, 978: 3, 982: 3, 1871: 3, 1869: 3, 1781: 3, 707: 3, 1517: 3, 1921: 3, 850: 3, 861: 3, 1977: 3, 1305: 3, 1306: 3, 1074: 3, 1134: 3, 1135: 3, 1145: 3, 1147: 3, 1315: 3, 1316: 3, 1527: 3, 605: 3, 608: 3, 280: 3, 1563: 3, 1568: 3, 1570: 3, 1903: 3, 436: 3, 1887: 3, 249: 3, 412: 3, 106: 3, 414: 3, 688: 3, 830: 3, 1730: 3, 1845: 3, 1831: 3, 1888: 3, 873: 3, 876: 3, 1908: 3, 1909: 3, 1337: 3, 1749: 3, 1282: 3, 671: 3, 672: 3, 673: 3, 674: 3, 675: 3, 676: 3, 677: 3, 678: 3, 679: 3, 680: 3, 1109: 3, 1110: 3, 1111: 3, 1112: 3, 936: 3, 937: 3, 199: 3, 200: 3, 194: 3, 195: 3, 1851: 3, 1727: 3, 1906: 3, 1910: 3, 1058: 2, 1779: 2, 708: 2, 256: 2, 259: 2, 1414: 2, 1410: 2, 1433: 2, 1519: 2, 1813: 2, 529: 2, 61: 2, 63: 2, 74: 2, 76: 2, 137: 2, 142: 2, 144: 2, 150: 2, 163: 2, 269: 2, 271: 2, 275: 2, 276: 2, 1914: 2, 587: 2, 588: 2, 590: 2, 591: 2, 594: 2, 595: 2, 596: 2, 789: 2, 791: 2, 440: 2, 805: 2, 806: 2, 807: 2, 808: 2, 809: 2, 1331: 2, 28: 2, 29: 2, 31: 2, 32: 2, 364: 2, 365: 2, 132: 2, 752: 2, 754: 2, 796: 2, 858: 2, 902: 2, 909: 2, 1788: 2, 1626: 2, 1627: 2, 1628: 2, 1629: 2, 1630: 2, 2024: 2, 2025: 2, 1621: 2, 1815: 2, 1430: 2, 894: 2, 1975: 2, 1985: 2, 1986: 2, 1992: 2, 2002: 2, 2003: 2, 2004: 2, 2005: 2, 1896: 2, 1900: 2, 1680: 2, 1685: 2, 946: 2, 1139: 2, 1466: 2, 1468: 2, 1473: 2, 1475: 2, 1480: 2, 1482: 2, 1071: 2, 1072: 2, 1073: 2, 1078: 2, 1301: 2, 951: 2, 1221: 2, 419: 2, 425: 2, 430: 2, 431: 2, 435: 2, 516: 2, 747: 2, 748: 2, 941: 2, 962: 2, 973: 2, 974: 2, 1256: 2, 1257: 2, 1259: 2, 1260: 2, 1574: 2, 1659: 2, 1660: 2, 1665: 2, 1667: 2, 1093: 2, 1130: 2, 1132: 2, 1362: 2, 1443: 2, 2049: 2, 2052: 2, 554: 2, 899: 2, 1492: 2, 779: 2, 986: 2, 987: 2, 1593: 2, 1955: 2, 1962: 2, 35: 2, 37: 2, 55: 2, 62: 2, 75: 2, 78: 2, 86: 2, 89: 2, 91: 2, 99: 2, 102: 2, 104: 2, 1162: 2, 1177: 2, 1188: 2, 1931: 2, 790: 2, 811: 2, 813: 2, 25: 2, 798: 2, 1632: 2, 1634: 2, 764: 2, 1424: 2, 1463: 2, 1469: 2, 1496: 2, 513: 2, 736: 2, 83: 2, 1354: 2, 1355: 2, 19: 2, 985: 2, 984: 2, 1088: 2, 1612: 2, 1963: 2, 254: 2, 258: 2, 1412: 2, 1581: 2, 1586: 2, 33: 2, 1160: 2, 1126: 2, 1125: 2, 570: 2, 1060: 2, 1800: 2, 797: 2, 1793: 2, 1423: 2, 881: 2, 882: 2, 888: 2, 890: 2, 1987: 2, 1070: 2, 1230: 2, 294: 2, 297: 2, 303: 2, 304: 2, 347: 2, 350: 2, 510: 2, 733: 2, 1219: 2, 1562: 2, 1129: 2, 2048: 2, 1597: 2, 1967: 2, 1234: 2, 116: 2, 956: 2, 957: 2, 958: 2, 706: 2, 401: 2, 43: 2, 44: 2, 67: 2, 68: 2, 69: 2, 81: 2, 93: 2, 94: 2, 95: 2, 107: 2, 109: 2, 139: 2, 147: 2, 1171: 2, 1172: 2, 1199: 2, 568: 2, 1341: 2, 1342: 2, 906: 2, 1068: 2, 1673: 2, 1444: 2, 1445: 2, 1303: 2, 1304: 2, 914: 2, 913: 2, 1307: 2, 1308: 2, 1309: 2, 1327: 2, 1682: 2, 1465: 2, 1137: 2, 1138: 2, 287: 2, 288: 2, 290: 2, 291: 2, 313: 2, 318: 2, 321: 2, 333: 2, 338: 2, 340: 2, 421: 2, 422: 2, 546: 2, 1092: 2, 1439: 2, 1777: 2, 456: 2, 1210: 2, 1211: 2, 704: 2, 1035: 2, 1036: 2, 1783: 2, 1807: 2, 567: 2, 471: 2, 124: 2, 500: 2, 1119: 2, 860: 2, 867: 2, 870: 2, 1971: 2, 488: 2, 1897: 2, 1898: 2, 1483: 2, 295: 2, 312: 2, 325: 2, 209: 2, 407: 2, 1615: 2, 1237: 2, 1235: 2, 1500: 2, 1512: 2, 117: 2, 1016: 2, 1017: 2, 1018: 2, 1746: 2, 1747: 2, 1748: 2, 705: 2, 710: 2, 233: 2, 230: 2, 239: 2, 238: 2, 245: 2, 241: 2, 244: 2, 252: 2, 1408: 2, 1437: 2, 1585: 2, 1588: 2, 1805: 2, 1809: 2, 1812: 2, 45: 2, 46: 2, 96: 2, 97: 2, 98: 2, 110: 2, 112: 2, 379: 2, 1173: 2, 1174: 2, 1175: 2, 1181: 2, 1187: 2, 1207: 2, 1208: 2, 1915: 2, 1918: 2, 1926: 2, 1932: 2, 1938: 2, 1939: 2, 1948: 2, 1949: 2, 655: 2, 821: 2, 822: 2, 823: 2, 825: 2, 1552: 2, 832: 2, 2006: 2, 2007: 2, 689: 2, 690: 2, 1750: 2, 1823: 2, 1843: 2, 1844: 2, 1378: 2, 644: 2, 646: 2, 723: 2, 1028: 2, 1113: 2, 1115: 2, 815: 2, 816: 2, 817: 2, 833: 2, 835: 2, 838: 2, 839: 2, 841: 2, 849: 2, 859: 2, 926: 2, 938: 2, 939: 2, 1297: 2, 1550: 2, 1712: 2, 1756: 2, 1828: 2, 1829: 2, 1838: 2, 942: 2, 2035: 2, 2039: 2, 377: 2, 376: 2, 657: 2, 661: 2, 662: 2, 1335: 2, 1394: 2, 1557: 2, 1069: 2, 1121: 2, 1701: 2, 1737: 2, 1848: 2, 1889: 2, 1418: 2, 1428: 2, 749: 2, 874: 2, 877: 2, 883: 2, 884: 2, 1031: 2, 1032: 2, 1556: 2, 1321: 2, 1322: 2, 1323: 2, 1338: 2, 1706: 2, 1744: 2, 391: 2, 392: 2, 1051: 2, 1052: 2, 1055: 2, 1056: 2, 1855: 2, 717: 2, 721: 2, 1530: 2, 1543: 2, 1531: 2, 1538: 2, 1539: 2, 1542: 2, 1541: 2, 1546: 2, 1548: 2, 787: 2, 1529: 2, 1852: 2, 1854: 2, 1255: 2, 1318: 2, 1320: 2, 1010: 2, 1011: 2, 1154: 2, 1156: 2, 1155: 2, 1157: 2, 1455: 2, 1454: 2, 610: 2, 1279: 2, 1278: 2, 1280: 2, 1283: 2, 1284: 2, 1285: 2, 283: 2, 284: 2, 285: 2, 292: 2, 293: 2, 296: 2, 299: 2, 300: 2, 301: 2, 305: 2, 306: 2, 315: 2, 316: 2, 335: 2, 343: 2, 344: 2, 345: 2, 423: 2, 424: 2, 427: 2, 514: 2, 739: 2, 740: 2, 1275: 2, 1276: 2, 814: 2, 1291: 2, 383: 2, 381: 2, 382: 2, 384: 2, 1120: 2, 1274: 2, 1289: 2, 1293: 2, 1294: 2, 1312: 2, 1395: 2, 1396: 2, 1397: 2, 1453: 2, 1559: 2, 1560: 2, 1708: 2, 1709: 2, 1836: 2, 1837: 2, 189: 2, 196: 2, 197: 2, 198: 2, 201: 2, 190: 2, 191: 2, 192: 2, 193: 2, 216: 2, 217: 2, 218: 2, 415: 2, 416: 2, 417: 2, 628: 2, 629: 2, 630: 2, 631: 2, 632: 2, 633: 2, 1270: 2, 1271: 2, 1381: 2, 1382: 2, 1383: 2, 1384: 2, 1385: 2, 1386: 2, 1387: 2, 1388: 2, 1389: 2, 1390: 2, 1391: 2, 1392: 2, 23: 2, 16: 2, 14: 2, 1405: 2, 698: 2, 716: 2, 1014: 2, 1015: 2, 1398: 2, 1399: 2, 1905: 2, 386: 2, 933: 2, 121: 2, 122: 2, 390: 2, 622: 2, 624: 2, 625: 2, 620: 2, 621: 2, 1045: 2, 1046: 2, 1049: 2, 1402: 2, 1403: 2, 1404: 2, 1490: 2, 1711: 2, 1714: 2, 1715: 2, 1819: 2, 1850: 2, 2032: 2, 2033: 2, 2034: 2, 385: 2, 1023: 2, 1021: 2, 1024: 2, 1025: 2, 1393: 2, 1833: 2, 1834: 2, 1951: 2, 669: 2, 670: 2, 573: 2, 574: 2, 577: 2, 578: 2, 1729: 2, 641: 2, 640: 2, 1299: 2, 1757: 2, 1758: 2, 1840: 2, 1891: 2, 1019: 2, 1912: 2, 935: 2, 687: 2, 1319: 2, 600: 2, 601: 2, 1233: 1, 1778: 1, 1484: 1, 272: 1, 527: 1, 135: 1, 174: 1, 585: 1, 586: 1, 589: 1, 1061: 1, 50: 1, 53: 1, 128: 1, 753: 1, 1789: 1, 561: 1, 947: 1, 1618: 1, 1426: 1, 1978: 1, 2000: 1, 2001: 1, 1467: 1, 1472: 1, 1474: 1, 1479: 1, 1481: 1, 1079: 1, 418: 1, 428: 1, 429: 1, 434: 1, 506: 1, 507: 1, 512: 1, 517: 1, 726: 1, 727: 1, 728: 1, 729: 1, 730: 1, 737: 1, 745: 1, 746: 1, 1666: 1, 1669: 1, 458: 1, 6: 1, 17: 1, 1882: 1, 1883: 1, 1802: 1, 118: 1, 1090: 1, 1516: 1, 1591: 1, 1610: 1, 1611: 1, 1952: 1, 1966: 1, 232: 1, 528: 1, 34: 1, 38: 1, 57: 1, 59: 1, 65: 1, 101: 1, 136: 1, 138: 1, 143: 1, 146: 1, 152: 1, 162: 1, 164: 1, 170: 1, 166: 1, 175: 1, 1165: 1, 442: 1, 26: 1, 483: 1, 1885: 1, 762: 1, 801: 1, 1796: 1, 504: 1, 501: 1, 1371: 1, 893: 1, 1981: 1, 1876: 1, 432: 1, 511: 1, 964: 1, 1258: 1, 1561: 1, 1575: 1, 1576: 1, 1577: 1, 1668: 1, 1599: 1, 1601: 1, 1604: 1, 1613: 1, 1858: 1, 1859: 1, 1862: 1, 1954: 1, 1959: 1, 1961: 1, 1965: 1, 709: 1, 255: 1, 1413: 1, 1411: 1, 1523: 1, 1579: 1, 1584: 1, 1590: 1, 1607: 1, 1609: 1, 1691: 1, 36: 1, 1163: 1, 1164: 1, 776: 1, 777: 1, 1217: 1, 1884: 1, 1794: 1, 267: 1, 1421: 1, 1422: 1, 880: 1, 1982: 1, 1991: 1, 1684: 1, 1478: 1, 1471: 1, 1000: 1, 1001: 1, 1004: 1, 1494: 1, 606: 1, 309: 1, 310: 1, 323: 1, 337: 1, 339: 1, 356: 1, 433: 1, 968: 1, 969: 1, 971: 1, 1663: 1, 278: 1, 206: 1, 405: 1, 462: 1, 1595: 1, 1603: 1, 1592: 1, 1857: 1, 1958: 1, 1953: 1, 1964: 1, 237: 1, 1262: 1, 39: 1, 274: 1, 770: 1, 769: 1, 774: 1, 773: 1, 469: 1, 1881: 1, 1431: 1, 885: 1, 886: 1, 1993: 1, 1998: 1, 997: 1, 1330: 1, 1686: 1, 367: 1, 369: 1, 324: 1, 346: 1, 349: 1, 1564: 1, 1596: 1, 1614: 1, 1870: 1, 114: 1, 1694: 1, 1695: 1, 243: 1, 1460: 1, 1587: 1, 1810: 1, 530: 1, 155: 1, 171: 1, 1190: 1, 1917: 1, 1924: 1, 494: 1, 771: 1, 775: 1, 1655: 1, 470: 1, 474: 1, 715: 1, 757: 1, 758: 1, 857: 1, 1649: 1, 268: 1, 498: 1, 503: 1, 505: 1, 1325: 1, 1118: 1, 1623: 1, 1417: 1, 1427: 1, 868: 1, 871: 1, 1988: 1, 1994: 1, 994: 1, 995: 1, 1696: 1, 370: 1, 371: 1, 1042: 1, 1044: 1, 1144: 1, 1146: 1, 604: 1, 1232: 1, 281: 1, 282: 1, 298: 1, 336: 1, 329: 1, 331: 1, 334: 1, 341: 1, 342: 1, 426: 1, 732: 1, 966: 1, 1220: 1, 1571: 1, 1569: 1, 755: 1, 756: 1, 1117: 1, 215: 1, 1214: 1, 1345: 1, 1346: 1, 1349: 1, 1356: 1, 1904: 1, 447: 1, 448: 1, 449: 1, 358: 1, 359: 1, 399: 1, 1868: 1, 115: 1, 1551: 1, 1886: 1, 1520: 1, 1521: 1, 1808: 1, 1292: 1, 70: 1, 71: 1, 73: 1, 140: 1, 148: 1, 156: 1, 157: 1, 161: 1, 172: 1, 167: 1, 378: 1, 1191: 1, 1197: 1, 1198: 1, 1944: 1, 1946: 1, 824: 1, 826: 1, 1150: 1, 1152: 1, 1151: 1, 692: 1, 697: 1, 693: 1, 694: 1, 696: 1, 695: 1, 1273: 1, 1732: 1, 1733: 1, 1846: 1, 1377: 1, 637: 1, 639: 1, 645: 1, 648: 1, 1114: 1, 929: 1, 930: 1, 931: 1, 927: 1, 1827: 1, 1721: 1, 1722: 1, 1083: 1, 1085: 1, 1336: 1, 1400: 1, 1703: 1, 1704: 1, 1705: 1, 1739: 1, 1738: 1, 1989: 1, 1995: 1, 1030: 1, 613: 1, 1740: 1, 1053: 1, 1054: 1, 718: 1, 1533: 1, 1534: 1, 1544: 1, 1853: 1, 1250: 1, 1013: 1, 1026: 1, 1457: 1, 609: 1, 224: 1, 225: 1, 226: 1, 227: 1, 302: 1, 314: 1, 319: 1, 322: 1, 326: 1, 327: 1, 328: 1, 330: 1, 332: 1, 351: 1, 352: 1, 738: 1, 741: 1, 967: 1, 1286: 1, 1287: 1, 1288: 1, 1572: 1, 380: 1, 1835: 1, 202: 1, 204: 1, 205: 1, 207: 1, 219: 1, 220: 1, 221: 1, 222: 1, 223: 1, 15: 1, 13: 1, 684: 1, 1047: 1, 1048: 1, 1821: 1, 387: 1, 388: 1, 408: 1, 409: 1, 410: 1, 411: 1, 1784: 1, 248: 1, 1459: 1, 1462: 1, 932: 1, 41: 1, 42: 1, 72: 1, 92: 1, 141: 1, 149: 1, 173: 1, 168: 1, 1178: 1, 1189: 1, 1192: 1, 1200: 1, 1201: 1, 1202: 1, 1203: 1, 1204: 1, 1205: 1, 1206: 1, 1209: 1, 1916: 1, 1919: 1, 1920: 1, 1927: 1, 1928: 1, 1934: 1, 1945: 1, 1941: 1, 1947: 1, 2047: 1, 2043: 1, 827: 1, 828: 1, 575: 1, 576: 1, 579: 1, 580: 1, 2010: 1, 1734: 1, 1735: 1, 1847: 1, 1893: 1, 636: 1, 650: 1, 649: 1, 1027: 1, 836: 1, 837: 1, 842: 1, 1713: 1, 1723: 1, 1724: 1, 1084: 1, 1379: 1, 1380: 1, 750: 1, 862: 1, 864: 1, 865: 1, 878: 1, 891: 1, 879: 1, 892: 1, 1973: 1, 1974: 1, 1979: 1, 1983: 1, 1907: 1, 1911: 1, 1830: 1, 719: 1, 720: 1, 1532: 1, 1537: 1, 1540: 1, 1535: 1, 1536: 1, 1545: 1, 1547: 1, 1549: 1, 393: 1, 1012: 1, 1456: 1, 598: 1, 602: 1, 1710: 1, 20: 1, 8: 1, 699: 1, 623: 1, 618: 1, 619: 1, 685: 1, 686: 1, 683: 1, 988: 1, 1050: 1, 1488: 1, 1822: 1, 389: 1, 1950: 1})\n",
      "****************************************************************************************************\n",
      "Label encoding of:  Vehicle_class\n",
      "Counter({'SUV - SMALL': 1217, 'MID-SIZE': 1133, 'COMPACT': 1022, 'SUV - STANDARD': 735, 'FULL-SIZE': 639, 'SUBCOMPACT': 606, 'PICKUP TRUCK - STANDARD': 538, 'TWO-SEATER': 460, 'MINICOMPACT': 326, 'STATION WAGON - SMALL': 252, 'PICKUP TRUCK - SMALL': 159, 'MINIVAN': 80, 'SPECIAL PURPOSE VEHICLE': 77, 'VAN - PASSENGER': 66, 'STATION WAGON - MID-SIZE': 53, 'VAN - CARGO': 22})\n",
      "Counter({11: 1217, 2: 1133, 0: 1022, 12: 735, 1: 639, 10: 606, 6: 538, 13: 460, 3: 326, 9: 252, 5: 159, 4: 80, 7: 77, 15: 66, 8: 53, 14: 22})\n",
      "****************************************************************************************************\n",
      "Label encoding of:  Transmission\n",
      "Counter({'AS6': 1324, 'AS8': 1211, 'Manual': 1094, 'A6': 789, 'A8': 490, 'AM7': 445, 'A9': 339, 'AS7': 319, 'Continously Variable': 295, 'AS10': 168, 'Automatic': 149, 'AM6': 132, 'AV7': 118, 'AV6': 113, 'M7': 91, 'AS9': 77, 'AM8': 62, 'A7': 53, 'AV8': 39, 'A10': 31, 'Automatic with Select Shift': 28, 'AV10': 11, 'AM5': 4, 'AM9': 3})\n",
      "Counter({11: 1324, 13: 1211, 23: 1094, 1: 789, 3: 490, 7: 445, 4: 339, 12: 319, 21: 295, 10: 168, 19: 149, 6: 132, 17: 118, 16: 113, 22: 91, 14: 77, 8: 62, 2: 53, 18: 39, 0: 31, 20: 28, 15: 11, 5: 4, 9: 3})\n",
      "****************************************************************************************************\n",
      "Label encoding of:  Fuel_Type\n",
      "Counter({'Regular Gasoline': 3637, 'Premium Gasoline': 3202, 'Ethanol': 370, 'Diesel': 175, 'Natural Gas': 1})\n",
      "Counter({4: 3637, 3: 3202, 1: 370, 0: 175, 2: 1})\n",
      "****************************************************************************************************\n"
     ]
    }
   ],
   "source": [
    "# Label Encoding\n",
    "from sklearn.preprocessing import LabelEncoder\n",
    "x='*'\n",
    "for i in cat:\n",
    "    print(\"Label encoding of: \",i)\n",
    "    LE=LabelEncoder()\n",
    "    print(c(data[i]))\n",
    "    data[i]=LE.fit_transform(data[i])\n",
    "    print(c(data[i]))\n",
    "    print(x*100)"
   ]
  },
  {
   "cell_type": "code",
   "execution_count": 31,
   "metadata": {},
   "outputs": [
    {
     "data": {
      "text/plain": [
       "<AxesSubplot:xlabel='Make', ylabel='CO2_Emissions'>"
      ]
     },
     "execution_count": 31,
     "metadata": {},
     "output_type": "execute_result"
    },
    {
     "data": {
      "image/png": "[encoded data removed]",
      "text/plain": [
       "<Figure size 1440x432 with 1 Axes>"
      ]
     },
     "metadata": {
      "needs_background": "light"
     },
     "output_type": "display_data"
    }
   ],
   "source": [
    "# Data Visualization\n",
    "m=data.groupby(['Make'])['CO2_Emissions'].mean().sort_values()[:20].reset_index()\n",
    "plt.figure(figsize=(20,6))\n",
    "sns.barplot(x=\"Make\",y=\"CO2_Emissions\",data=m)"
   ]
  },
  {
   "cell_type": "code",
   "execution_count": 33,
   "metadata": {},
   "outputs": [
    {
     "data": {
      "text/plain": [
       "<AxesSubplot:xlabel='Vehicle_class', ylabel='CO2_Emissions'>"
      ]
     },
     "execution_count": 33,
     "metadata": {},
     "output_type": "execute_result"
    },
    {
     "data": {
      "image/png": "[encoded data removed]",
      "text/plain": [
       "<Figure size 1440x432 with 1 Axes>"
      ]
     },
     "metadata": {
      "needs_background": "light"
     },
     "output_type": "display_data"
    }
   ],
   "source": [
    "p=data.groupby(['Vehicle_class'])['CO2_Emissions'].mean().sort_values(ascending=False)[:20].reset_index()\n",
    "plt.figure(figsize=(20,6))\n",
    "sns.barplot(x=\"Vehicle_class\",y=\"CO2_Emissions\",data=p)"
   ]
  },
  {
   "cell_type": "code",
   "execution_count": 34,
   "metadata": {},
   "outputs": [
    {
     "data": {
      "image/png": "[encoded data removed]",
      "text/plain": [
       "<Figure size 1152x1152 with 2 Axes>"
      ]
     },
     "metadata": {
      "needs_background": "light"
     },
     "output_type": "display_data"
    }
   ],
   "source": [
    "#Correlation\n",
    "corr=data.corr()\n",
    "plt.subplots(figsize=(16,16));\n",
    "sns.heatmap(corr,annot=True, square=True)\n",
    "plt.title(\"Correlation\")\n",
    "plt.tight_layout()\n",
    "plt.show()"
   ]
  },
  {
   "cell_type": "code",
   "execution_count": null,
   "metadata": {},
   "outputs": [],
   "source": [
    "# Splitting the data"
   ]
  },
  {
   "cell_type": "code",
   "execution_count": 17,
   "metadata": {},
   "outputs": [
    {
     "data": {
      "text/html": [
       "<div>\n",
       "<style scoped>\n",
       "    .dataframe tbody tr th:only-of-type {\n",
       "        vertical-align: middle;\n",
       "    }\n",
       "\n",
       "    .dataframe tbody tr th {\n",
       "        vertical-align: top;\n",
       "    }\n",
       "\n",
       "    .dataframe thead th {\n",
       "        text-align: right;\n",
       "    }\n",
       "</style>\n",
       "<table border=\"1\" class=\"dataframe\">\n",
       "  <thead>\n",
       "    <tr style=\"text-align: right;\">\n",
       "      <th></th>\n",
       "      <th>Make</th>\n",
       "      <th>Vehicle_class</th>\n",
       "      <th>Engine_Size</th>\n",
       "      <th>Cylinders</th>\n",
       "      <th>Transmission</th>\n",
       "      <th>Fuel_Type</th>\n",
       "      <th>Fuel_Consumption_City</th>\n",
       "      <th>Fuel_Consumption_Hwy</th>\n",
       "      <th>Fuel_Consumption_Comb(mpg)</th>\n",
       "    </tr>\n",
       "  </thead>\n",
       "  <tbody>\n",
       "    <tr>\n",
       "      <th>0</th>\n",
       "      <td>0</td>\n",
       "      <td>0</td>\n",
       "      <td>2.0</td>\n",
       "      <td>4</td>\n",
       "      <td>20</td>\n",
       "      <td>3</td>\n",
       "      <td>9.9</td>\n",
       "      <td>6.7</td>\n",
       "      <td>33</td>\n",
       "    </tr>\n",
       "    <tr>\n",
       "      <th>1</th>\n",
       "      <td>0</td>\n",
       "      <td>0</td>\n",
       "      <td>2.4</td>\n",
       "      <td>4</td>\n",
       "      <td>23</td>\n",
       "      <td>3</td>\n",
       "      <td>11.2</td>\n",
       "      <td>7.7</td>\n",
       "      <td>29</td>\n",
       "    </tr>\n",
       "    <tr>\n",
       "      <th>2</th>\n",
       "      <td>0</td>\n",
       "      <td>0</td>\n",
       "      <td>1.5</td>\n",
       "      <td>4</td>\n",
       "      <td>17</td>\n",
       "      <td>3</td>\n",
       "      <td>6.0</td>\n",
       "      <td>5.8</td>\n",
       "      <td>48</td>\n",
       "    </tr>\n",
       "    <tr>\n",
       "      <th>3</th>\n",
       "      <td>0</td>\n",
       "      <td>11</td>\n",
       "      <td>3.5</td>\n",
       "      <td>6</td>\n",
       "      <td>11</td>\n",
       "      <td>3</td>\n",
       "      <td>12.7</td>\n",
       "      <td>9.1</td>\n",
       "      <td>25</td>\n",
       "    </tr>\n",
       "    <tr>\n",
       "      <th>4</th>\n",
       "      <td>0</td>\n",
       "      <td>11</td>\n",
       "      <td>3.5</td>\n",
       "      <td>6</td>\n",
       "      <td>11</td>\n",
       "      <td>3</td>\n",
       "      <td>12.1</td>\n",
       "      <td>8.7</td>\n",
       "      <td>27</td>\n",
       "    </tr>\n",
       "    <tr>\n",
       "      <th>...</th>\n",
       "      <td>...</td>\n",
       "      <td>...</td>\n",
       "      <td>...</td>\n",
       "      <td>...</td>\n",
       "      <td>...</td>\n",
       "      <td>...</td>\n",
       "      <td>...</td>\n",
       "      <td>...</td>\n",
       "      <td>...</td>\n",
       "    </tr>\n",
       "    <tr>\n",
       "      <th>7380</th>\n",
       "      <td>41</td>\n",
       "      <td>11</td>\n",
       "      <td>2.0</td>\n",
       "      <td>4</td>\n",
       "      <td>13</td>\n",
       "      <td>3</td>\n",
       "      <td>10.7</td>\n",
       "      <td>7.7</td>\n",
       "      <td>30</td>\n",
       "    </tr>\n",
       "    <tr>\n",
       "      <th>7381</th>\n",
       "      <td>41</td>\n",
       "      <td>11</td>\n",
       "      <td>2.0</td>\n",
       "      <td>4</td>\n",
       "      <td>13</td>\n",
       "      <td>3</td>\n",
       "      <td>11.2</td>\n",
       "      <td>8.3</td>\n",
       "      <td>29</td>\n",
       "    </tr>\n",
       "    <tr>\n",
       "      <th>7382</th>\n",
       "      <td>41</td>\n",
       "      <td>11</td>\n",
       "      <td>2.0</td>\n",
       "      <td>4</td>\n",
       "      <td>13</td>\n",
       "      <td>3</td>\n",
       "      <td>11.7</td>\n",
       "      <td>8.6</td>\n",
       "      <td>27</td>\n",
       "    </tr>\n",
       "    <tr>\n",
       "      <th>7383</th>\n",
       "      <td>41</td>\n",
       "      <td>12</td>\n",
       "      <td>2.0</td>\n",
       "      <td>4</td>\n",
       "      <td>13</td>\n",
       "      <td>3</td>\n",
       "      <td>11.2</td>\n",
       "      <td>8.3</td>\n",
       "      <td>29</td>\n",
       "    </tr>\n",
       "    <tr>\n",
       "      <th>7384</th>\n",
       "      <td>41</td>\n",
       "      <td>12</td>\n",
       "      <td>2.0</td>\n",
       "      <td>4</td>\n",
       "      <td>13</td>\n",
       "      <td>3</td>\n",
       "      <td>12.2</td>\n",
       "      <td>8.7</td>\n",
       "      <td>26</td>\n",
       "    </tr>\n",
       "  </tbody>\n",
       "</table>\n",
       "<p>7385 rows × 9 columns</p>\n",
       "</div>"
      ],
      "text/plain": [
       "      Make  Vehicle_class  Engine_Size  Cylinders  Transmission  Fuel_Type  \\\n",
       "0        0              0          2.0          4            20          3   \n",
       "1        0              0          2.4          4            23          3   \n",
       "2        0              0          1.5          4            17          3   \n",
       "3        0             11          3.5          6            11          3   \n",
       "4        0             11          3.5          6            11          3   \n",
       "...    ...            ...          ...        ...           ...        ...   \n",
       "7380    41             11          2.0          4            13          3   \n",
       "7381    41             11          2.0          4            13          3   \n",
       "7382    41             11          2.0          4            13          3   \n",
       "7383    41             12          2.0          4            13          3   \n",
       "7384    41             12          2.0          4            13          3   \n",
       "\n",
       "      Fuel_Consumption_City  Fuel_Consumption_Hwy  Fuel_Consumption_Comb(mpg)  \n",
       "0                       9.9                   6.7                          33  \n",
       "1                      11.2                   7.7                          29  \n",
       "2                       6.0                   5.8                          48  \n",
       "3                      12.7                   9.1                          25  \n",
       "4                      12.1                   8.7                          27  \n",
       "...                     ...                   ...                         ...  \n",
       "7380                   10.7                   7.7                          30  \n",
       "7381                   11.2                   8.3                          29  \n",
       "7382                   11.7                   8.6                          27  \n",
       "7383                   11.2                   8.3                          29  \n",
       "7384                   12.2                   8.7                          26  \n",
       "\n",
       "[7385 rows x 9 columns]"
      ]
     },
     "execution_count": 17,
     "metadata": {},
     "output_type": "execute_result"
    }
   ],
   "source": [
    "x=data.drop(['Model.1','Fuel_Consumption_Comb(L/100 km)','CO2_Emissions'],axis=1)\n",
    "x"
   ]
  },
  {
   "cell_type": "code",
   "execution_count": 18,
   "metadata": {},
   "outputs": [
    {
     "data": {
      "text/html": [
       "<div>\n",
       "<style scoped>\n",
       "    .dataframe tbody tr th:only-of-type {\n",
       "        vertical-align: middle;\n",
       "    }\n",
       "\n",
       "    .dataframe tbody tr th {\n",
       "        vertical-align: top;\n",
       "    }\n",
       "\n",
       "    .dataframe thead th {\n",
       "        text-align: right;\n",
       "    }\n",
       "</style>\n",
       "<table border=\"1\" class=\"dataframe\">\n",
       "  <thead>\n",
       "    <tr style=\"text-align: right;\">\n",
       "      <th></th>\n",
       "      <th>CO2_Emissions</th>\n",
       "    </tr>\n",
       "  </thead>\n",
       "  <tbody>\n",
       "    <tr>\n",
       "      <th>0</th>\n",
       "      <td>196</td>\n",
       "    </tr>\n",
       "    <tr>\n",
       "      <th>1</th>\n",
       "      <td>221</td>\n",
       "    </tr>\n",
       "    <tr>\n",
       "      <th>2</th>\n",
       "      <td>136</td>\n",
       "    </tr>\n",
       "    <tr>\n",
       "      <th>3</th>\n",
       "      <td>255</td>\n",
       "    </tr>\n",
       "    <tr>\n",
       "      <th>4</th>\n",
       "      <td>244</td>\n",
       "    </tr>\n",
       "    <tr>\n",
       "      <th>...</th>\n",
       "      <td>...</td>\n",
       "    </tr>\n",
       "    <tr>\n",
       "      <th>7380</th>\n",
       "      <td>219</td>\n",
       "    </tr>\n",
       "    <tr>\n",
       "      <th>7381</th>\n",
       "      <td>232</td>\n",
       "    </tr>\n",
       "    <tr>\n",
       "      <th>7382</th>\n",
       "      <td>240</td>\n",
       "    </tr>\n",
       "    <tr>\n",
       "      <th>7383</th>\n",
       "      <td>232</td>\n",
       "    </tr>\n",
       "    <tr>\n",
       "      <th>7384</th>\n",
       "      <td>248</td>\n",
       "    </tr>\n",
       "  </tbody>\n",
       "</table>\n",
       "<p>7385 rows × 1 columns</p>\n",
       "</div>"
      ],
      "text/plain": [
       "      CO2_Emissions\n",
       "0               196\n",
       "1               221\n",
       "2               136\n",
       "3               255\n",
       "4               244\n",
       "...             ...\n",
       "7380            219\n",
       "7381            232\n",
       "7382            240\n",
       "7383            232\n",
       "7384            248\n",
       "\n",
       "[7385 rows x 1 columns]"
      ]
     },
     "execution_count": 18,
     "metadata": {},
     "output_type": "execute_result"
    }
   ],
   "source": [
    "y=data.iloc[:,11:]\n",
    "y"
   ]
  },
  {
   "cell_type": "code",
   "execution_count": 19,
   "metadata": {},
   "outputs": [
    {
     "data": {
      "text/plain": [
       "['columnmain2']"
      ]
     },
     "execution_count": 19,
     "metadata": {},
     "output_type": "execute_result"
    }
   ],
   "source": [
    "import joblib\n",
    "joblib.dump(LE,'columnmain2')"
   ]
  },
  {
   "cell_type": "code",
   "execution_count": 20,
   "metadata": {},
   "outputs": [
    {
     "name": "stdout",
     "output_type": "stream",
     "text": [
      "(5908, 9)\n",
      "(5908, 1)\n",
      "(1477, 9)\n",
      "(1477, 1)\n"
     ]
    }
   ],
   "source": [
    "x_train,x_test,y_train,y_test=train_test_split(x,y,test_size=0.2,random_state=0)\n",
    "print(x_train.shape)\n",
    "print(y_train.shape)\n",
    "print(x_test.shape)\n",
    "print(y_test.shape)"
   ]
  },
  {
   "cell_type": "code",
   "execution_count": 21,
   "metadata": {},
   "outputs": [
    {
     "data": {
      "text/plain": [
       "LinearRegression()"
      ]
     },
     "execution_count": 21,
     "metadata": {},
     "output_type": "execute_result"
    }
   ],
   "source": [
    "#Model building\n",
    "from sklearn.linear_model import LinearRegression\n",
    "lr = LinearRegression()\n",
    "lr.fit(x_train,y_train)"
   ]
  },
  {
   "cell_type": "code",
   "execution_count": 22,
   "metadata": {},
   "outputs": [],
   "source": [
    "# Predicting the values\n",
    "y_pred=lr.predict(x_test)"
   ]
  },
  {
   "cell_type": "code",
   "execution_count": 23,
   "metadata": {},
   "outputs": [
    {
     "data": {
      "text/plain": [
       "array([[247.6293238 ],\n",
       "       [182.00342886],\n",
       "       [255.70097562],\n",
       "       ...,\n",
       "       [240.63599994],\n",
       "       [143.91161184],\n",
       "       [233.0077236 ]])"
      ]
     },
     "execution_count": 23,
     "metadata": {},
     "output_type": "execute_result"
    }
   ],
   "source": [
    "y_pred"
   ]
  },
  {
   "cell_type": "code",
   "execution_count": 24,
   "metadata": {},
   "outputs": [],
   "source": [
    "from sklearn.metrics import r2_score\n",
    "accuracy = r2_score(y_test,y_pred)"
   ]
  },
  {
   "cell_type": "code",
   "execution_count": 25,
   "metadata": {},
   "outputs": [
    {
     "data": {
      "text/plain": [
       "0.9153030155062258"
      ]
     },
     "execution_count": 25,
     "metadata": {},
     "output_type": "execute_result"
    }
   ],
   "source": [
    "accuracy"
   ]
  },
  {
   "cell_type": "code",
   "execution_count": 26,
   "metadata": {},
   "outputs": [],
   "source": [
    "import pickle \n",
    "pickle.dump(lr,open('CO2.pkl','wb'))"
   ]
  },
  {
   "cell_type": "code",
   "execution_count": null,
   "metadata": {},
   "outputs": [],
   "source": []
  },
  {
   "cell_type": "code",
   "execution_count": null,
   "metadata": {},
   "outputs": [],
   "source": []
  },
  {
   "cell_type": "code",
   "execution_count": null,
   "metadata": {},
   "outputs": [],
   "source": []
  },
  {
   "cell_type": "code",
   "execution_count": null,
   "metadata": {},
   "outputs": [],
   "source": []
  },
  {
   "cell_type": "code",
   "execution_count": null,
   "metadata": {},
   "outputs": [],
   "source": []
  },
  {
   "cell_type": "code",
   "execution_count": null,
   "metadata": {},
   "outputs": [],
   "source": []
  },
  {
   "cell_type": "code",
   "execution_count": null,
   "metadata": {},
   "outputs": [],
   "source": []
  },
  {
   "cell_type": "code",
   "execution_count": null,
   "metadata": {},
   "outputs": [],
   "source": []
  },
  {
   "cell_type": "code",
   "execution_count": null,
   "metadata": {},
   "outputs": [],
   "source": []
  },
  {
   "cell_type": "code",
   "execution_count": null,
   "metadata": {},
   "outputs": [],
   "source": []
  },
  {
   "cell_type": "code",
   "execution_count": null,
   "metadata": {},
   "outputs": [],
   "source": []
  },
  {
   "cell_type": "code",
   "execution_count": null,
   "metadata": {},
   "outputs": [],
   "source": []
  },
  {
   "cell_type": "code",
   "execution_count": null,
   "metadata": {},
   "outputs": [],
   "source": []
  },
  {
   "cell_type": "code",
   "execution_count": null,
   "metadata": {},
   "outputs": [],
   "source": []
  },
  {
   "cell_type": "code",
   "execution_count": null,
   "metadata": {},
   "outputs": [],
   "source": []
  },
  {
   "cell_type": "code",
   "execution_count": null,
   "metadata": {},
   "outputs": [],
   "source": []
  },
  {
   "cell_type": "code",
   "execution_count": null,
   "metadata": {},
   "outputs": [],
   "source": []
  },
  {
   "cell_type": "code",
   "execution_count": null,
   "metadata": {},
   "outputs": [],
   "source": []
  },
  {
   "cell_type": "code",
   "execution_count": null,
   "metadata": {},
   "outputs": [],
   "source": []
  },
  {
   "cell_type": "code",
   "execution_count": null,
   "metadata": {},
   "outputs": [],
   "source": []
  },
  {
   "cell_type": "code",
   "execution_count": null,
   "metadata": {},
   "outputs": [],
   "source": []
  },
  {
   "cell_type": "code",
   "execution_count": null,
   "metadata": {},
   "outputs": [],
   "source": []
  },
  {
   "cell_type": "code",
   "execution_count": null,
   "metadata": {},
   "outputs": [],
   "source": []
  },
  {
   "cell_type": "code",
   "execution_count": null,
   "metadata": {},
   "outputs": [],
   "source": []
  },
  {
   "cell_type": "code",
   "execution_count": null,
   "metadata": {},
   "outputs": [],
   "source": []
  },
  {
   "cell_type": "code",
   "execution_count": null,
   "metadata": {},
   "outputs": [],
   "source": []
  },
  {
   "cell_type": "code",
   "execution_count": null,
   "metadata": {},
   "outputs": [],
   "source": []
  },
  {
   "cell_type": "code",
   "execution_count": null,
   "metadata": {},
   "outputs": [],
   "source": []
  },
  {
   "cell_type": "code",
   "execution_count": null,
   "metadata": {},
   "outputs": [],
   "source": []
  },
  {
   "cell_type": "code",
   "execution_count": null,
   "metadata": {},
   "outputs": [],
   "source": []
  },
  {
   "cell_type": "code",
   "execution_count": null,
   "metadata": {},
   "outputs": [],
   "source": []
  },
  {
   "cell_type": "code",
   "execution_count": null,
   "metadata": {},
   "outputs": [],
   "source": []
  },
  {
   "cell_type": "code",
   "execution_count": null,
   "metadata": {},
   "outputs": [],
   "source": []
  },
  {
   "cell_type": "code",
   "execution_count": null,
   "metadata": {},
   "outputs": [],
   "source": []
  },
  {
   "cell_type": "code",
   "execution_count": null,
   "metadata": {},
   "outputs": [],
   "source": []
  },
  {
   "cell_type": "code",
   "execution_count": null,
   "metadata": {},
   "outputs": [],
   "source": []
  },
  {
   "cell_type": "code",
   "execution_count": null,
   "metadata": {},
   "outputs": [],
   "source": []
  },
  {
   "cell_type": "code",
   "execution_count": null,
   "metadata": {},
   "outputs": [],
   "source": []
  },
  {
   "cell_type": "code",
   "execution_count": null,
   "metadata": {},
   "outputs": [],
   "source": []
  },
  {
   "cell_type": "code",
   "execution_count": null,
   "metadata": {},
   "outputs": [],
   "source": []
  },
  {
   "cell_type": "code",
   "execution_count": null,
   "metadata": {},
   "outputs": [],
   "source": []
  },
  {
   "cell_type": "code",
   "execution_count": null,
   "metadata": {},
   "outputs": [],
   "source": []
  },
  {
   "cell_type": "code",
   "execution_count": null,
   "metadata": {},
   "outputs": [],
   "source": []
  },
  {
   "cell_type": "code",
   "execution_count": null,
   "metadata": {},
   "outputs": [],
   "source": []
  },
  {
   "cell_type": "code",
   "execution_count": null,
   "metadata": {},
   "outputs": [],
   "source": []
  },
  {
   "cell_type": "code",
   "execution_count": null,
   "metadata": {},
   "outputs": [],
   "source": []
  },
  {
   "cell_type": "code",
   "execution_count": null,
   "metadata": {},
   "outputs": [],
   "source": []
  },
  {
   "cell_type": "code",
   "execution_count": null,
   "metadata": {},
   "outputs": [],
   "source": []
  },
  {
   "cell_type": "code",
   "execution_count": null,
   "metadata": {},
   "outputs": [],
   "source": []
  },
  {
   "cell_type": "code",
   "execution_count": null,
   "metadata": {},
   "outputs": [],
   "source": []
  },
  {
   "cell_type": "code",
   "execution_count": null,
   "metadata": {},
   "outputs": [],
   "source": []
  },
  {
   "cell_type": "code",
   "execution_count": null,
   "metadata": {},
   "outputs": [],
   "source": []
  },
  {
   "cell_type": "code",
   "execution_count": null,
   "metadata": {},
   "outputs": [],
   "source": []
  },
  {
   "cell_type": "code",
   "execution_count": null,
   "metadata": {},
   "outputs": [],
   "source": []
  },
  {
   "cell_type": "code",
   "execution_count": null,
   "metadata": {},
   "outputs": [],
   "source": []
  },
  {
   "cell_type": "code",
   "execution_count": null,
   "metadata": {},
   "outputs": [],
   "source": []
  },
  {
   "cell_type": "code",
   "execution_count": null,
   "metadata": {},
   "outputs": [],
   "source": []
  },
  {
   "cell_type": "code",
   "execution_count": null,
   "metadata": {},
   "outputs": [],
   "source": []
  },
  {
   "cell_type": "code",
   "execution_count": null,
   "metadata": {},
   "outputs": [],
   "source": []
  },
  {
   "cell_type": "code",
   "execution_count": null,
   "metadata": {},
   "outputs": [],
   "source": []
  },
  {
   "cell_type": "code",
   "execution_count": null,
   "metadata": {},
   "outputs": [],
   "source": []
  },
  {
   "cell_type": "code",
   "execution_count": null,
   "metadata": {},
   "outputs": [],
   "source": []
  },
  {
   "cell_type": "code",
   "execution_count": null,
   "metadata": {},
   "outputs": [],
   "source": []
  },
  {
   "cell_type": "code",
   "execution_count": null,
   "metadata": {},
   "outputs": [],
   "source": []
  },
  {
   "cell_type": "code",
   "execution_count": null,
   "metadata": {},
   "outputs": [],
   "source": []
  },
  {
   "cell_type": "code",
   "execution_count": null,
   "metadata": {},
   "outputs": [],
   "source": []
  },
  {
   "cell_type": "code",
   "execution_count": null,
   "metadata": {},
   "outputs": [],
   "source": []
  },
  {
   "cell_type": "code",
   "execution_count": null,
   "metadata": {},
   "outputs": [],
   "source": []
  },
  {
   "cell_type": "code",
   "execution_count": null,
   "metadata": {},
   "outputs": [],
   "source": []
  },
  {
   "cell_type": "code",
   "execution_count": null,
   "metadata": {},
   "outputs": [],
   "source": []
  },
  {
   "cell_type": "code",
   "execution_count": null,
   "metadata": {},
   "outputs": [],
   "source": []
  },
  {
   "cell_type": "code",
   "execution_count": null,
   "metadata": {},
   "outputs": [],
   "source": []
  },
  {
   "cell_type": "code",
   "execution_count": null,
   "metadata": {},
   "outputs": [],
   "source": []
  },
  {
   "cell_type": "code",
   "execution_count": null,
   "metadata": {},
   "outputs": [],
   "source": []
  },
  {
   "cell_type": "code",
   "execution_count": null,
   "metadata": {},
   "outputs": [],
   "source": []
  },
  {
   "cell_type": "code",
   "execution_count": null,
   "metadata": {},
   "outputs": [],
   "source": []
  },
  {
   "cell_type": "code",
   "execution_count": null,
   "metadata": {},
   "outputs": [],
   "source": []
  },
  {
   "cell_type": "code",
   "execution_count": null,
   "metadata": {},
   "outputs": [],
   "source": []
  },
  {
   "cell_type": "code",
   "execution_count": null,
   "metadata": {},
   "outputs": [],
   "source": []
  },
  {
   "cell_type": "code",
   "execution_count": null,
   "metadata": {},
   "outputs": [],
   "source": []
  },
  {
   "cell_type": "code",
   "execution_count": null,
   "metadata": {},
   "outputs": [],
   "source": []
  },
  {
   "cell_type": "code",
   "execution_count": null,
   "metadata": {},
   "outputs": [],
   "source": []
  }
 ],
 "metadata": {
  "kernelspec": {
   "display_name": "Python 3",
   "language": "python",
   "name": "python3"
  },
  "language_info": {
   "codemirror_mode": {
    "name": "ipython",
    "version": 3
   },
   "file_extension": ".py",
   "mimetype": "text/x-python",
   "name": "python",
   "nbconvert_exporter": "python",
   "pygments_lexer": "ipython3",
   "version": "3.8.5"
  }
 },
 "nbformat": 4,
 "nbformat_minor": 4
}
